{
 "cells": [
  {
   "cell_type": "code",
   "execution_count": 1,
   "id": "e61635e3",
   "metadata": {},
   "outputs": [
    {
     "name": "stdout",
     "output_type": "stream",
     "text": [
      "<class 'pandas.core.frame.DataFrame'>\n",
      "RangeIndex: 541909 entries, 0 to 541908\n",
      "Data columns (total 9 columns):\n",
      " #   Column       Non-Null Count   Dtype  \n",
      "---  ------       --------------   -----  \n",
      " 0   InvoiceNo    541909 non-null  object \n",
      " 1   StockCode    541909 non-null  object \n",
      " 2   Description  540455 non-null  object \n",
      " 3   Quantity     541909 non-null  int64  \n",
      " 4   InvoiceDate  541909 non-null  object \n",
      " 5   UnitPrice    541909 non-null  float64\n",
      " 6   CustomerID   406829 non-null  float64\n",
      " 7   Country      541909 non-null  object \n",
      " 8   Unnamed: 8   0 non-null       float64\n",
      "dtypes: float64(3), int64(1), object(5)\n",
      "memory usage: 37.2+ MB\n"
     ]
    }
   ],
   "source": [
    "%run \"part01_preprocessing.ipynb\""
   ]
  },
  {
   "cell_type": "code",
   "execution_count": 2,
   "id": "2660f196",
   "metadata": {},
   "outputs": [],
   "source": [
    "from wordcloud import WordCloud, STOPWORDS, ImageColorGenerator\n",
    "from PIL import Image"
   ]
  },
  {
   "cell_type": "code",
   "execution_count": 3,
   "id": "53ed571d",
   "metadata": {},
   "outputs": [
    {
     "data": {
      "text/plain": [
       "'WHITE HANGING HEART T-LIGHT HOLDER'"
      ]
     },
     "execution_count": 3,
     "metadata": {},
     "output_type": "execute_result"
    }
   ],
   "source": [
    "description = data.dropna(subset=['Description'], axis=0)['Description']\n",
    "description.iloc[220]"
   ]
  },
  {
   "cell_type": "code",
   "execution_count": 4,
   "id": "3e7e514a",
   "metadata": {},
   "outputs": [
    {
     "name": "stdout",
     "output_type": "stream",
     "text": [
      "Total Words: 11253798\n"
     ]
    }
   ],
   "source": [
    "all_description = \" \". join( s for s in description)\n",
    "print(\"Total Words: {}\".format(len(all_description)))"
   ]
  },
  {
   "cell_type": "code",
   "execution_count": 5,
   "id": "d620798e",
   "metadata": {},
   "outputs": [],
   "source": [
    "stopwords = set(STOPWORDS)\n",
    "wordcloud = WordCloud(stopwords=stopwords, background_color='black', width=2400, height=1800).generate(all_description)"
   ]
  },
  {
   "cell_type": "code",
   "execution_count": 6,
   "id": "b153ef65",
   "metadata": {},
   "outputs": [
    {
     "ename": "NameError",
     "evalue": "name 'plt' is not defined",
     "output_type": "error",
     "traceback": [
      "\u001b[1;31m---------------------------------------------------------------------------\u001b[0m",
      "\u001b[1;31mNameError\u001b[0m                                 Traceback (most recent call last)",
      "\u001b[1;32m~\\AppData\\Local\\Temp/ipykernel_12064/1436306899.py\u001b[0m in \u001b[0;36m<module>\u001b[1;34m\u001b[0m\n\u001b[1;32m----> 1\u001b[1;33m \u001b[0mfig\u001b[0m\u001b[1;33m,\u001b[0m\u001b[0max\u001b[0m \u001b[1;33m=\u001b[0m \u001b[0mplt\u001b[0m\u001b[1;33m.\u001b[0m\u001b[0msubplots\u001b[0m\u001b[1;33m(\u001b[0m\u001b[0mfigsize\u001b[0m\u001b[1;33m=\u001b[0m\u001b[1;33m(\u001b[0m\u001b[1;36m18\u001b[0m\u001b[1;33m,\u001b[0m\u001b[1;36m12\u001b[0m\u001b[1;33m)\u001b[0m\u001b[1;33m)\u001b[0m\u001b[1;33m\u001b[0m\u001b[1;33m\u001b[0m\u001b[0m\n\u001b[0m\u001b[0;32m      2\u001b[0m \u001b[0max\u001b[0m\u001b[1;33m.\u001b[0m\u001b[0mimshow\u001b[0m\u001b[1;33m(\u001b[0m\u001b[0mwordcloud\u001b[0m\u001b[1;33m,\u001b[0m \u001b[0minterpolation\u001b[0m\u001b[1;33m=\u001b[0m\u001b[1;34m'bilinear'\u001b[0m\u001b[1;33m)\u001b[0m\u001b[1;33m\u001b[0m\u001b[1;33m\u001b[0m\u001b[0m\n\u001b[0;32m      3\u001b[0m \u001b[0max\u001b[0m\u001b[1;33m.\u001b[0m\u001b[0mset_axis_off\u001b[0m\u001b[1;33m(\u001b[0m\u001b[1;33m)\u001b[0m\u001b[1;33m\u001b[0m\u001b[1;33m\u001b[0m\u001b[0m\n\u001b[0;32m      4\u001b[0m \u001b[0mplt\u001b[0m\u001b[1;33m.\u001b[0m\u001b[0mimshow\u001b[0m\u001b[1;33m(\u001b[0m\u001b[0mwordcloud\u001b[0m\u001b[1;33m)\u001b[0m\u001b[1;33m;\u001b[0m\u001b[1;33m\u001b[0m\u001b[1;33m\u001b[0m\u001b[0m\n",
      "\u001b[1;31mNameError\u001b[0m: name 'plt' is not defined"
     ]
    }
   ],
   "source": [
    "fig,ax = plt.subplots(figsize=(18,12))\n",
    "ax.imshow(wordcloud, interpolation='bilinear')\n",
    "ax.set_axis_off()\n",
    "plt.imshow(wordcloud);"
   ]
  },
  {
   "cell_type": "code",
   "execution_count": null,
   "id": "035e41a0",
   "metadata": {},
   "outputs": [],
   "source": [
    "data.sample(5)"
   ]
  },
  {
   "cell_type": "code",
   "execution_count": null,
   "id": "6056d7b0",
   "metadata": {},
   "outputs": [],
   "source": [
    "import regex"
   ]
  },
  {
   "cell_type": "code",
   "execution_count": null,
   "id": "4d36f1b8",
   "metadata": {},
   "outputs": [],
   "source": [
    "df_letter_invoices = data[data['InvoiceNo'].apply(lambda x: bool(regex.search('[^0-9]+',x)))]\n",
    "\n",
    "print('Total number of invoices with letters: {}.'.format(len(df_letter_invoices)))\n",
    "print('Total number of negative quantity in invoices with letters: {}.'.format(len(df_letter_invoices[df_letter_invoices['Quantity'] < 0])))"
   ]
  },
  {
   "cell_type": "code",
   "execution_count": null,
   "id": "8dca3820",
   "metadata": {},
   "outputs": [],
   "source": [
    "df_letter_stock = data[data['StockCode'].apply(lambda x: bool(regex.search('[^0-9]+',x)))]"
   ]
  },
  {
   "cell_type": "code",
   "execution_count": null,
   "id": "f1fb2ee9",
   "metadata": {},
   "outputs": [],
   "source": [
    "df_letter_stock.sample(10)"
   ]
  },
  {
   "cell_type": "code",
   "execution_count": null,
   "id": "015a1f09",
   "metadata": {},
   "outputs": [],
   "source": [
    "print('Total number of StockCode with letters: {}.'.format(len(df_letter_stock)))\n",
    "print('Total number of negative quantity in StockCode with letters: {}.'.format(len(df_letter_stock[df_letter_stock['Quantity'] < 0])))"
   ]
  },
  {
   "cell_type": "code",
   "execution_count": null,
   "id": "238f2f25",
   "metadata": {},
   "outputs": [],
   "source": [
    "df_letter_invoices.sample(5)"
   ]
  },
  {
   "cell_type": "code",
   "execution_count": null,
   "id": "500ced9a",
   "metadata": {},
   "outputs": [],
   "source": [
    "list_special_codes = data[data['StockCode'].str.contains('^[a-zA-Z]+', regex=True)]['StockCode'].unique()\n",
    "list_special_codes"
   ]
  },
  {
   "cell_type": "code",
   "execution_count": null,
   "id": "41fb386e",
   "metadata": {},
   "outputs": [],
   "source": [
    "# list_special_codes = data[data['InvoiceNo'].str.contains('^[a-zA-Z]+', regex=True)]['InvoiceNo'].unique()\n",
    "# list_special_codes"
   ]
  },
  {
   "cell_type": "code",
   "execution_count": null,
   "id": "ba9fed60",
   "metadata": {},
   "outputs": [],
   "source": [
    "# df_letter_invoices[\"IsCancelled\"]=np.where(df_letter_invoices.InvoiceNo.apply(lambda l: l[0]==\"C\"), True, False)\n",
    "# df_letter_invoices.IsCancelled.value_counts() / df_letter_invoices.shape[0] * 100"
   ]
  },
  {
   "cell_type": "code",
   "execution_count": null,
   "id": "d68ea924",
   "metadata": {},
   "outputs": [],
   "source": [
    "#trash = data[data['StockCode'].apply(lambda x: bool(regex.search('^[a-zA-Z]+$',x)))]['StockCode']#.unique()"
   ]
  },
  {
   "cell_type": "code",
   "execution_count": null,
   "id": "4695f8f4",
   "metadata": {},
   "outputs": [],
   "source": [
    "data.loc[(data['CustomerID'] == 14096)]"
   ]
  },
  {
   "cell_type": "code",
   "execution_count": null,
   "id": "0cd48a2f",
   "metadata": {},
   "outputs": [],
   "source": [
    "data_canceled=data.loc[(data['Quantity'] < 0)]\n",
    "data_canceled"
   ]
  },
  {
   "cell_type": "code",
   "execution_count": null,
   "id": "4a909d2b",
   "metadata": {},
   "outputs": [],
   "source": [
    "#C536391\n",
    "\n",
    "data.loc[(data['CustomerID'] == 17548)]"
   ]
  },
  {
   "cell_type": "code",
   "execution_count": null,
   "id": "852820d9",
   "metadata": {},
   "outputs": [],
   "source": []
  },
  {
   "cell_type": "code",
   "execution_count": null,
   "id": "59fcf199",
   "metadata": {},
   "outputs": [],
   "source": []
  }
 ],
 "metadata": {
  "kernelspec": {
   "display_name": "Python 3 (ipykernel)",
   "language": "python",
   "name": "python3"
  },
  "language_info": {
   "codemirror_mode": {
    "name": "ipython",
    "version": 3
   },
   "file_extension": ".py",
   "mimetype": "text/x-python",
   "name": "python",
   "nbconvert_exporter": "python",
   "pygments_lexer": "ipython3",
   "version": "3.9.7"
  }
 },
 "nbformat": 4,
 "nbformat_minor": 5
}
