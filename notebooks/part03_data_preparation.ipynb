{
 "cells": [
  {
   "cell_type": "code",
   "execution_count": 20,
   "id": "060bef86",
   "metadata": {},
   "outputs": [
    {
     "name": "stdout",
     "output_type": "stream",
     "text": [
      "<class 'pandas.core.frame.DataFrame'>\n",
      "RangeIndex: 541909 entries, 0 to 541908\n",
      "Data columns (total 9 columns):\n",
      " #   Column       Non-Null Count   Dtype  \n",
      "---  ------       --------------   -----  \n",
      " 0   InvoiceNo    541909 non-null  object \n",
      " 1   StockCode    541909 non-null  object \n",
      " 2   Description  540455 non-null  object \n",
      " 3   Quantity     541909 non-null  int64  \n",
      " 4   InvoiceDate  541909 non-null  object \n",
      " 5   UnitPrice    541909 non-null  float64\n",
      " 6   CustomerID   406829 non-null  float64\n",
      " 7   Country      541909 non-null  object \n",
      " 8   Unnamed: 8   0 non-null       float64\n",
      "dtypes: float64(3), int64(1), object(5)\n",
      "memory usage: 37.2+ MB\n"
     ]
    }
   ],
   "source": [
    "%run \"part01_preprocessing.ipynb\""
   ]
  },
  {
   "cell_type": "markdown",
   "id": "4f43da81",
   "metadata": {},
   "source": [
    "# Data Preparation"
   ]
  },
  {
   "cell_type": "code",
   "execution_count": 21,
   "id": "793467a7",
   "metadata": {},
   "outputs": [],
   "source": [
    "from matplotlib import pyplot as plt\n",
    "import seaborn as sns\n",
    "%matplotlib inline\n",
    "\n",
    "from sklearn.preprocessing import StandardScaler, MinMaxScaler, RobustScaler, PowerTransformer\n",
    "from sklearn.decomposition import PCA\n",
    "from umap.umap_ import UMAP\n",
    "from sklearn.manifold import TSNE\n",
    "from sklearn.preprocessing import FunctionTransformer\n",
    "from sklearn.pipeline import Pipeline"
   ]
  },
  {
   "cell_type": "markdown",
   "id": "6a5c8e6d",
   "metadata": {},
   "source": [
    "### Content\n",
    "\n",
    "* **Data Preparation**\n",
    "    - Normalization\n",
    "    - Standardization\n",
    "    - Feature Selection\n",
    "    - Dealing with Outliers"
   ]
  },
  {
   "cell_type": "code",
   "execution_count": 22,
   "id": "5ee389c1",
   "metadata": {},
   "outputs": [],
   "source": [
    "data_prep = data_client.copy()"
   ]
  },
  {
   "cell_type": "code",
   "execution_count": 23,
   "id": "b468979a",
   "metadata": {},
   "outputs": [
    {
     "data": {
      "text/plain": [
       "GrossRevenueTotal    0\n",
       "RecencyDays          0\n",
       "Frequency            0\n",
       "dtype: int64"
      ]
     },
     "execution_count": 23,
     "metadata": {},
     "output_type": "execute_result"
    }
   ],
   "source": [
    "data_prep.isna().sum()"
   ]
  },
  {
   "cell_type": "code",
   "execution_count": 24,
   "id": "9f8b7a75",
   "metadata": {},
   "outputs": [],
   "source": [
    "#sns.pairplot(data_prep, aspect=1.5);"
   ]
  },
  {
   "cell_type": "code",
   "execution_count": 25,
   "id": "7e4f8aa1",
   "metadata": {},
   "outputs": [
    {
     "data": {
      "text/plain": [
       "GrossRevenueTotal    21.585393\n",
       "Frequency            12.045707\n",
       "RecencyDays           1.249082\n",
       "dtype: float64"
      ]
     },
     "execution_count": 25,
     "metadata": {},
     "output_type": "execute_result"
    }
   ],
   "source": [
    "log_columns = data_prep.skew().sort_values(ascending=False)\n",
    "log_columns = log_columns.loc[log_columns > 0.75]\n",
    "log_columns"
   ]
  },
  {
   "cell_type": "code",
   "execution_count": 26,
   "id": "a1cfeb9f",
   "metadata": {},
   "outputs": [],
   "source": [
    "# The log transformations\n",
    "for col in log_columns.index:\n",
    "    data_prep[col] = np.log1p(data_prep[col])"
   ]
  },
  {
   "cell_type": "code",
   "execution_count": 27,
   "id": "6901dc2f",
   "metadata": {},
   "outputs": [],
   "source": [
    "#ss = StandardScaler()\n",
    "#rs = RobustScaler()\n",
    "#pt = PowerTransformer()\n",
    "\n",
    "# MinmmaxScaler provides better resutls mainly because is robbust to outliers\n",
    "mms = MinMaxScaler()\n",
    "\n",
    "\n",
    "for col in data_prep.columns:\n",
    "    data_prep[col] = mms.fit_transform(data_prep[[col]]).squeeze()"
   ]
  },
  {
   "cell_type": "code",
   "execution_count": 28,
   "id": "bf4a9583",
   "metadata": {},
   "outputs": [],
   "source": [
    "# from sklearn.preprocessing import FunctionTransformer\n",
    "# from sklearn.pipeline import Pipeline\n",
    "\n",
    "# # The custom NumPy log transformer\n",
    "# log_transformer = FunctionTransformer(np.log1p)\n",
    "# estimators = [('log1p', log_transformer), ('mms', MinMaxScaler())]\n",
    "# pipeline = Pipeline(estimators)\n",
    "# data_pipe = pipeline.fit_transform(data_client)\n",
    "# np.allclose(data_pipe, data_prep)"
   ]
  },
  {
   "cell_type": "code",
   "execution_count": 29,
   "id": "b21a8ef0",
   "metadata": {},
   "outputs": [],
   "source": [
    "features = ['GrossRevenueTotal', 'RecencyDays', 'Frequency'] # We will use all features\n",
    "X = data_prep[features].copy() "
   ]
  },
  {
   "cell_type": "code",
   "execution_count": 30,
   "id": "4e3377ba",
   "metadata": {},
   "outputs": [],
   "source": [
    "#sns.pairplot(X, aspect=1.5);"
   ]
  },
  {
   "cell_type": "markdown",
   "id": "d4efdc2f",
   "metadata": {},
   "source": [
    "## Dimensonality Reduction - Variable Spaces"
   ]
  },
  {
   "cell_type": "code",
   "execution_count": 31,
   "id": "37c257b2",
   "metadata": {},
   "outputs": [],
   "source": [
    "clusters_results = X.copy()"
   ]
  },
  {
   "cell_type": "code",
   "execution_count": 17,
   "id": "58a2f572",
   "metadata": {},
   "outputs": [],
   "source": [
    "# Dimensionality Reduction using technique UMAP \n",
    "umap = UMAP(random_state=3456)\n",
    "umap_embedding = umap.fit_transform(X)\n",
    "\n",
    "# X,y axis representation for UMAP\n",
    "clusters_results['umap_x'] = umap_embedding[:,0]\n",
    "clusters_results['umap_y'] = umap_embedding[:,1]"
   ]
  },
  {
   "cell_type": "code",
   "execution_count": 18,
   "id": "af4520c5",
   "metadata": {},
   "outputs": [
    {
     "name": "stderr",
     "output_type": "stream",
     "text": [
      "C:\\Users\\Alysson\\anaconda3\\lib\\site-packages\\sklearn\\manifold\\_t_sne.py:991: FutureWarning: The PCA initialization in TSNE will change to have the standard deviation of PC1 equal to 1e-4 in 1.2. This will ensure better convergence.\n",
      "  warnings.warn(\n"
     ]
    }
   ],
   "source": [
    "# Dimensionality Reduction using technique TSNE\n",
    "tsne = TSNE(n_components=2, init='pca', learning_rate='auto', n_jobs=-1, random_state=3456)\n",
    "tsne_embedding = tsne.fit_transform(X)\n",
    "\n",
    "# X,y axis representation using TSNE\n",
    "clusters_results['tsne_x'] = tsne_embedding[:,0]\n",
    "clusters_results['tsne_y'] = tsne_embedding[:,1]"
   ]
  },
  {
   "cell_type": "code",
   "execution_count": null,
   "id": "657fdd75",
   "metadata": {},
   "outputs": [],
   "source": []
  }
 ],
 "metadata": {
  "kernelspec": {
   "display_name": "Python 3 (ipykernel)",
   "language": "python",
   "name": "python3"
  },
  "language_info": {
   "codemirror_mode": {
    "name": "ipython",
    "version": 3
   },
   "file_extension": ".py",
   "mimetype": "text/x-python",
   "name": "python",
   "nbconvert_exporter": "python",
   "pygments_lexer": "ipython3",
   "version": "3.9.7"
  }
 },
 "nbformat": 4,
 "nbformat_minor": 5
}
