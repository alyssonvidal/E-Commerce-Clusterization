{
 "cells": [
  {
   "cell_type": "code",
   "execution_count": 45,
   "id": "060bef86",
   "metadata": {},
   "outputs": [
    {
     "data": {
      "text/html": [
       "\n",
       "            <style>\n",
       "\n",
       "            h1 {\n",
       "            background-color: SteelBlue;\n",
       "            color: white;\n",
       "            padding: 15px 15px;\n",
       "            text-align: center;\n",
       "            font-family: Arial, Helvetica, sans-serif;\n",
       "            border-radius:10px 10px;\n",
       "            }\n",
       "\n",
       "            h2 {\n",
       "            background-color: CadetBlue;\n",
       "            color: white;\n",
       "            padding: 10px 10px;\n",
       "            text-align: center;\n",
       "            font-family: Arial, Helvetica, sans-serif\n",
       "            border-radius:10px 10px;\n",
       "            }\n",
       "\n",
       "            </style>            \n",
       "    "
      ],
      "text/plain": [
       "<IPython.core.display.HTML object>"
      ]
     },
     "metadata": {},
     "output_type": "display_data"
    },
    {
     "name": "stdout",
     "output_type": "stream",
     "text": [
      "<class 'pandas.core.frame.DataFrame'>\n",
      "RangeIndex: 541909 entries, 0 to 541908\n",
      "Data columns (total 9 columns):\n",
      " #   Column       Non-Null Count   Dtype  \n",
      "---  ------       --------------   -----  \n",
      " 0   InvoiceNo    541909 non-null  object \n",
      " 1   StockCode    541909 non-null  object \n",
      " 2   Description  540455 non-null  object \n",
      " 3   Quantity     541909 non-null  int64  \n",
      " 4   InvoiceDate  541909 non-null  object \n",
      " 5   UnitPrice    541909 non-null  float64\n",
      " 6   CustomerID   406829 non-null  float64\n",
      " 7   Country      541909 non-null  object \n",
      " 8   Unnamed: 8   0 non-null       float64\n",
      "dtypes: float64(3), int64(1), object(5)\n",
      "memory usage: 37.2+ MB\n"
     ]
    }
   ],
   "source": [
    "%run \"part01_preprocessing.ipynb\""
   ]
  },
  {
   "cell_type": "markdown",
   "id": "6a5c8e6d",
   "metadata": {},
   "source": [
    "# Content\n",
    "\n",
    "**Data Preparation**\n",
    "   - Normalization\n",
    "   - Standardization\n",
    "   - Dimensonality\n",
    "   - Feature Selection\n",
    "   - Dealing with Outliers"
   ]
  },
  {
   "cell_type": "markdown",
   "id": "4f43da81",
   "metadata": {},
   "source": [
    "# Data Preparation"
   ]
  },
  {
   "cell_type": "code",
   "execution_count": 46,
   "id": "793467a7",
   "metadata": {},
   "outputs": [],
   "source": [
    "from matplotlib import pyplot as plt\n",
    "import seaborn as sns\n",
    "%matplotlib inline\n",
    "\n",
    "from sklearn.preprocessing import StandardScaler, MinMaxScaler, RobustScaler, PowerTransformer\n",
    "from sklearn.decomposition import PCA\n",
    "from umap.umap_ import UMAP\n",
    "from sklearn.manifold import TSNE"
   ]
  },
  {
   "cell_type": "code",
   "execution_count": 47,
   "id": "5ee389c1",
   "metadata": {},
   "outputs": [],
   "source": [
    "data_prep = transactions_per_customer.copy()"
   ]
  },
  {
   "cell_type": "code",
   "execution_count": 48,
   "id": "b468979a",
   "metadata": {},
   "outputs": [
    {
     "data": {
      "text/plain": [
       "GrossRevenue     0\n",
       "Recency          0\n",
       "Frequency        0\n",
       "Products         0\n",
       "Items            0\n",
       "Country          0\n",
       "AvarageTicket    0\n",
       "dtype: int64"
      ]
     },
     "execution_count": 48,
     "metadata": {},
     "output_type": "execute_result"
    }
   ],
   "source": [
    "data_prep.isna().sum()"
   ]
  },
  {
   "cell_type": "code",
   "execution_count": 49,
   "id": "8c8f7009",
   "metadata": {},
   "outputs": [],
   "source": [
    "data_prep=data_prep.dropna()"
   ]
  },
  {
   "cell_type": "markdown",
   "id": "cab89781",
   "metadata": {},
   "source": [
    "## Enconding"
   ]
  },
  {
   "cell_type": "code",
   "execution_count": 51,
   "id": "c2550e11",
   "metadata": {},
   "outputs": [],
   "source": [
    "categorical_features = ['Country']\n",
    "numerical_features = ['GrossRevenue', 'Items', 'AvarageTicket', \"Products\", 'Frequency', \"Recency\"]\n",
    "\n",
    "#data_prep[\"Country\"] = [0 if i == 'Norway' else 1 for i in data_prep[\"Country\"]]\n",
    "\n",
    "default_features = data_prep.columns\n",
    "selected_features = ['GrossRevenue','Recency','Frequency']\n",
    "\n",
    "data_prep=data_prep[selected_features].copy() "
   ]
  },
  {
   "cell_type": "markdown",
   "id": "0688f43f",
   "metadata": {},
   "source": [
    "## Normalization"
   ]
  },
  {
   "cell_type": "code",
   "execution_count": 53,
   "id": "9f8b7a75",
   "metadata": {},
   "outputs": [],
   "source": [
    "#sns.pairplot(data_prep, aspect=1.5);"
   ]
  },
  {
   "cell_type": "code",
   "execution_count": 54,
   "id": "7e4f8aa1",
   "metadata": {},
   "outputs": [
    {
     "data": {
      "text/plain": [
       "GrossRevenue    21.526419\n",
       "Frequency       11.401617\n",
       "Recency          1.265656\n",
       "dtype: float64"
      ]
     },
     "execution_count": 54,
     "metadata": {},
     "output_type": "execute_result"
    }
   ],
   "source": [
    "log_columns = data_prep[selected_features].skew().sort_values(ascending=False)\n",
    "log_columns = log_columns.loc[log_columns > 0.75]\n",
    "log_columns"
   ]
  },
  {
   "cell_type": "code",
   "execution_count": 56,
   "id": "a1cfeb9f",
   "metadata": {},
   "outputs": [],
   "source": [
    "# The log transformations\n",
    "for col in log_columns.index:\n",
    "    data_prep[col] = np.log1p(data_prep[col])"
   ]
  },
  {
   "cell_type": "markdown",
   "id": "933b5941",
   "metadata": {},
   "source": [
    "## Standardization"
   ]
  },
  {
   "cell_type": "code",
   "execution_count": 57,
   "id": "6901dc2f",
   "metadata": {},
   "outputs": [],
   "source": [
    "#ss = StandardScaler()\n",
    "#rs = RobustScaler()\n",
    "#pt = PowerTransformer()\n",
    "\n",
    "# MinmmaxScaler provides better resutls mainly because is robbust to outliers\n",
    "mms = MinMaxScaler()\n",
    "\n",
    "for col in data_prep[selected_features]:\n",
    "    data_prep[col] = mms.fit_transform(data_prep[[col]]).squeeze()"
   ]
  },
  {
   "cell_type": "code",
   "execution_count": 58,
   "id": "4e3377ba",
   "metadata": {},
   "outputs": [],
   "source": [
    "#sns.pairplot(X, aspect=1.5);"
   ]
  },
  {
   "cell_type": "markdown",
   "id": "7eaf883d",
   "metadata": {},
   "source": [
    "## Feature Selection"
   ]
  },
  {
   "cell_type": "code",
   "execution_count": 66,
   "id": "38f284ef",
   "metadata": {},
   "outputs": [],
   "source": [
    "X = data_prep[selected_features].copy() "
   ]
  },
  {
   "cell_type": "markdown",
   "id": "d4efdc2f",
   "metadata": {},
   "source": [
    "## Dimensonality Reduction"
   ]
  },
  {
   "cell_type": "code",
   "execution_count": 67,
   "id": "37c257b2",
   "metadata": {},
   "outputs": [],
   "source": [
    "clusters_results = X.copy()"
   ]
  },
  {
   "cell_type": "code",
   "execution_count": 68,
   "id": "58a2f572",
   "metadata": {},
   "outputs": [],
   "source": [
    "# Dimensionality Reduction(to 2D) using technique UMAP \n",
    "umap = UMAP(random_state=3456)\n",
    "umap_embedding = umap.fit_transform(X)\n",
    "\n",
    "# X,y axis representation for UMAP\n",
    "clusters_results['umap_x'] = umap_embedding[:,0]\n",
    "clusters_results['umap_y'] = umap_embedding[:,1]"
   ]
  },
  {
   "cell_type": "code",
   "execution_count": 69,
   "id": "8a227410",
   "metadata": {},
   "outputs": [],
   "source": [
    "# plt.figure(figsize=(7,4))\n",
    "# plt.title('UMAP', fontsize='14',fontweight='bold')\n",
    "#sns.scatterplot(data=clusters_results, x='umap_x', y='umap_y')"
   ]
  },
  {
   "cell_type": "code",
   "execution_count": 70,
   "id": "af4520c5",
   "metadata": {},
   "outputs": [],
   "source": [
    "# Dimensionality Reduction(to 2D) using technique TSNE\n",
    "tsne = TSNE(n_components=2, init='pca', learning_rate='auto', n_jobs=-1, random_state=3456)\n",
    "tsne_embedding = tsne.fit_transform(X)\n",
    "\n",
    "# X,y axis representation using TSNE\n",
    "clusters_results['tsne_x'] = tsne_embedding[:,0]\n",
    "clusters_results['tsne_y'] = tsne_embedding[:,1]"
   ]
  },
  {
   "cell_type": "code",
   "execution_count": 71,
   "id": "a9e4dec4",
   "metadata": {},
   "outputs": [],
   "source": [
    "# plt.figure(figsize=(7,4))\n",
    "# plt.title('UMAP', fontsize='14',fontweight='bold')\n",
    "#sns.scatterplot(data=clusters_results, x='tsne_x', y='tsne_y')"
   ]
  },
  {
   "cell_type": "markdown",
   "id": "ff74d751",
   "metadata": {},
   "source": [
    "## Feature Selection"
   ]
  },
  {
   "cell_type": "markdown",
   "id": "e87b2a70",
   "metadata": {},
   "source": [
    "The clustering algorithms do not have automated mechanisms to detect the best features, since in essence they only make groupings according to given variables, looking for similarities between them to form groups. Whether the groups formed are good or bad or have a good explanation for business problems is up to human beings to interpret this. As one of the objectives of this study is to compare the machine learning model with the statistical model, initially we will use the features \"GrossRevenueTotal, \"RecencyDays\", \"Frequency\" to make a more balanced comparison."
   ]
  },
  {
   "cell_type": "markdown",
   "id": "79bb5af0",
   "metadata": {},
   "source": [
    "## Dealing with Outliers"
   ]
  },
  {
   "cell_type": "markdown",
   "id": "faea1a95",
   "metadata": {},
   "source": [
    "Later we will use a clustering algorithm, DBScan, which, in addition to being a classifier, is also an outlier detector."
   ]
  },
  {
   "cell_type": "code",
   "execution_count": 72,
   "id": "82544af6",
   "metadata": {},
   "outputs": [
    {
     "data": {
      "text/html": [
       "<div>\n",
       "<style scoped>\n",
       "    .dataframe tbody tr th:only-of-type {\n",
       "        vertical-align: middle;\n",
       "    }\n",
       "\n",
       "    .dataframe tbody tr th {\n",
       "        vertical-align: top;\n",
       "    }\n",
       "\n",
       "    .dataframe thead th {\n",
       "        text-align: right;\n",
       "    }\n",
       "</style>\n",
       "<table border=\"1\" class=\"dataframe\">\n",
       "  <thead>\n",
       "    <tr style=\"text-align: right;\">\n",
       "      <th></th>\n",
       "      <th>GrossRevenue</th>\n",
       "      <th>Recency</th>\n",
       "      <th>Frequency</th>\n",
       "      <th>umap_x</th>\n",
       "      <th>umap_y</th>\n",
       "      <th>tsne_x</th>\n",
       "      <th>tsne_y</th>\n",
       "    </tr>\n",
       "    <tr>\n",
       "      <th>CustomerID</th>\n",
       "      <th></th>\n",
       "      <th></th>\n",
       "      <th></th>\n",
       "      <th></th>\n",
       "      <th></th>\n",
       "      <th></th>\n",
       "      <th></th>\n",
       "    </tr>\n",
       "  </thead>\n",
       "  <tbody>\n",
       "    <tr>\n",
       "      <th>12347</th>\n",
       "      <td>0.626986</td>\n",
       "      <td>0.132437</td>\n",
       "      <td>0.288816</td>\n",
       "      <td>-2.299536</td>\n",
       "      <td>-3.566794</td>\n",
       "      <td>54.697453</td>\n",
       "      <td>-23.716745</td>\n",
       "    </tr>\n",
       "    <tr>\n",
       "      <th>12348</th>\n",
       "      <td>0.528773</td>\n",
       "      <td>0.697519</td>\n",
       "      <td>0.190897</td>\n",
       "      <td>-4.051661</td>\n",
       "      <td>8.500636</td>\n",
       "      <td>7.008690</td>\n",
       "      <td>45.856831</td>\n",
       "    </tr>\n",
       "    <tr>\n",
       "      <th>12349</th>\n",
       "      <td>0.530027</td>\n",
       "      <td>0.439947</td>\n",
       "      <td>0.000000</td>\n",
       "      <td>6.949862</td>\n",
       "      <td>-0.962272</td>\n",
       "      <td>9.251925</td>\n",
       "      <td>-47.448906</td>\n",
       "    </tr>\n",
       "    <tr>\n",
       "      <th>12350</th>\n",
       "      <td>0.387159</td>\n",
       "      <td>0.964859</td>\n",
       "      <td>0.000000</td>\n",
       "      <td>17.407061</td>\n",
       "      <td>2.067133</td>\n",
       "      <td>-53.508801</td>\n",
       "      <td>-12.480809</td>\n",
       "    </tr>\n",
       "    <tr>\n",
       "      <th>12352</th>\n",
       "      <td>0.517389</td>\n",
       "      <td>0.562584</td>\n",
       "      <td>0.313355</td>\n",
       "      <td>-5.185906</td>\n",
       "      <td>5.693970</td>\n",
       "      <td>33.226147</td>\n",
       "      <td>41.026989</td>\n",
       "    </tr>\n",
       "    <tr>\n",
       "      <th>...</th>\n",
       "      <td>...</td>\n",
       "      <td>...</td>\n",
       "      <td>...</td>\n",
       "      <td>...</td>\n",
       "      <td>...</td>\n",
       "      <td>...</td>\n",
       "      <td>...</td>\n",
       "    </tr>\n",
       "    <tr>\n",
       "      <th>18280</th>\n",
       "      <td>0.343631</td>\n",
       "      <td>0.943499</td>\n",
       "      <td>0.000000</td>\n",
       "      <td>16.877010</td>\n",
       "      <td>3.908441</td>\n",
       "      <td>-59.632496</td>\n",
       "      <td>-23.558453</td>\n",
       "    </tr>\n",
       "    <tr>\n",
       "      <th>18281</th>\n",
       "      <td>0.272299</td>\n",
       "      <td>0.861874</td>\n",
       "      <td>0.000000</td>\n",
       "      <td>14.414660</td>\n",
       "      <td>4.827289</td>\n",
       "      <td>-56.932262</td>\n",
       "      <td>-39.103912</td>\n",
       "    </tr>\n",
       "    <tr>\n",
       "      <th>18282</th>\n",
       "      <td>0.341638</td>\n",
       "      <td>0.287379</td>\n",
       "      <td>0.144408</td>\n",
       "      <td>-0.478079</td>\n",
       "      <td>2.491563</td>\n",
       "      <td>20.828018</td>\n",
       "      <td>-9.063582</td>\n",
       "    </tr>\n",
       "    <tr>\n",
       "      <th>18283</th>\n",
       "      <td>0.562208</td>\n",
       "      <td>0.175072</td>\n",
       "      <td>0.445855</td>\n",
       "      <td>-3.442676</td>\n",
       "      <td>-3.381583</td>\n",
       "      <td>63.295494</td>\n",
       "      <td>-15.541344</td>\n",
       "    </tr>\n",
       "    <tr>\n",
       "      <th>18287</th>\n",
       "      <td>0.550729</td>\n",
       "      <td>0.590595</td>\n",
       "      <td>0.144408</td>\n",
       "      <td>-0.931404</td>\n",
       "      <td>8.780958</td>\n",
       "      <td>0.450999</td>\n",
       "      <td>23.805948</td>\n",
       "    </tr>\n",
       "  </tbody>\n",
       "</table>\n",
       "<p>4312 rows × 7 columns</p>\n",
       "</div>"
      ],
      "text/plain": [
       "            GrossRevenue   Recency  Frequency     umap_x    umap_y     tsne_x  \\\n",
       "CustomerID                                                                      \n",
       "12347           0.626986  0.132437   0.288816  -2.299536 -3.566794  54.697453   \n",
       "12348           0.528773  0.697519   0.190897  -4.051661  8.500636   7.008690   \n",
       "12349           0.530027  0.439947   0.000000   6.949862 -0.962272   9.251925   \n",
       "12350           0.387159  0.964859   0.000000  17.407061  2.067133 -53.508801   \n",
       "12352           0.517389  0.562584   0.313355  -5.185906  5.693970  33.226147   \n",
       "...                  ...       ...        ...        ...       ...        ...   \n",
       "18280           0.343631  0.943499   0.000000  16.877010  3.908441 -59.632496   \n",
       "18281           0.272299  0.861874   0.000000  14.414660  4.827289 -56.932262   \n",
       "18282           0.341638  0.287379   0.144408  -0.478079  2.491563  20.828018   \n",
       "18283           0.562208  0.175072   0.445855  -3.442676 -3.381583  63.295494   \n",
       "18287           0.550729  0.590595   0.144408  -0.931404  8.780958   0.450999   \n",
       "\n",
       "               tsne_y  \n",
       "CustomerID             \n",
       "12347      -23.716745  \n",
       "12348       45.856831  \n",
       "12349      -47.448906  \n",
       "12350      -12.480809  \n",
       "12352       41.026989  \n",
       "...               ...  \n",
       "18280      -23.558453  \n",
       "18281      -39.103912  \n",
       "18282       -9.063582  \n",
       "18283      -15.541344  \n",
       "18287       23.805948  \n",
       "\n",
       "[4312 rows x 7 columns]"
      ]
     },
     "execution_count": 72,
     "metadata": {},
     "output_type": "execute_result"
    }
   ],
   "source": [
    "clusters_results"
   ]
  },
  {
   "cell_type": "code",
   "execution_count": null,
   "id": "4fa97812",
   "metadata": {},
   "outputs": [],
   "source": []
  }
 ],
 "metadata": {
  "hide_input": false,
  "kernelspec": {
   "display_name": "Python 3 (ipykernel)",
   "language": "python",
   "name": "python3"
  },
  "language_info": {
   "codemirror_mode": {
    "name": "ipython",
    "version": 3
   },
   "file_extension": ".py",
   "mimetype": "text/x-python",
   "name": "python",
   "nbconvert_exporter": "python",
   "pygments_lexer": "ipython3",
   "version": "3.9.7"
  },
  "latex_envs": {
   "LaTeX_envs_menu_present": true,
   "autoclose": false,
   "autocomplete": true,
   "bibliofile": "biblio.bib",
   "cite_by": "apalike",
   "current_citInitial": 1,
   "eqLabelWithNumbers": true,
   "eqNumInitial": 1,
   "hotkeys": {
    "equation": "Ctrl-E",
    "itemize": "Ctrl-I"
   },
   "labels_anchors": false,
   "latex_user_defs": false,
   "report_style_numbering": false,
   "user_envs_cfg": false
  }
 },
 "nbformat": 4,
 "nbformat_minor": 5
}
