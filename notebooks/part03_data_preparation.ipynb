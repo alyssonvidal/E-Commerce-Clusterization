{
 "cells": [
  {
   "cell_type": "code",
   "execution_count": 73,
   "id": "060bef86",
   "metadata": {},
   "outputs": [
    {
     "name": "stdout",
     "output_type": "stream",
     "text": [
      "<class 'pandas.core.frame.DataFrame'>\n",
      "RangeIndex: 541909 entries, 0 to 541908\n",
      "Data columns (total 9 columns):\n",
      " #   Column       Non-Null Count   Dtype  \n",
      "---  ------       --------------   -----  \n",
      " 0   InvoiceNo    541909 non-null  object \n",
      " 1   StockCode    541909 non-null  object \n",
      " 2   Description  540455 non-null  object \n",
      " 3   Quantity     541909 non-null  int64  \n",
      " 4   InvoiceDate  541909 non-null  object \n",
      " 5   UnitPrice    541909 non-null  float64\n",
      " 6   CustomerID   406829 non-null  float64\n",
      " 7   Country      541909 non-null  object \n",
      " 8   Unnamed: 8   0 non-null       float64\n",
      "dtypes: float64(3), int64(1), object(5)\n",
      "memory usage: 37.2+ MB\n"
     ]
    }
   ],
   "source": [
    "%run \"part01_preprocessing.ipynb\""
   ]
  },
  {
   "cell_type": "code",
   "execution_count": 74,
   "id": "4232d6fb",
   "metadata": {},
   "outputs": [
    {
     "data": {
      "text/html": [
       "\n",
       "<style>\n",
       "\n",
       "h1 {\n",
       "    background-color: DarkSlateGray;\n",
       "    color: white;\n",
       "    padding: 15px 15px;\n",
       "    text-align: center;\n",
       "    font-family: Arial, Helvetica, sans-serif;\n",
       "    border-radius:10px 10px;\n",
       "}\n",
       "\n",
       "h2 {\n",
       "    background-color: CadetBlue;\n",
       "    color: white;\n",
       "    padding: 10px 10px;\n",
       "    text-align: center;\n",
       "    font-family: Arial, Helvetica, sans-serif\n",
       "    border-radius:10px 10px;\n",
       "}\n",
       "\n",
       "</style>\n"
      ],
      "text/plain": [
       "<IPython.core.display.HTML object>"
      ]
     },
     "execution_count": 74,
     "metadata": {},
     "output_type": "execute_result"
    }
   ],
   "source": [
    "HTML(\"\"\"\n",
    "<style>\n",
    "\n",
    "h1 {\n",
    "    background-color: DarkSlateGray;\n",
    "    color: white;\n",
    "    padding: 15px 15px;\n",
    "    text-align: center;\n",
    "    font-family: Arial, Helvetica, sans-serif;\n",
    "    border-radius:10px 10px;\n",
    "}\n",
    "\n",
    "h2 {\n",
    "    background-color: CadetBlue;\n",
    "    color: white;\n",
    "    padding: 10px 10px;\n",
    "    text-align: center;\n",
    "    font-family: Arial, Helvetica, sans-serif\n",
    "    border-radius:10px 10px;\n",
    "}\n",
    "\n",
    "</style>\n",
    "\"\"\")"
   ]
  },
  {
   "cell_type": "markdown",
   "id": "6a5c8e6d",
   "metadata": {},
   "source": [
    "# Content\n",
    "\n",
    "* **Data Preparation**\n",
    "    - Normalization\n",
    "    - Standardization\n",
    "    - Dimensonality\n",
    "    - Feature Selection\n",
    "    - Dealing with Outliers"
   ]
  },
  {
   "cell_type": "markdown",
   "id": "4f43da81",
   "metadata": {},
   "source": [
    "# Data Preparation"
   ]
  },
  {
   "cell_type": "code",
   "execution_count": 75,
   "id": "793467a7",
   "metadata": {},
   "outputs": [],
   "source": [
    "from matplotlib import pyplot as plt\n",
    "import seaborn as sns\n",
    "%matplotlib inline\n",
    "\n",
    "from sklearn.preprocessing import StandardScaler, MinMaxScaler, RobustScaler, PowerTransformer\n",
    "from sklearn.decomposition import PCA\n",
    "from umap.umap_ import UMAP\n",
    "from sklearn.manifold import TSNE"
   ]
  },
  {
   "cell_type": "code",
   "execution_count": 76,
   "id": "5ee389c1",
   "metadata": {},
   "outputs": [],
   "source": [
    "data_prep = data_client_resume.copy()"
   ]
  },
  {
   "cell_type": "code",
   "execution_count": 77,
   "id": "b468979a",
   "metadata": {},
   "outputs": [
    {
     "data": {
      "text/plain": [
       "GrossRevenueTotal    0\n",
       "RecencyDays          0\n",
       "Frequency            0\n",
       "dtype: int64"
      ]
     },
     "execution_count": 77,
     "metadata": {},
     "output_type": "execute_result"
    }
   ],
   "source": [
    "data_prep.isna().sum()"
   ]
  },
  {
   "cell_type": "markdown",
   "id": "0688f43f",
   "metadata": {},
   "source": [
    "## Normalization"
   ]
  },
  {
   "cell_type": "code",
   "execution_count": 78,
   "id": "9f8b7a75",
   "metadata": {},
   "outputs": [],
   "source": [
    "#sns.pairplot(data_prep, aspect=1.5);"
   ]
  },
  {
   "cell_type": "code",
   "execution_count": 79,
   "id": "7e4f8aa1",
   "metadata": {},
   "outputs": [
    {
     "data": {
      "text/plain": [
       "GrossRevenueTotal    21.585393\n",
       "Frequency            12.045707\n",
       "RecencyDays           1.249082\n",
       "dtype: float64"
      ]
     },
     "execution_count": 79,
     "metadata": {},
     "output_type": "execute_result"
    }
   ],
   "source": [
    "log_columns = data_prep.skew().sort_values(ascending=False)\n",
    "log_columns = log_columns.loc[log_columns > 0.75]\n",
    "log_columns"
   ]
  },
  {
   "cell_type": "code",
   "execution_count": 80,
   "id": "a1cfeb9f",
   "metadata": {},
   "outputs": [],
   "source": [
    "# The log transformations\n",
    "for col in log_columns.index:\n",
    "    data_prep[col] = np.log1p(data_prep[col])"
   ]
  },
  {
   "cell_type": "markdown",
   "id": "933b5941",
   "metadata": {},
   "source": [
    "## Standardization"
   ]
  },
  {
   "cell_type": "code",
   "execution_count": 81,
   "id": "6901dc2f",
   "metadata": {},
   "outputs": [],
   "source": [
    "#ss = StandardScaler()\n",
    "#rs = RobustScaler()\n",
    "#pt = PowerTransformer()\n",
    "\n",
    "# MinmmaxScaler provides better resutls mainly because is robbust to outliers\n",
    "mms = MinMaxScaler()\n",
    "\n",
    "for col in data_prep.columns:\n",
    "    data_prep[col] = mms.fit_transform(data_prep[[col]]).squeeze()"
   ]
  },
  {
   "cell_type": "code",
   "execution_count": 82,
   "id": "b21a8ef0",
   "metadata": {},
   "outputs": [],
   "source": [
    "features = ['GrossRevenueTotal', 'RecencyDays', 'Frequency'] # We will use all features\n",
    "X = data_prep[features].copy() "
   ]
  },
  {
   "cell_type": "code",
   "execution_count": 83,
   "id": "4e3377ba",
   "metadata": {},
   "outputs": [],
   "source": [
    "#sns.pairplot(X, aspect=1.5);"
   ]
  },
  {
   "cell_type": "markdown",
   "id": "d4efdc2f",
   "metadata": {},
   "source": [
    "## Dimensonality Reduction"
   ]
  },
  {
   "cell_type": "code",
   "execution_count": 84,
   "id": "37c257b2",
   "metadata": {},
   "outputs": [],
   "source": [
    "clusters_results = X.copy()"
   ]
  },
  {
   "cell_type": "code",
   "execution_count": 85,
   "id": "58a2f572",
   "metadata": {},
   "outputs": [],
   "source": [
    "# Dimensionality Reduction using technique UMAP \n",
    "umap = UMAP(random_state=3456)\n",
    "umap_embedding = umap.fit_transform(X)\n",
    "\n",
    "# X,y axis representation for UMAP\n",
    "clusters_results['umap_x'] = umap_embedding[:,0]\n",
    "clusters_results['umap_y'] = umap_embedding[:,1]"
   ]
  },
  {
   "cell_type": "code",
   "execution_count": 86,
   "id": "af4520c5",
   "metadata": {},
   "outputs": [],
   "source": [
    "# Dimensionality Reduction using technique TSNE\n",
    "tsne = TSNE(n_components=2, init='pca', learning_rate='auto', n_jobs=-1, random_state=3456)\n",
    "tsne_embedding = tsne.fit_transform(X)\n",
    "\n",
    "# X,y axis representation using TSNE\n",
    "clusters_results['tsne_x'] = tsne_embedding[:,0]\n",
    "clusters_results['tsne_y'] = tsne_embedding[:,1]"
   ]
  },
  {
   "cell_type": "code",
   "execution_count": 87,
   "id": "657fdd75",
   "metadata": {},
   "outputs": [
    {
     "data": {
      "text/html": [
       "<div>\n",
       "<style scoped>\n",
       "    .dataframe tbody tr th:only-of-type {\n",
       "        vertical-align: middle;\n",
       "    }\n",
       "\n",
       "    .dataframe tbody tr th {\n",
       "        vertical-align: top;\n",
       "    }\n",
       "\n",
       "    .dataframe thead th {\n",
       "        text-align: right;\n",
       "    }\n",
       "</style>\n",
       "<table border=\"1\" class=\"dataframe\">\n",
       "  <thead>\n",
       "    <tr style=\"text-align: right;\">\n",
       "      <th></th>\n",
       "      <th>GrossRevenueTotal</th>\n",
       "      <th>RecencyDays</th>\n",
       "      <th>Frequency</th>\n",
       "      <th>umap_x</th>\n",
       "      <th>umap_y</th>\n",
       "      <th>tsne_x</th>\n",
       "      <th>tsne_y</th>\n",
       "    </tr>\n",
       "    <tr>\n",
       "      <th>CustomerID</th>\n",
       "      <th></th>\n",
       "      <th></th>\n",
       "      <th></th>\n",
       "      <th></th>\n",
       "      <th></th>\n",
       "      <th></th>\n",
       "      <th></th>\n",
       "    </tr>\n",
       "  </thead>\n",
       "  <tbody>\n",
       "    <tr>\n",
       "      <th>17850</th>\n",
       "      <td>0.638772</td>\n",
       "      <td>0.999490</td>\n",
       "      <td>0.615003</td>\n",
       "      <td>16.587051</td>\n",
       "      <td>1.668091</td>\n",
       "      <td>13.421610</td>\n",
       "      <td>65.418365</td>\n",
       "    </tr>\n",
       "    <tr>\n",
       "      <th>13047</th>\n",
       "      <td>0.589531</td>\n",
       "      <td>0.535628</td>\n",
       "      <td>0.366301</td>\n",
       "      <td>16.904604</td>\n",
       "      <td>6.878082</td>\n",
       "      <td>54.411797</td>\n",
       "      <td>26.065199</td>\n",
       "    </tr>\n",
       "    <tr>\n",
       "      <th>12583</th>\n",
       "      <td>0.666699</td>\n",
       "      <td>0.132437</td>\n",
       "      <td>0.446811</td>\n",
       "      <td>14.819579</td>\n",
       "      <td>12.711712</td>\n",
       "      <td>63.986713</td>\n",
       "      <td>-15.090689</td>\n",
       "    </tr>\n",
       "    <tr>\n",
       "      <th>13748</th>\n",
       "      <td>0.482357</td>\n",
       "      <td>0.741637</td>\n",
       "      <td>0.236060</td>\n",
       "      <td>15.430046</td>\n",
       "      <td>1.299198</td>\n",
       "      <td>7.576268</td>\n",
       "      <td>55.761478</td>\n",
       "    </tr>\n",
       "    <tr>\n",
       "      <th>15100</th>\n",
       "      <td>0.445907</td>\n",
       "      <td>0.978449</td>\n",
       "      <td>0.148937</td>\n",
       "      <td>13.987630</td>\n",
       "      <td>-1.100407</td>\n",
       "      <td>-13.432817</td>\n",
       "      <td>58.237530</td>\n",
       "    </tr>\n",
       "    <tr>\n",
       "      <th>...</th>\n",
       "      <td>...</td>\n",
       "      <td>...</td>\n",
       "      <td>...</td>\n",
       "      <td>...</td>\n",
       "      <td>...</td>\n",
       "      <td>...</td>\n",
       "      <td>...</td>\n",
       "    </tr>\n",
       "    <tr>\n",
       "      <th>13436</th>\n",
       "      <td>0.339589</td>\n",
       "      <td>0.077471</td>\n",
       "      <td>0.000000</td>\n",
       "      <td>10.942719</td>\n",
       "      <td>15.811964</td>\n",
       "      <td>35.044922</td>\n",
       "      <td>-42.773659</td>\n",
       "    </tr>\n",
       "    <tr>\n",
       "      <th>15520</th>\n",
       "      <td>0.390068</td>\n",
       "      <td>0.077471</td>\n",
       "      <td>0.000000</td>\n",
       "      <td>11.051549</td>\n",
       "      <td>15.759743</td>\n",
       "      <td>35.283615</td>\n",
       "      <td>-42.299320</td>\n",
       "    </tr>\n",
       "    <tr>\n",
       "      <th>13298</th>\n",
       "      <td>0.394328</td>\n",
       "      <td>0.077471</td>\n",
       "      <td>0.000000</td>\n",
       "      <td>11.029748</td>\n",
       "      <td>15.771748</td>\n",
       "      <td>35.297661</td>\n",
       "      <td>-42.264164</td>\n",
       "    </tr>\n",
       "    <tr>\n",
       "      <th>14569</th>\n",
       "      <td>0.352641</td>\n",
       "      <td>0.077471</td>\n",
       "      <td>0.000000</td>\n",
       "      <td>10.963229</td>\n",
       "      <td>15.804261</td>\n",
       "      <td>35.128387</td>\n",
       "      <td>-42.635925</td>\n",
       "    </tr>\n",
       "    <tr>\n",
       "      <th>12713</th>\n",
       "      <td>0.472254</td>\n",
       "      <td>0.000000</td>\n",
       "      <td>0.000000</td>\n",
       "      <td>11.920942</td>\n",
       "      <td>15.306820</td>\n",
       "      <td>43.228798</td>\n",
       "      <td>-38.899593</td>\n",
       "    </tr>\n",
       "  </tbody>\n",
       "</table>\n",
       "<p>4316 rows × 7 columns</p>\n",
       "</div>"
      ],
      "text/plain": [
       "            GrossRevenueTotal  RecencyDays  Frequency     umap_x     umap_y  \\\n",
       "CustomerID                                                                    \n",
       "17850                0.638772     0.999490   0.615003  16.587051   1.668091   \n",
       "13047                0.589531     0.535628   0.366301  16.904604   6.878082   \n",
       "12583                0.666699     0.132437   0.446811  14.819579  12.711712   \n",
       "13748                0.482357     0.741637   0.236060  15.430046   1.299198   \n",
       "15100                0.445907     0.978449   0.148937  13.987630  -1.100407   \n",
       "...                       ...          ...        ...        ...        ...   \n",
       "13436                0.339589     0.077471   0.000000  10.942719  15.811964   \n",
       "15520                0.390068     0.077471   0.000000  11.051549  15.759743   \n",
       "13298                0.394328     0.077471   0.000000  11.029748  15.771748   \n",
       "14569                0.352641     0.077471   0.000000  10.963229  15.804261   \n",
       "12713                0.472254     0.000000   0.000000  11.920942  15.306820   \n",
       "\n",
       "               tsne_x     tsne_y  \n",
       "CustomerID                        \n",
       "17850       13.421610  65.418365  \n",
       "13047       54.411797  26.065199  \n",
       "12583       63.986713 -15.090689  \n",
       "13748        7.576268  55.761478  \n",
       "15100      -13.432817  58.237530  \n",
       "...               ...        ...  \n",
       "13436       35.044922 -42.773659  \n",
       "15520       35.283615 -42.299320  \n",
       "13298       35.297661 -42.264164  \n",
       "14569       35.128387 -42.635925  \n",
       "12713       43.228798 -38.899593  \n",
       "\n",
       "[4316 rows x 7 columns]"
      ]
     },
     "execution_count": 87,
     "metadata": {},
     "output_type": "execute_result"
    }
   ],
   "source": [
    "clusters_results"
   ]
  },
  {
   "cell_type": "markdown",
   "id": "ff74d751",
   "metadata": {},
   "source": [
    "## Feature Selection"
   ]
  },
  {
   "cell_type": "markdown",
   "id": "e87b2a70",
   "metadata": {},
   "source": [
    "The clustering algorithms do not have automated mechanisms to detect the best features, since in essence they only make groupings according to given variables, looking for similarities between them to form groups. Whether the groups formed are good or bad or have a good explanation for business problems is up to human beings to interpret this. As one of the objectives of this study is to compare the machine learning model with the statistical model, initially we will use the features \"GrossRevenueTotal, \"RecencyDays\", \"Frequency\" to make a more balanced comparison."
   ]
  },
  {
   "cell_type": "markdown",
   "id": "79bb5af0",
   "metadata": {},
   "source": [
    "## Dealing with Outliers"
   ]
  },
  {
   "cell_type": "markdown",
   "id": "faea1a95",
   "metadata": {},
   "source": [
    "Later we will use a clustering algorithm, DBScan, which, in addition to being a classifier, is also an outlier detector."
   ]
  }
 ],
 "metadata": {
  "kernelspec": {
   "display_name": "Python 3 (ipykernel)",
   "language": "python",
   "name": "python3"
  },
  "language_info": {
   "codemirror_mode": {
    "name": "ipython",
    "version": 3
   },
   "file_extension": ".py",
   "mimetype": "text/x-python",
   "name": "python",
   "nbconvert_exporter": "python",
   "pygments_lexer": "ipython3",
   "version": "3.9.7"
  }
 },
 "nbformat": 4,
 "nbformat_minor": 5
}
