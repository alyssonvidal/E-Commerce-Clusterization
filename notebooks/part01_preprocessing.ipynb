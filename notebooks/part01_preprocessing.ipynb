{
 "cells": [
  {
   "cell_type": "markdown",
   "id": "08b72a48",
   "metadata": {},
   "source": [
    "# Content\n",
    "     \n",
    "**Data Preprocessing**  \n",
    "   - Settings\n",
    "   - Loading Data\n",
    "   - Glossary\n",
    "   - Dealing with missing Values\n",
    "   - Fixing Data Types\n",
    "   - Dealing Bad Values\n",
    "   - Feature Engieenier"
   ]
  },
  {
   "cell_type": "markdown",
   "id": "66f54a81",
   "metadata": {},
   "source": [
    "# Data Preprossesing"
   ]
  },
  {
   "cell_type": "code",
   "execution_count": 6,
   "id": "75eb0d8d",
   "metadata": {},
   "outputs": [],
   "source": [
    "import numpy as np\n",
    "import pandas as pd\n",
    "import datetime as dt\n",
    "from datetime import datetime, date, timedelta\n",
    "from tabulate import tabulate\n",
    "from IPython.display import HTML\n",
    "import warnings\n",
    "warnings.simplefilter(action='ignore', category=FutureWarning)"
   ]
  },
  {
   "cell_type": "code",
   "execution_count": 7,
   "id": "664b8688",
   "metadata": {},
   "outputs": [],
   "source": [
    "def menu_settings():\n",
    "    \n",
    "    display(HTML(\"\"\"\n",
    "            <style>\n",
    "\n",
    "            h1 {\n",
    "            background-color: Green;\n",
    "            color: white;\n",
    "            padding: 15px 15px;\n",
    "            text-align: center;\n",
    "            font-family: Arial, Helvetica, sans-serif;\n",
    "            border-radius:10px 10px;\n",
    "            }\n",
    "\n",
    "            h2 {\n",
    "            background-color: CadetBlue;\n",
    "            color: white;\n",
    "            padding: 10px 10px;\n",
    "            text-align: center;\n",
    "            font-family: Arial, Helvetica, sans-serif\n",
    "            border-radius:10px 10px;\n",
    "            }\n",
    "\n",
    "            </style>            \n",
    "    \"\"\"))"
   ]
  },
  {
   "cell_type": "code",
   "execution_count": 8,
   "id": "32372b46",
   "metadata": {},
   "outputs": [
    {
     "data": {
      "text/html": [
       "\n",
       "            <style>\n",
       "\n",
       "            h1 {\n",
       "            background-color: Green;\n",
       "            color: white;\n",
       "            padding: 15px 15px;\n",
       "            text-align: center;\n",
       "            font-family: Arial, Helvetica, sans-serif;\n",
       "            border-radius:10px 10px;\n",
       "            }\n",
       "\n",
       "            h2 {\n",
       "            background-color: CadetBlue;\n",
       "            color: white;\n",
       "            padding: 10px 10px;\n",
       "            text-align: center;\n",
       "            font-family: Arial, Helvetica, sans-serif\n",
       "            border-radius:10px 10px;\n",
       "            }\n",
       "\n",
       "            </style>            \n",
       "    "
      ],
      "text/plain": [
       "<IPython.core.display.HTML object>"
      ]
     },
     "metadata": {},
     "output_type": "display_data"
    }
   ],
   "source": [
    "menu_settings()"
   ]
  },
  {
   "cell_type": "markdown",
   "id": "e8218e66",
   "metadata": {},
   "source": [
    "## Loading Data"
   ]
  },
  {
   "cell_type": "code",
   "execution_count": 184,
   "id": "c319f3e5",
   "metadata": {},
   "outputs": [],
   "source": [
    "data_raw = pd.read_csv('../data/ecommerce.csv', encoding='iso-8859-1')\n",
    "data = data_raw.copy()"
   ]
  },
  {
   "cell_type": "code",
   "execution_count": 185,
   "id": "466bcf33",
   "metadata": {},
   "outputs": [
    {
     "name": "stdout",
     "output_type": "stream",
     "text": [
      "<class 'pandas.core.frame.DataFrame'>\n",
      "RangeIndex: 541909 entries, 0 to 541908\n",
      "Data columns (total 9 columns):\n",
      " #   Column       Non-Null Count   Dtype  \n",
      "---  ------       --------------   -----  \n",
      " 0   InvoiceNo    541909 non-null  object \n",
      " 1   StockCode    541909 non-null  object \n",
      " 2   Description  540455 non-null  object \n",
      " 3   Quantity     541909 non-null  int64  \n",
      " 4   InvoiceDate  541909 non-null  object \n",
      " 5   UnitPrice    541909 non-null  float64\n",
      " 6   CustomerID   406829 non-null  float64\n",
      " 7   Country      541909 non-null  object \n",
      " 8   Unnamed: 8   0 non-null       float64\n",
      "dtypes: float64(3), int64(1), object(5)\n",
      "memory usage: 37.2+ MB\n"
     ]
    }
   ],
   "source": [
    "data.info()"
   ]
  },
  {
   "cell_type": "markdown",
   "id": "03203e45",
   "metadata": {},
   "source": [
    "## Glossary"
   ]
  },
  {
   "cell_type": "code",
   "execution_count": 186,
   "id": "02ff3180",
   "metadata": {},
   "outputs": [],
   "source": [
    "glossary = [['Columns', 'Meaning'],\n",
    "            ['InvoiceNo', 'Unique Identifier of each transaction'],\n",
    "            ['StockCode', 'Internal item code'],\n",
    "            ['Description', 'Item description/resume'],\n",
    "            ['Quantity', 'Quantity of each item per transaction'],\n",
    "            ['InvoiceDate', 'The day of transaction'],\n",
    "            ['UnitPrice', 'Product price per unit'],\n",
    "            ['CustomerID', 'Unique Identifier of Customer'],\n",
    "            ['Country', 'Customer\\'s country of residence']\n",
    "           ]\n",
    "#print(tabulate(glossary, headers='firstrow', stralign='left', tablefmt='simple'))"
   ]
  },
  {
   "cell_type": "markdown",
   "id": "0393cbc4",
   "metadata": {},
   "source": [
    "## Dealing with missing values"
   ]
  },
  {
   "cell_type": "code",
   "execution_count": 187,
   "id": "a86d3a3f",
   "metadata": {},
   "outputs": [
    {
     "data": {
      "text/plain": [
       "InvoiceNo           0\n",
       "StockCode           0\n",
       "Description      1454\n",
       "Quantity            0\n",
       "InvoiceDate         0\n",
       "UnitPrice           0\n",
       "CustomerID     135080\n",
       "Country             0\n",
       "Unnamed: 8     541909\n",
       "dtype: int64"
      ]
     },
     "execution_count": 187,
     "metadata": {},
     "output_type": "execute_result"
    }
   ],
   "source": [
    "data.isna().sum()"
   ]
  },
  {
   "cell_type": "code",
   "execution_count": 188,
   "id": "22a370db",
   "metadata": {},
   "outputs": [],
   "source": [
    "data = data.drop('Unnamed: 8', axis=1)\n",
    "data = data.dropna(subset=['CustomerID'])#'Description',"
   ]
  },
  {
   "cell_type": "markdown",
   "id": "a097610d",
   "metadata": {},
   "source": [
    "As the purpose of this project is to group customers, then it makes no sense to classify unidentified customers. To simplify the study, we will initially ignore unidentified customers, which are those who purchased but we do not know who they are because at the time of purchase, he or she was not a registered user or was not informed at the time of purchase."
   ]
  },
  {
   "cell_type": "markdown",
   "id": "86610775",
   "metadata": {},
   "source": [
    "## Fixing Data Types"
   ]
  },
  {
   "cell_type": "code",
   "execution_count": 189,
   "id": "77f27c6b",
   "metadata": {},
   "outputs": [],
   "source": [
    "data['InvoiceDate'] = pd.to_datetime(data['InvoiceDate'], format='%d-%b-%y') #format='%m/%d/%Y %H:%M'\n",
    "data['CustomerID'] = data['CustomerID'].astype(int)\n",
    "\n",
    "data['Total'] = data['Quantity'] * data['UnitPrice']"
   ]
  },
  {
   "cell_type": "code",
   "execution_count": 190,
   "id": "69b48734",
   "metadata": {},
   "outputs": [],
   "source": [
    "#data['date'] = pd.to_datetime(data['date'], format=\"%Y-%m-%d\")\n",
    "# data['year'] = pd.DatetimeIndex(data['InvoiceDate']).year\n",
    "# data['month'] = pd.DatetimeIndex(data['InvoiceDate']).month\n",
    "# data['week_of_year'] = data['InvoiceDate'].dt.isocalendar().week\n",
    "# data['day'] = pd.DatetimeIndex(data['InvoiceDate']).day"
   ]
  },
  {
   "cell_type": "code",
   "execution_count": 191,
   "id": "9baa167e",
   "metadata": {},
   "outputs": [
    {
     "data": {
      "text/plain": [
       "(Timestamp('2016-11-29 00:00:00'), Timestamp('2017-12-07 00:00:00'))"
      ]
     },
     "execution_count": 191,
     "metadata": {},
     "output_type": "execute_result"
    }
   ],
   "source": [
    "data.InvoiceDate.min(), data.InvoiceDate.max()"
   ]
  },
  {
   "cell_type": "markdown",
   "id": "d07fb41d",
   "metadata": {},
   "source": [
    "## Dealing Bad Values"
   ]
  },
  {
   "cell_type": "code",
   "execution_count": 192,
   "id": "116fd21e",
   "metadata": {},
   "outputs": [],
   "source": [
    "sum_transactions_per_client=data[['CustomerID','Total','Quantity']].groupby('CustomerID').agg({'Total':np.sum,\n",
    "                                                                 'Quantity':np.sum,                               \n",
    "                                                                 #'CustomerID':np.unique                                                                                    \n",
    "                                                                 }).reset_index()"
   ]
  },
  {
   "cell_type": "code",
   "execution_count": 193,
   "id": "6337a903",
   "metadata": {},
   "outputs": [],
   "source": [
    "#Customers who do not have a positive purchase balance or who owe the company (due to the temporal cut of the database) will be excluded\n",
    "\n",
    "bad_clients = sum_transactions_per_client.loc[(sum_transactions_per_client['Total'] <= 0.5) | (sum_transactions_per_client['Quantity'] <= 1)]"
   ]
  },
  {
   "cell_type": "code",
   "execution_count": 194,
   "id": "e71ec1a5",
   "metadata": {},
   "outputs": [],
   "source": [
    "list_bad_clients=bad_clients['CustomerID'].tolist()\n",
    "data = data[~data['CustomerID'].isin(list_bad_clients)]"
   ]
  },
  {
   "cell_type": "code",
   "execution_count": 195,
   "id": "d80ef698",
   "metadata": {},
   "outputs": [],
   "source": [
    "data = data.loc[~(data['UnitPrice'] < 0.04)]"
   ]
  },
  {
   "cell_type": "code",
   "execution_count": 196,
   "id": "1731cc84",
   "metadata": {},
   "outputs": [
    {
     "data": {
      "text/plain": [
       "POST            1196\n",
       "M                434\n",
       "C2               134\n",
       "D                 75\n",
       "DOT               16\n",
       "CRUK              16\n",
       "BANK CHARGES      10\n",
       "Name: StockCode, dtype: int64"
      ]
     },
     "execution_count": 196,
     "metadata": {},
     "output_type": "execute_result"
    }
   ],
   "source": [
    "data[data.StockCode.str.contains(\"^[a-zA-Z]\")].StockCode.value_counts()"
   ]
  },
  {
   "cell_type": "code",
   "execution_count": 197,
   "id": "bad42174",
   "metadata": {},
   "outputs": [
    {
     "data": {
      "text/plain": [
       "POSTAGE            1196\n",
       "Manual              434\n",
       "CARRIAGE            134\n",
       "Discount             75\n",
       "DOTCOM POSTAGE       16\n",
       "CRUK Commission      16\n",
       "Bank Charges         10\n",
       "Name: Description, dtype: int64"
      ]
     },
     "execution_count": 197,
     "metadata": {},
     "output_type": "execute_result"
    }
   ],
   "source": [
    "data[data.StockCode.str.contains(\"^[a-zA-Z]\")].Description.value_counts()"
   ]
  },
  {
   "cell_type": "code",
   "execution_count": 198,
   "id": "e45a6cd0",
   "metadata": {},
   "outputs": [],
   "source": [
    "list_letter_stock=data[data.StockCode.str.contains(\"^[a-zA-Z]\")].StockCode.value_counts().index.tolist()"
   ]
  },
  {
   "cell_type": "code",
   "execution_count": 199,
   "id": "8e4b5ff8",
   "metadata": {},
   "outputs": [],
   "source": [
    "data = data.loc[~data['StockCode'].isin(list_letter_stock)]"
   ]
  },
  {
   "cell_type": "code",
   "execution_count": 200,
   "id": "dd876e6b",
   "metadata": {},
   "outputs": [
    {
     "data": {
      "text/plain": [
       "StockCode\n",
       "16156L    2\n",
       "17107D    3\n",
       "20622     2\n",
       "20725     2\n",
       "20914     2\n",
       "         ..\n",
       "85184C    2\n",
       "85185B    2\n",
       "90014A    2\n",
       "90014B    2\n",
       "90014C    2\n",
       "Name: Description, Length: 213, dtype: int64"
      ]
     },
     "execution_count": 200,
     "metadata": {},
     "output_type": "execute_result"
    }
   ],
   "source": [
    "data.groupby(\"StockCode\")[\"Description\"].nunique()[data.groupby(\"StockCode\")[\"Description\"].nunique() != 1]"
   ]
  },
  {
   "cell_type": "markdown",
   "id": "0ae711b6",
   "metadata": {},
   "source": [
    "Absurd purchases followed by cancellations, purchase values close to or below zero will be considered as bad input values and thus will be deleted. They can even be useful in the EDA stage to generate insights, but for the machine learning model they significantly interfere with performance.\n",
    "\n",
    "As this database is a temporal cut of the company's sales, we will find purchase cancellations but we will not find the purchase related to this cancellation, this is a big problem. One of the ways to solve this is to identify the cancellations one by one and delete this line, another way is to delete the customers that on average the company owes them. I preferred to choose the second way because it is simpler to perform, later in the code this will be done."
   ]
  },
  {
   "cell_type": "markdown",
   "id": "15853709",
   "metadata": {},
   "source": [
    "## Feature Engeenier"
   ]
  },
  {
   "cell_type": "code",
   "execution_count": 201,
   "id": "916deab0",
   "metadata": {},
   "outputs": [],
   "source": [
    "transactions = data.copy()"
   ]
  },
  {
   "cell_type": "code",
   "execution_count": 202,
   "id": "dc78e1ef",
   "metadata": {},
   "outputs": [],
   "source": [
    "df_purchase = data.loc[data['Quantity'] >= 0]\n",
    "df_returns = data.loc[data['Quantity'] < 0]"
   ]
  },
  {
   "cell_type": "code",
   "execution_count": 203,
   "id": "289ac8ba",
   "metadata": {},
   "outputs": [
    {
     "data": {
      "text/plain": [
       "21705"
      ]
     },
     "execution_count": 203,
     "metadata": {},
     "output_type": "execute_result"
    }
   ],
   "source": [
    "#Group InvoiceNumber, it contains sales and cancelations\n",
    "\n",
    "transactions=data.groupby('InvoiceNo').agg( CustomerID = ('CustomerID', np.unique),\n",
    "                                            InvoiceDate = ('InvoiceDate', np.unique),\n",
    "                                            Total = ('Total', 'sum'),\n",
    "                                            UniqueProducts = ('StockCode', 'nunique'), \n",
    "                                            Items = ('Quantity', 'sum'), \n",
    "                                            ProductsCode = ('StockCode', np.unique)).reset_index()\n",
    "\n",
    "transactions['AvarageTicket']= round(transactions['Total']/transactions['UniqueProducts'],2) \n",
    "len(transactions)"
   ]
  },
  {
   "cell_type": "code",
   "execution_count": 204,
   "id": "7ec9ae8c",
   "metadata": {},
   "outputs": [
    {
     "data": {
      "text/plain": [
       "False    18376\n",
       "True      3329\n",
       "Name: InvoiceNo, dtype: int64"
      ]
     },
     "execution_count": 204,
     "metadata": {},
     "output_type": "execute_result"
    }
   ],
   "source": [
    "transactions.InvoiceNo.str.contains(\"C\").value_counts()"
   ]
  },
  {
   "cell_type": "code",
   "execution_count": null,
   "id": "394b6a2d",
   "metadata": {},
   "outputs": [],
   "source": []
  },
  {
   "cell_type": "code",
   "execution_count": 218,
   "id": "e5c67b9c",
   "metadata": {},
   "outputs": [],
   "source": [
    "last_day = data.InvoiceDate.max() + dt.timedelta(days = 1)\n",
    "\n",
    "transactions_per_customer = transactions.groupby('CustomerID').agg(\n",
    "                                                      GrossRevenue = ('Total', np.sum),                                           \n",
    "                                                      Recency = ('InvoiceDate', lambda x: ((last_day - x.max()).days)),             \n",
    "                                                      Frequency = ('InvoiceNo', 'count'),             \n",
    "                                                      Products = ('UniqueProducts', 'sum'), \n",
    "                                                      Items = ('Items', 'sum'),                                                                 \n",
    "                                                      AvarageTicket = ('AvarageTicket', 'sum'))            \n",
    "                                                      #Products = ('StockCode', np.unique),\n",
    "                                                                   \n",
    "#transactions_per_customer['AvarageTicket']= round(transactions_per_customer['GrossRevenue'] / transactions_per_customer['Products'],2)"
   ]
  },
  {
   "cell_type": "code",
   "execution_count": 220,
   "id": "c9d58403",
   "metadata": {},
   "outputs": [
    {
     "data": {
      "text/html": [
       "<div>\n",
       "<style scoped>\n",
       "    .dataframe tbody tr th:only-of-type {\n",
       "        vertical-align: middle;\n",
       "    }\n",
       "\n",
       "    .dataframe tbody tr th {\n",
       "        vertical-align: top;\n",
       "    }\n",
       "\n",
       "    .dataframe thead th {\n",
       "        text-align: right;\n",
       "    }\n",
       "</style>\n",
       "<table border=\"1\" class=\"dataframe\">\n",
       "  <thead>\n",
       "    <tr style=\"text-align: right;\">\n",
       "      <th></th>\n",
       "      <th>GrossRevenue</th>\n",
       "      <th>Recency</th>\n",
       "      <th>Frequency</th>\n",
       "      <th>Products</th>\n",
       "      <th>Items</th>\n",
       "      <th>AvarageTicket</th>\n",
       "    </tr>\n",
       "    <tr>\n",
       "      <th>CustomerID</th>\n",
       "      <th></th>\n",
       "      <th></th>\n",
       "      <th></th>\n",
       "      <th></th>\n",
       "      <th></th>\n",
       "      <th></th>\n",
       "    </tr>\n",
       "  </thead>\n",
       "  <tbody>\n",
       "    <tr>\n",
       "      <th>12347</th>\n",
       "      <td>4310.00</td>\n",
       "      <td>3</td>\n",
       "      <td>7</td>\n",
       "      <td>182</td>\n",
       "      <td>2458</td>\n",
       "      <td>161.68</td>\n",
       "    </tr>\n",
       "    <tr>\n",
       "      <th>12348</th>\n",
       "      <td>1437.24</td>\n",
       "      <td>76</td>\n",
       "      <td>4</td>\n",
       "      <td>23</td>\n",
       "      <td>2332</td>\n",
       "      <td>308.64</td>\n",
       "    </tr>\n",
       "    <tr>\n",
       "      <th>12349</th>\n",
       "      <td>1457.55</td>\n",
       "      <td>19</td>\n",
       "      <td>1</td>\n",
       "      <td>72</td>\n",
       "      <td>630</td>\n",
       "      <td>20.24</td>\n",
       "    </tr>\n",
       "    <tr>\n",
       "      <th>12350</th>\n",
       "      <td>294.40</td>\n",
       "      <td>311</td>\n",
       "      <td>1</td>\n",
       "      <td>16</td>\n",
       "      <td>196</td>\n",
       "      <td>18.40</td>\n",
       "    </tr>\n",
       "    <tr>\n",
       "      <th>12352</th>\n",
       "      <td>1265.41</td>\n",
       "      <td>37</td>\n",
       "      <td>8</td>\n",
       "      <td>84</td>\n",
       "      <td>463</td>\n",
       "      <td>113.84</td>\n",
       "    </tr>\n",
       "    <tr>\n",
       "      <th>...</th>\n",
       "      <td>...</td>\n",
       "      <td>...</td>\n",
       "      <td>...</td>\n",
       "      <td>...</td>\n",
       "      <td>...</td>\n",
       "      <td>...</td>\n",
       "    </tr>\n",
       "    <tr>\n",
       "      <th>18280</th>\n",
       "      <td>180.60</td>\n",
       "      <td>278</td>\n",
       "      <td>1</td>\n",
       "      <td>10</td>\n",
       "      <td>45</td>\n",
       "      <td>18.06</td>\n",
       "    </tr>\n",
       "    <tr>\n",
       "      <th>18281</th>\n",
       "      <td>80.82</td>\n",
       "      <td>181</td>\n",
       "      <td>1</td>\n",
       "      <td>7</td>\n",
       "      <td>54</td>\n",
       "      <td>11.55</td>\n",
       "    </tr>\n",
       "    <tr>\n",
       "      <th>18282</th>\n",
       "      <td>176.60</td>\n",
       "      <td>8</td>\n",
       "      <td>3</td>\n",
       "      <td>13</td>\n",
       "      <td>98</td>\n",
       "      <td>28.44</td>\n",
       "    </tr>\n",
       "    <tr>\n",
       "      <th>18283</th>\n",
       "      <td>2088.93</td>\n",
       "      <td>4</td>\n",
       "      <td>16</td>\n",
       "      <td>687</td>\n",
       "      <td>1395</td>\n",
       "      <td>48.61</td>\n",
       "    </tr>\n",
       "    <tr>\n",
       "      <th>18287</th>\n",
       "      <td>1837.28</td>\n",
       "      <td>43</td>\n",
       "      <td>3</td>\n",
       "      <td>68</td>\n",
       "      <td>1586</td>\n",
       "      <td>78.25</td>\n",
       "    </tr>\n",
       "  </tbody>\n",
       "</table>\n",
       "<p>4312 rows × 6 columns</p>\n",
       "</div>"
      ],
      "text/plain": [
       "            GrossRevenue  Recency  Frequency  Products  Items  AvarageTicket\n",
       "CustomerID                                                                  \n",
       "12347            4310.00        3          7       182   2458         161.68\n",
       "12348            1437.24       76          4        23   2332         308.64\n",
       "12349            1457.55       19          1        72    630          20.24\n",
       "12350             294.40      311          1        16    196          18.40\n",
       "12352            1265.41       37          8        84    463         113.84\n",
       "...                  ...      ...        ...       ...    ...            ...\n",
       "18280             180.60      278          1        10     45          18.06\n",
       "18281              80.82      181          1         7     54          11.55\n",
       "18282             176.60        8          3        13     98          28.44\n",
       "18283            2088.93        4         16       687   1395          48.61\n",
       "18287            1837.28       43          3        68   1586          78.25\n",
       "\n",
       "[4312 rows x 6 columns]"
      ]
     },
     "execution_count": 220,
     "metadata": {},
     "output_type": "execute_result"
    }
   ],
   "source": [
    "transactions_per_customer"
   ]
  },
  {
   "cell_type": "code",
   "execution_count": 216,
   "id": "611d8508",
   "metadata": {},
   "outputs": [
    {
     "data": {
      "text/html": [
       "<div>\n",
       "<style scoped>\n",
       "    .dataframe tbody tr th:only-of-type {\n",
       "        vertical-align: middle;\n",
       "    }\n",
       "\n",
       "    .dataframe tbody tr th {\n",
       "        vertical-align: top;\n",
       "    }\n",
       "\n",
       "    .dataframe thead th {\n",
       "        text-align: right;\n",
       "    }\n",
       "</style>\n",
       "<table border=\"1\" class=\"dataframe\">\n",
       "  <thead>\n",
       "    <tr style=\"text-align: right;\">\n",
       "      <th></th>\n",
       "      <th>GrossRevenue</th>\n",
       "      <th>Recency</th>\n",
       "      <th>Frequency</th>\n",
       "      <th>Products</th>\n",
       "      <th>Items</th>\n",
       "      <th>AvarageTicket</th>\n",
       "    </tr>\n",
       "    <tr>\n",
       "      <th>CustomerID</th>\n",
       "      <th></th>\n",
       "      <th></th>\n",
       "      <th></th>\n",
       "      <th></th>\n",
       "      <th></th>\n",
       "      <th></th>\n",
       "    </tr>\n",
       "  </thead>\n",
       "  <tbody>\n",
       "    <tr>\n",
       "      <th>14646</th>\n",
       "      <td>278778.02</td>\n",
       "      <td>2</td>\n",
       "      <td>73</td>\n",
       "      <td>2062</td>\n",
       "      <td>196556</td>\n",
       "      <td>17771.91</td>\n",
       "    </tr>\n",
       "    <tr>\n",
       "      <th>18102</th>\n",
       "      <td>259657.30</td>\n",
       "      <td>1</td>\n",
       "      <td>60</td>\n",
       "      <td>431</td>\n",
       "      <td>64124</td>\n",
       "      <td>43552.74</td>\n",
       "    </tr>\n",
       "    <tr>\n",
       "      <th>17450</th>\n",
       "      <td>189735.53</td>\n",
       "      <td>9</td>\n",
       "      <td>49</td>\n",
       "      <td>339</td>\n",
       "      <td>69041</td>\n",
       "      <td>26456.40</td>\n",
       "    </tr>\n",
       "    <tr>\n",
       "      <th>14911</th>\n",
       "      <td>128882.13</td>\n",
       "      <td>2</td>\n",
       "      <td>242</td>\n",
       "      <td>5806</td>\n",
       "      <td>76848</td>\n",
       "      <td>5235.49</td>\n",
       "    </tr>\n",
       "    <tr>\n",
       "      <th>12415</th>\n",
       "      <td>123638.18</td>\n",
       "      <td>25</td>\n",
       "      <td>24</td>\n",
       "      <td>774</td>\n",
       "      <td>76946</td>\n",
       "      <td>4512.36</td>\n",
       "    </tr>\n",
       "    <tr>\n",
       "      <th>...</th>\n",
       "      <td>...</td>\n",
       "      <td>...</td>\n",
       "      <td>...</td>\n",
       "      <td>...</td>\n",
       "      <td>...</td>\n",
       "      <td>...</td>\n",
       "    </tr>\n",
       "    <tr>\n",
       "      <th>16093</th>\n",
       "      <td>17.00</td>\n",
       "      <td>107</td>\n",
       "      <td>1</td>\n",
       "      <td>1</td>\n",
       "      <td>20</td>\n",
       "      <td>17.00</td>\n",
       "    </tr>\n",
       "    <tr>\n",
       "      <th>17763</th>\n",
       "      <td>15.00</td>\n",
       "      <td>264</td>\n",
       "      <td>1</td>\n",
       "      <td>1</td>\n",
       "      <td>12</td>\n",
       "      <td>15.00</td>\n",
       "    </tr>\n",
       "    <tr>\n",
       "      <th>13307</th>\n",
       "      <td>15.00</td>\n",
       "      <td>121</td>\n",
       "      <td>1</td>\n",
       "      <td>1</td>\n",
       "      <td>4</td>\n",
       "      <td>15.00</td>\n",
       "    </tr>\n",
       "    <tr>\n",
       "      <th>16738</th>\n",
       "      <td>3.75</td>\n",
       "      <td>298</td>\n",
       "      <td>1</td>\n",
       "      <td>1</td>\n",
       "      <td>3</td>\n",
       "      <td>3.75</td>\n",
       "    </tr>\n",
       "    <tr>\n",
       "      <th>16446</th>\n",
       "      <td>2.90</td>\n",
       "      <td>1</td>\n",
       "      <td>3</td>\n",
       "      <td>4</td>\n",
       "      <td>2</td>\n",
       "      <td>1.45</td>\n",
       "    </tr>\n",
       "  </tbody>\n",
       "</table>\n",
       "<p>4312 rows × 6 columns</p>\n",
       "</div>"
      ],
      "text/plain": [
       "            GrossRevenue  Recency  Frequency  Products   Items  AvarageTicket\n",
       "CustomerID                                                                   \n",
       "14646          278778.02        2         73      2062  196556       17771.91\n",
       "18102          259657.30        1         60       431   64124       43552.74\n",
       "17450          189735.53        9         49       339   69041       26456.40\n",
       "14911          128882.13        2        242      5806   76848        5235.49\n",
       "12415          123638.18       25         24       774   76946        4512.36\n",
       "...                  ...      ...        ...       ...     ...            ...\n",
       "16093              17.00      107          1         1      20          17.00\n",
       "17763              15.00      264          1         1      12          15.00\n",
       "13307              15.00      121          1         1       4          15.00\n",
       "16738               3.75      298          1         1       3           3.75\n",
       "16446               2.90        1          3         4       2           1.45\n",
       "\n",
       "[4312 rows x 6 columns]"
      ]
     },
     "execution_count": 216,
     "metadata": {},
     "output_type": "execute_result"
    }
   ],
   "source": [
    "transactions_per_customer.sort_values(by='GrossRevenue', ascending=False)"
   ]
  },
  {
   "cell_type": "code",
   "execution_count": 211,
   "id": "f40c024c",
   "metadata": {},
   "outputs": [
    {
     "ename": "NameError",
     "evalue": "name 'data_eda' is not defined",
     "output_type": "error",
     "traceback": [
      "\u001b[1;31m---------------------------------------------------------------------------\u001b[0m",
      "\u001b[1;31mNameError\u001b[0m                                 Traceback (most recent call last)",
      "\u001b[1;32m~\\AppData\\Local\\Temp/ipykernel_11404/2137095090.py\u001b[0m in \u001b[0;36m<module>\u001b[1;34m\u001b[0m\n\u001b[1;32m----> 1\u001b[1;33m \u001b[0mpurchase\u001b[0m \u001b[1;33m=\u001b[0m \u001b[0mdata_eda\u001b[0m\u001b[1;33m[\u001b[0m\u001b[0mdata_eda\u001b[0m\u001b[1;33m[\u001b[0m\u001b[1;34m'Quantity'\u001b[0m\u001b[1;33m]\u001b[0m \u001b[1;33m>=\u001b[0m \u001b[1;36m0\u001b[0m\u001b[1;33m]\u001b[0m\u001b[1;33m\u001b[0m\u001b[1;33m\u001b[0m\u001b[0m\n\u001b[0m\u001b[0;32m      2\u001b[0m \u001b[0mreturns\u001b[0m \u001b[1;33m=\u001b[0m \u001b[0mdata_eda\u001b[0m\u001b[1;33m[\u001b[0m\u001b[0mdata_eda\u001b[0m\u001b[1;33m[\u001b[0m\u001b[1;34m'Quantity'\u001b[0m\u001b[1;33m]\u001b[0m \u001b[1;33m<\u001b[0m \u001b[1;36m0\u001b[0m\u001b[1;33m]\u001b[0m\u001b[1;33m\u001b[0m\u001b[1;33m\u001b[0m\u001b[0m\n",
      "\u001b[1;31mNameError\u001b[0m: name 'data_eda' is not defined"
     ]
    }
   ],
   "source": [
    "# purchase = data_eda[data_eda['Quantity'] >= 0]\n",
    "# returns = data_eda[data_eda['Quantity'] < 0]"
   ]
  }
 ],
 "metadata": {
  "hide_input": false,
  "kernelspec": {
   "display_name": "Python 3 (ipykernel)",
   "language": "python",
   "name": "python3"
  },
  "language_info": {
   "codemirror_mode": {
    "name": "ipython",
    "version": 3
   },
   "file_extension": ".py",
   "mimetype": "text/x-python",
   "name": "python",
   "nbconvert_exporter": "python",
   "pygments_lexer": "ipython3",
   "version": "3.9.7"
  },
  "latex_envs": {
   "LaTeX_envs_menu_present": true,
   "autoclose": false,
   "autocomplete": true,
   "bibliofile": "biblio.bib",
   "cite_by": "apalike",
   "current_citInitial": 1,
   "eqLabelWithNumbers": true,
   "eqNumInitial": 1,
   "hotkeys": {
    "equation": "Ctrl-E",
    "itemize": "Ctrl-I"
   },
   "labels_anchors": false,
   "latex_user_defs": false,
   "report_style_numbering": false,
   "user_envs_cfg": false
  }
 },
 "nbformat": 4,
 "nbformat_minor": 5
}
