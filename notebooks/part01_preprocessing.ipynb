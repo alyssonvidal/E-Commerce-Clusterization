{
 "cells": [
  {
   "cell_type": "markdown",
   "id": "08b72a48",
   "metadata": {},
   "source": [
    "# Content\n",
    "     \n",
    "**Data Preprocessing**  \n",
    "   - Loading Data\n",
    "   - Glossary\n",
    "   - Dealing with missing Values\n",
    "   - Fixing Data Types\n",
    "   - Dealing Bad Values\n",
    "   - Feature Engieenier"
   ]
  },
  {
   "cell_type": "markdown",
   "id": "66f54a81",
   "metadata": {},
   "source": [
    "# Data Preprossesing"
   ]
  },
  {
   "cell_type": "code",
   "execution_count": 28,
   "id": "75eb0d8d",
   "metadata": {},
   "outputs": [],
   "source": [
    "import numpy as np\n",
    "import pandas as pd\n",
    "import datetime as dt\n",
    "from datetime import datetime, date, timedelta\n",
    "from tabulate import tabulate\n",
    "from IPython.display import HTML\n",
    "import notebook_settings\n",
    "import warnings\n",
    "warnings.simplefilter(action='ignore', category=FutureWarning)"
   ]
  },
  {
   "cell_type": "markdown",
   "id": "e8218e66",
   "metadata": {},
   "source": [
    "## Loading Data"
   ]
  },
  {
   "cell_type": "code",
   "execution_count": 29,
   "id": "c319f3e5",
   "metadata": {},
   "outputs": [],
   "source": [
    "data_raw = pd.read_csv('../data/ecommerce.csv', encoding='iso-8859-1')\n",
    "data = data_raw.copy()"
   ]
  },
  {
   "cell_type": "code",
   "execution_count": 30,
   "id": "466bcf33",
   "metadata": {},
   "outputs": [
    {
     "name": "stdout",
     "output_type": "stream",
     "text": [
      "<class 'pandas.core.frame.DataFrame'>\n",
      "RangeIndex: 541909 entries, 0 to 541908\n",
      "Data columns (total 9 columns):\n",
      " #   Column       Non-Null Count   Dtype  \n",
      "---  ------       --------------   -----  \n",
      " 0   InvoiceNo    541909 non-null  object \n",
      " 1   StockCode    541909 non-null  object \n",
      " 2   Description  540455 non-null  object \n",
      " 3   Quantity     541909 non-null  int64  \n",
      " 4   InvoiceDate  541909 non-null  object \n",
      " 5   UnitPrice    541909 non-null  float64\n",
      " 6   CustomerID   406829 non-null  float64\n",
      " 7   Country      541909 non-null  object \n",
      " 8   Unnamed: 8   0 non-null       float64\n",
      "dtypes: float64(3), int64(1), object(5)\n",
      "memory usage: 37.2+ MB\n"
     ]
    }
   ],
   "source": [
    "data.info()"
   ]
  },
  {
   "cell_type": "markdown",
   "id": "03203e45",
   "metadata": {},
   "source": [
    "## Glossary"
   ]
  },
  {
   "cell_type": "code",
   "execution_count": 31,
   "id": "02ff3180",
   "metadata": {},
   "outputs": [],
   "source": [
    "glossary = [['Columns', 'Meaning'],\n",
    "            ['InvoiceNo', 'Unique Identifier of each transaction'],\n",
    "            ['StockCode', 'Internal item code'],\n",
    "            ['Description', 'Item description/resume'],\n",
    "            ['Quantity', 'Quantity of each item per transaction'],\n",
    "            ['InvoiceDate', 'The day of transaction'],\n",
    "            ['UnitPrice', 'Product price per unit'],\n",
    "            ['CustomerID', 'Unique Identifier of Customer'],\n",
    "            ['Country', 'Customer\\'s country of residence']\n",
    "           ]\n",
    "#print(tabulate(glossary, headers='firstrow', stralign='left', tablefmt='simple'))"
   ]
  },
  {
   "cell_type": "markdown",
   "id": "0393cbc4",
   "metadata": {},
   "source": [
    "## Dealing with missing values"
   ]
  },
  {
   "cell_type": "code",
   "execution_count": 32,
   "id": "a86d3a3f",
   "metadata": {},
   "outputs": [
    {
     "data": {
      "text/plain": [
       "InvoiceNo           0\n",
       "StockCode           0\n",
       "Description      1454\n",
       "Quantity            0\n",
       "InvoiceDate         0\n",
       "UnitPrice           0\n",
       "CustomerID     135080\n",
       "Country             0\n",
       "Unnamed: 8     541909\n",
       "dtype: int64"
      ]
     },
     "execution_count": 32,
     "metadata": {},
     "output_type": "execute_result"
    }
   ],
   "source": [
    "data.isna().sum()"
   ]
  },
  {
   "cell_type": "code",
   "execution_count": 33,
   "id": "22a370db",
   "metadata": {},
   "outputs": [],
   "source": [
    "data = data.drop('Unnamed: 8', axis=1)\n",
    "data = data.dropna(subset=['Description','CustomerID'])"
   ]
  },
  {
   "cell_type": "code",
   "execution_count": 34,
   "id": "10acf1ba",
   "metadata": {},
   "outputs": [],
   "source": [
    "#data[\"IsCancelled\"]=np.where(data.InvoiceNo.apply(lambda l: l[0]==\"C\"), True, False)\n",
    "#data.IsCancelled.value_counts() / data.shape[0] * 100 , data.IsCancelled.value_counts()\n",
    "#data[data[\"InvoiceNo\"].str.startswith(\"C\")]"
   ]
  },
  {
   "cell_type": "markdown",
   "id": "a097610d",
   "metadata": {},
   "source": [
    "As the purpose of this project is to group customers, then it makes no sense to classify unidentified customers. To simplify the study, we will initially ignore unidentified customers, which are those who purchased but we do not know who they are because at the time of purchase, he or she was not a registered user or was not informed at the time of purchase."
   ]
  },
  {
   "cell_type": "markdown",
   "id": "86610775",
   "metadata": {},
   "source": [
    "## Fixing Data Types"
   ]
  },
  {
   "cell_type": "code",
   "execution_count": 35,
   "id": "77f27c6b",
   "metadata": {},
   "outputs": [],
   "source": [
    "data['InvoiceDate'] = pd.to_datetime(data['InvoiceDate'], format='%d-%b-%y') #format='%m/%d/%Y %H:%M'\n",
    "data['CustomerID'] = data['CustomerID'].astype(int)\n",
    "\n",
    "data['Total'] = data['Quantity'] * data['UnitPrice']"
   ]
  },
  {
   "cell_type": "code",
   "execution_count": 36,
   "id": "69b48734",
   "metadata": {},
   "outputs": [],
   "source": [
    "#data['date'] = pd.to_datetime(data['date'], format=\"%Y-%m-%d\")\n",
    "data['year'] = pd.DatetimeIndex(data['InvoiceDate']).year\n",
    "data['month'] = pd.DatetimeIndex(data['InvoiceDate']).month\n",
    "data['week_of_year'] = data['InvoiceDate'].dt.isocalendar().week\n",
    "data['day'] = pd.DatetimeIndex(data['InvoiceDate']).day"
   ]
  },
  {
   "cell_type": "code",
   "execution_count": 37,
   "id": "9baa167e",
   "metadata": {},
   "outputs": [
    {
     "data": {
      "text/plain": [
       "(Timestamp('2016-11-29 00:00:00'), Timestamp('2017-12-07 00:00:00'))"
      ]
     },
     "execution_count": 37,
     "metadata": {},
     "output_type": "execute_result"
    }
   ],
   "source": [
    "data.InvoiceDate.min(), data.InvoiceDate.max()"
   ]
  },
  {
   "cell_type": "markdown",
   "id": "d07fb41d",
   "metadata": {},
   "source": [
    "## Dealing Bad Values"
   ]
  },
  {
   "cell_type": "code",
   "execution_count": 38,
   "id": "f5507e72",
   "metadata": {},
   "outputs": [],
   "source": [
    "# data.loc[data['CustomerID'] == 12346] \n",
    "# data.loc[data['CustomerID'] == 16446] \n",
    "\n",
    "data = data[~data['CustomerID'].isin([12346, 16446])]\n",
    "data = data.loc[~(data['UnitPrice'] < 0.04)]"
   ]
  },
  {
   "cell_type": "markdown",
   "id": "0ae711b6",
   "metadata": {},
   "source": [
    "Absurd purchases followed by cancellations, purchase values close to or below zero will be considered as bad input values and thus will be deleted. They can even be useful in the EDA stage to generate insights, but for the machine learning model they significantly interfere with performance.\n",
    "\n",
    "As this database is a temporal cut of the company's sales, we will find purchase cancellations but we will not find the purchase related to this cancellation, this is a big problem. One of the ways to solve this is to identify the cancellations one by one and delete this line, another way is to delete the customers that on average the company owes them. I preferred to choose the second way because it is simpler to perform, later in the code this will be done."
   ]
  },
  {
   "cell_type": "markdown",
   "id": "15853709",
   "metadata": {},
   "source": [
    "## Feature Engeenier"
   ]
  },
  {
   "cell_type": "code",
   "execution_count": null,
   "id": "90bbb944",
   "metadata": {},
   "outputs": [],
   "source": []
  },
  {
   "cell_type": "code",
   "execution_count": 39,
   "id": "916deab0",
   "metadata": {},
   "outputs": [],
   "source": [
    "df2 = data.copy()"
   ]
  },
  {
   "cell_type": "code",
   "execution_count": 40,
   "id": "dc78e1ef",
   "metadata": {},
   "outputs": [],
   "source": [
    "df_purchase = data.loc[data['Quantity'] >= 0]\n",
    "df_returns = data.loc[data['Quantity'] < 0]"
   ]
  },
  {
   "cell_type": "code",
   "execution_count": 41,
   "id": "0dcc542e",
   "metadata": {},
   "outputs": [],
   "source": [
    "data_client_extended = df2.drop(['InvoiceNo','StockCode','Description', 'Quantity','InvoiceDate','UnitPrice','Country'],axis=1).drop_duplicates(ignore_index=True)"
   ]
  },
  {
   "cell_type": "code",
   "execution_count": 42,
   "id": "60e40f8c",
   "metadata": {},
   "outputs": [],
   "source": [
    "# GrossRevenue\n",
    "df2['GrossRevenuePartial'] = df2['Quantity'] * df2['UnitPrice']\n",
    "aux_revenue = df2[['CustomerID', 'GrossRevenuePartial']].groupby('CustomerID').sum().reset_index().rename(columns={'GrossRevenuePartial':'GrossRevenueTotal'})\n",
    "data_client_extended = pd.merge(data_client_extended,aux_revenue, how='left',on='CustomerID')"
   ]
  },
  {
   "cell_type": "code",
   "execution_count": 43,
   "id": "3879abf9",
   "metadata": {},
   "outputs": [],
   "source": [
    "# Recency - Last day purchase\n",
    "last_day = data.InvoiceDate.max() + dt.timedelta(days = 1)\n",
    "aux_recency = df_purchase[['CustomerID','InvoiceDate']].groupby('CustomerID').max().reset_index()\n",
    "aux_recency['RecencyDays'] = (last_day - aux_recency['InvoiceDate']).dt.days\n",
    "data_client_extended = pd.merge(data_client_extended, aux_recency[['CustomerID','RecencyDays']], on ='CustomerID', how='left')"
   ]
  },
  {
   "cell_type": "code",
   "execution_count": 44,
   "id": "15ce252a",
   "metadata": {},
   "outputs": [],
   "source": [
    "# Frequency\n",
    "aux_freq = df_purchase[['CustomerID','InvoiceNo']].drop_duplicates('InvoiceNo').groupby('CustomerID').count().reset_index().rename(columns={'InvoiceNo':'Frequency'})\n",
    "data_client_extended = pd.merge(data_client_extended, aux_freq, on='CustomerID',how='left')"
   ]
  },
  {
   "cell_type": "code",
   "execution_count": 45,
   "id": "b1560091",
   "metadata": {},
   "outputs": [],
   "source": [
    "# Avarage Ticket\n",
    "aux_ticket = df2[['CustomerID','GrossRevenuePartial']].groupby('CustomerID').mean().reset_index().rename(columns={'GrossRevenuePartial':'AvarageTicket'})\n",
    "data_client_extended = pd.merge(data_client_extended, aux_ticket,on='CustomerID',how='left')"
   ]
  },
  {
   "cell_type": "code",
   "execution_count": 46,
   "id": "f9d64195",
   "metadata": {},
   "outputs": [],
   "source": [
    "# Número of Purchases\n",
    "aux_prod = df_purchase.loc[:,['CustomerID', 'StockCode']].groupby('CustomerID').count().reset_index().rename(columns={'StockCode':'NumberProducts'})\n",
    "data_client_extended = pd.merge(data_client_extended, aux_prod, on='CustomerID', how='left')"
   ]
  },
  {
   "cell_type": "code",
   "execution_count": 47,
   "id": "1c41a9f7",
   "metadata": {},
   "outputs": [],
   "source": [
    "# Number Of Returns\n",
    "aux_return = df_returns[['CustomerID', 'Quantity']].groupby('CustomerID').sum().reset_index().rename(columns={'Quantity':'NumberReturn'})\n",
    "aux_return['NumberReturn'] = -1*aux_return['NumberReturn']\n",
    "aux_return['NumberReturn'] = aux_return['NumberReturn'].fillna(0)\n",
    "data_client_extended = pd.merge(data_client_extended, aux_return, on='CustomerID', how='left')"
   ]
  },
  {
   "cell_type": "code",
   "execution_count": 48,
   "id": "3923286b",
   "metadata": {},
   "outputs": [],
   "source": [
    "data_client_extended = data_client_extended.set_index('CustomerID')"
   ]
  },
  {
   "cell_type": "code",
   "execution_count": 49,
   "id": "f40c024c",
   "metadata": {},
   "outputs": [
    {
     "data": {
      "text/html": [
       "<div>\n",
       "<style scoped>\n",
       "    .dataframe tbody tr th:only-of-type {\n",
       "        vertical-align: middle;\n",
       "    }\n",
       "\n",
       "    .dataframe tbody tr th {\n",
       "        vertical-align: top;\n",
       "    }\n",
       "\n",
       "    .dataframe thead th {\n",
       "        text-align: right;\n",
       "    }\n",
       "</style>\n",
       "<table border=\"1\" class=\"dataframe\">\n",
       "  <thead>\n",
       "    <tr style=\"text-align: right;\">\n",
       "      <th></th>\n",
       "      <th>Total</th>\n",
       "      <th>year</th>\n",
       "      <th>month</th>\n",
       "      <th>week_of_year</th>\n",
       "      <th>day</th>\n",
       "      <th>GrossRevenueTotal</th>\n",
       "      <th>RecencyDays</th>\n",
       "      <th>Frequency</th>\n",
       "      <th>AvarageTicket</th>\n",
       "      <th>NumberProducts</th>\n",
       "      <th>NumberReturn</th>\n",
       "    </tr>\n",
       "    <tr>\n",
       "      <th>CustomerID</th>\n",
       "      <th></th>\n",
       "      <th></th>\n",
       "      <th></th>\n",
       "      <th></th>\n",
       "      <th></th>\n",
       "      <th></th>\n",
       "      <th></th>\n",
       "      <th></th>\n",
       "      <th></th>\n",
       "      <th></th>\n",
       "      <th></th>\n",
       "    </tr>\n",
       "  </thead>\n",
       "  <tbody>\n",
       "    <tr>\n",
       "      <th>15002</th>\n",
       "      <td>17.85</td>\n",
       "      <td>2017</td>\n",
       "      <td>1</td>\n",
       "      <td>1</td>\n",
       "      <td>3</td>\n",
       "      <td>1641.76</td>\n",
       "      <td>116.0</td>\n",
       "      <td>4.0</td>\n",
       "      <td>14.276174</td>\n",
       "      <td>115.0</td>\n",
       "      <td>NaN</td>\n",
       "    </tr>\n",
       "    <tr>\n",
       "      <th>13230</th>\n",
       "      <td>0.55</td>\n",
       "      <td>2017</td>\n",
       "      <td>7</td>\n",
       "      <td>27</td>\n",
       "      <td>8</td>\n",
       "      <td>2763.41</td>\n",
       "      <td>5.0</td>\n",
       "      <td>14.0</td>\n",
       "      <td>4.515376</td>\n",
       "      <td>611.0</td>\n",
       "      <td>121.0</td>\n",
       "    </tr>\n",
       "    <tr>\n",
       "      <th>18180</th>\n",
       "      <td>17.00</td>\n",
       "      <td>2017</td>\n",
       "      <td>10</td>\n",
       "      <td>41</td>\n",
       "      <td>9</td>\n",
       "      <td>1843.75</td>\n",
       "      <td>5.0</td>\n",
       "      <td>6.0</td>\n",
       "      <td>15.493697</td>\n",
       "      <td>119.0</td>\n",
       "      <td>NaN</td>\n",
       "    </tr>\n",
       "    <tr>\n",
       "      <th>13869</th>\n",
       "      <td>8.50</td>\n",
       "      <td>2017</td>\n",
       "      <td>8</td>\n",
       "      <td>31</td>\n",
       "      <td>6</td>\n",
       "      <td>3104.95</td>\n",
       "      <td>124.0</td>\n",
       "      <td>4.0</td>\n",
       "      <td>10.113844</td>\n",
       "      <td>307.0</td>\n",
       "      <td>NaN</td>\n",
       "    </tr>\n",
       "    <tr>\n",
       "      <th>15601</th>\n",
       "      <td>25.50</td>\n",
       "      <td>2017</td>\n",
       "      <td>10</td>\n",
       "      <td>41</td>\n",
       "      <td>12</td>\n",
       "      <td>6745.36</td>\n",
       "      <td>12.0</td>\n",
       "      <td>14.0</td>\n",
       "      <td>16.293140</td>\n",
       "      <td>410.0</td>\n",
       "      <td>5.0</td>\n",
       "    </tr>\n",
       "    <tr>\n",
       "      <th>16900</th>\n",
       "      <td>4.98</td>\n",
       "      <td>2017</td>\n",
       "      <td>10</td>\n",
       "      <td>40</td>\n",
       "      <td>5</td>\n",
       "      <td>187.69</td>\n",
       "      <td>17.0</td>\n",
       "      <td>3.0</td>\n",
       "      <td>2.288902</td>\n",
       "      <td>79.0</td>\n",
       "      <td>110.0</td>\n",
       "    </tr>\n",
       "    <tr>\n",
       "      <th>17677</th>\n",
       "      <td>13.20</td>\n",
       "      <td>2017</td>\n",
       "      <td>10</td>\n",
       "      <td>41</td>\n",
       "      <td>12</td>\n",
       "      <td>16219.22</td>\n",
       "      <td>2.0</td>\n",
       "      <td>30.0</td>\n",
       "      <td>50.527165</td>\n",
       "      <td>304.0</td>\n",
       "      <td>50.0</td>\n",
       "    </tr>\n",
       "    <tr>\n",
       "      <th>13426</th>\n",
       "      <td>10.20</td>\n",
       "      <td>2017</td>\n",
       "      <td>12</td>\n",
       "      <td>49</td>\n",
       "      <td>7</td>\n",
       "      <td>3550.70</td>\n",
       "      <td>1.0</td>\n",
       "      <td>10.0</td>\n",
       "      <td>22.331447</td>\n",
       "      <td>157.0</td>\n",
       "      <td>21.0</td>\n",
       "    </tr>\n",
       "    <tr>\n",
       "      <th>16431</th>\n",
       "      <td>13.52</td>\n",
       "      <td>2017</td>\n",
       "      <td>5</td>\n",
       "      <td>19</td>\n",
       "      <td>8</td>\n",
       "      <td>642.81</td>\n",
       "      <td>214.0</td>\n",
       "      <td>3.0</td>\n",
       "      <td>7.744699</td>\n",
       "      <td>83.0</td>\n",
       "      <td>NaN</td>\n",
       "    </tr>\n",
       "    <tr>\n",
       "      <th>13032</th>\n",
       "      <td>9.90</td>\n",
       "      <td>2017</td>\n",
       "      <td>9</td>\n",
       "      <td>37</td>\n",
       "      <td>11</td>\n",
       "      <td>996.52</td>\n",
       "      <td>53.0</td>\n",
       "      <td>2.0</td>\n",
       "      <td>13.286933</td>\n",
       "      <td>71.0</td>\n",
       "      <td>8.0</td>\n",
       "    </tr>\n",
       "  </tbody>\n",
       "</table>\n",
       "</div>"
      ],
      "text/plain": [
       "            Total  year  month  week_of_year  day  GrossRevenueTotal  \\\n",
       "CustomerID                                                             \n",
       "15002       17.85  2017      1             1    3            1641.76   \n",
       "13230        0.55  2017      7            27    8            2763.41   \n",
       "18180       17.00  2017     10            41    9            1843.75   \n",
       "13869        8.50  2017      8            31    6            3104.95   \n",
       "15601       25.50  2017     10            41   12            6745.36   \n",
       "16900        4.98  2017     10            40    5             187.69   \n",
       "17677       13.20  2017     10            41   12           16219.22   \n",
       "13426       10.20  2017     12            49    7            3550.70   \n",
       "16431       13.52  2017      5            19    8             642.81   \n",
       "13032        9.90  2017      9            37   11             996.52   \n",
       "\n",
       "            RecencyDays  Frequency  AvarageTicket  NumberProducts  \\\n",
       "CustomerID                                                          \n",
       "15002             116.0        4.0      14.276174           115.0   \n",
       "13230               5.0       14.0       4.515376           611.0   \n",
       "18180               5.0        6.0      15.493697           119.0   \n",
       "13869             124.0        4.0      10.113844           307.0   \n",
       "15601              12.0       14.0      16.293140           410.0   \n",
       "16900              17.0        3.0       2.288902            79.0   \n",
       "17677               2.0       30.0      50.527165           304.0   \n",
       "13426               1.0       10.0      22.331447           157.0   \n",
       "16431             214.0        3.0       7.744699            83.0   \n",
       "13032              53.0        2.0      13.286933            71.0   \n",
       "\n",
       "            NumberReturn  \n",
       "CustomerID                \n",
       "15002                NaN  \n",
       "13230              121.0  \n",
       "18180                NaN  \n",
       "13869                NaN  \n",
       "15601                5.0  \n",
       "16900              110.0  \n",
       "17677               50.0  \n",
       "13426               21.0  \n",
       "16431                NaN  \n",
       "13032                8.0  "
      ]
     },
     "execution_count": 49,
     "metadata": {},
     "output_type": "execute_result"
    }
   ],
   "source": [
    "data_client_extended.sample(10)"
   ]
  },
  {
   "cell_type": "code",
   "execution_count": 50,
   "id": "6d534f37",
   "metadata": {},
   "outputs": [],
   "source": [
    "#Some clients has more returns then purchases because of date\n",
    "data_client_extended.loc[data_client_extended['NumberReturn'].isna(), 'NumberReturn'] = 0\n",
    "data_client_extended=data_client_extended.dropna()\n",
    "data_client_extended=data_client_extended.loc[~(data_client_extended['GrossRevenueTotal'] < 0.01)]"
   ]
  },
  {
   "cell_type": "code",
   "execution_count": 51,
   "id": "ff24ea9a",
   "metadata": {},
   "outputs": [
    {
     "data": {
      "text/html": [
       "<div>\n",
       "<style scoped>\n",
       "    .dataframe tbody tr th:only-of-type {\n",
       "        vertical-align: middle;\n",
       "    }\n",
       "\n",
       "    .dataframe tbody tr th {\n",
       "        vertical-align: top;\n",
       "    }\n",
       "\n",
       "    .dataframe thead th {\n",
       "        text-align: right;\n",
       "    }\n",
       "</style>\n",
       "<table border=\"1\" class=\"dataframe\">\n",
       "  <thead>\n",
       "    <tr style=\"text-align: right;\">\n",
       "      <th></th>\n",
       "      <th>Total</th>\n",
       "      <th>year</th>\n",
       "      <th>month</th>\n",
       "      <th>week_of_year</th>\n",
       "      <th>day</th>\n",
       "      <th>GrossRevenueTotal</th>\n",
       "      <th>RecencyDays</th>\n",
       "      <th>Frequency</th>\n",
       "      <th>AvarageTicket</th>\n",
       "      <th>NumberProducts</th>\n",
       "      <th>NumberReturn</th>\n",
       "    </tr>\n",
       "    <tr>\n",
       "      <th>CustomerID</th>\n",
       "      <th></th>\n",
       "      <th></th>\n",
       "      <th></th>\n",
       "      <th></th>\n",
       "      <th></th>\n",
       "      <th></th>\n",
       "      <th></th>\n",
       "      <th></th>\n",
       "      <th></th>\n",
       "      <th></th>\n",
       "      <th></th>\n",
       "    </tr>\n",
       "  </thead>\n",
       "  <tbody>\n",
       "    <tr>\n",
       "      <th>17850</th>\n",
       "      <td>15.30</td>\n",
       "      <td>2016</td>\n",
       "      <td>11</td>\n",
       "      <td>48</td>\n",
       "      <td>29</td>\n",
       "      <td>5288.63</td>\n",
       "      <td>373.0</td>\n",
       "      <td>34.0</td>\n",
       "      <td>16.950737</td>\n",
       "      <td>297.0</td>\n",
       "      <td>40.0</td>\n",
       "    </tr>\n",
       "    <tr>\n",
       "      <th>17850</th>\n",
       "      <td>20.34</td>\n",
       "      <td>2016</td>\n",
       "      <td>11</td>\n",
       "      <td>48</td>\n",
       "      <td>29</td>\n",
       "      <td>5288.63</td>\n",
       "      <td>373.0</td>\n",
       "      <td>34.0</td>\n",
       "      <td>16.950737</td>\n",
       "      <td>297.0</td>\n",
       "      <td>40.0</td>\n",
       "    </tr>\n",
       "    <tr>\n",
       "      <th>17850</th>\n",
       "      <td>22.00</td>\n",
       "      <td>2016</td>\n",
       "      <td>11</td>\n",
       "      <td>48</td>\n",
       "      <td>29</td>\n",
       "      <td>5288.63</td>\n",
       "      <td>373.0</td>\n",
       "      <td>34.0</td>\n",
       "      <td>16.950737</td>\n",
       "      <td>297.0</td>\n",
       "      <td>40.0</td>\n",
       "    </tr>\n",
       "    <tr>\n",
       "      <th>17850</th>\n",
       "      <td>15.30</td>\n",
       "      <td>2016</td>\n",
       "      <td>11</td>\n",
       "      <td>48</td>\n",
       "      <td>29</td>\n",
       "      <td>5288.63</td>\n",
       "      <td>373.0</td>\n",
       "      <td>34.0</td>\n",
       "      <td>16.950737</td>\n",
       "      <td>297.0</td>\n",
       "      <td>40.0</td>\n",
       "    </tr>\n",
       "    <tr>\n",
       "      <th>17850</th>\n",
       "      <td>25.50</td>\n",
       "      <td>2016</td>\n",
       "      <td>11</td>\n",
       "      <td>48</td>\n",
       "      <td>29</td>\n",
       "      <td>5288.63</td>\n",
       "      <td>373.0</td>\n",
       "      <td>34.0</td>\n",
       "      <td>16.950737</td>\n",
       "      <td>297.0</td>\n",
       "      <td>40.0</td>\n",
       "    </tr>\n",
       "    <tr>\n",
       "      <th>...</th>\n",
       "      <td>...</td>\n",
       "      <td>...</td>\n",
       "      <td>...</td>\n",
       "      <td>...</td>\n",
       "      <td>...</td>\n",
       "      <td>...</td>\n",
       "      <td>...</td>\n",
       "      <td>...</td>\n",
       "      <td>...</td>\n",
       "      <td>...</td>\n",
       "      <td>...</td>\n",
       "    </tr>\n",
       "    <tr>\n",
       "      <th>12680</th>\n",
       "      <td>15.60</td>\n",
       "      <td>2017</td>\n",
       "      <td>12</td>\n",
       "      <td>49</td>\n",
       "      <td>7</td>\n",
       "      <td>862.81</td>\n",
       "      <td>1.0</td>\n",
       "      <td>4.0</td>\n",
       "      <td>16.592500</td>\n",
       "      <td>52.0</td>\n",
       "      <td>0.0</td>\n",
       "    </tr>\n",
       "    <tr>\n",
       "      <th>12680</th>\n",
       "      <td>16.60</td>\n",
       "      <td>2017</td>\n",
       "      <td>12</td>\n",
       "      <td>49</td>\n",
       "      <td>7</td>\n",
       "      <td>862.81</td>\n",
       "      <td>1.0</td>\n",
       "      <td>4.0</td>\n",
       "      <td>16.592500</td>\n",
       "      <td>52.0</td>\n",
       "      <td>0.0</td>\n",
       "    </tr>\n",
       "    <tr>\n",
       "      <th>12680</th>\n",
       "      <td>10.20</td>\n",
       "      <td>2017</td>\n",
       "      <td>12</td>\n",
       "      <td>49</td>\n",
       "      <td>7</td>\n",
       "      <td>862.81</td>\n",
       "      <td>1.0</td>\n",
       "      <td>4.0</td>\n",
       "      <td>16.592500</td>\n",
       "      <td>52.0</td>\n",
       "      <td>0.0</td>\n",
       "    </tr>\n",
       "    <tr>\n",
       "      <th>12680</th>\n",
       "      <td>12.60</td>\n",
       "      <td>2017</td>\n",
       "      <td>12</td>\n",
       "      <td>49</td>\n",
       "      <td>7</td>\n",
       "      <td>862.81</td>\n",
       "      <td>1.0</td>\n",
       "      <td>4.0</td>\n",
       "      <td>16.592500</td>\n",
       "      <td>52.0</td>\n",
       "      <td>0.0</td>\n",
       "    </tr>\n",
       "    <tr>\n",
       "      <th>12680</th>\n",
       "      <td>14.85</td>\n",
       "      <td>2017</td>\n",
       "      <td>12</td>\n",
       "      <td>49</td>\n",
       "      <td>7</td>\n",
       "      <td>862.81</td>\n",
       "      <td>1.0</td>\n",
       "      <td>4.0</td>\n",
       "      <td>16.592500</td>\n",
       "      <td>52.0</td>\n",
       "      <td>0.0</td>\n",
       "    </tr>\n",
       "  </tbody>\n",
       "</table>\n",
       "<p>244977 rows × 11 columns</p>\n",
       "</div>"
      ],
      "text/plain": [
       "            Total  year  month  week_of_year  day  GrossRevenueTotal  \\\n",
       "CustomerID                                                             \n",
       "17850       15.30  2016     11            48   29            5288.63   \n",
       "17850       20.34  2016     11            48   29            5288.63   \n",
       "17850       22.00  2016     11            48   29            5288.63   \n",
       "17850       15.30  2016     11            48   29            5288.63   \n",
       "17850       25.50  2016     11            48   29            5288.63   \n",
       "...           ...   ...    ...           ...  ...                ...   \n",
       "12680       15.60  2017     12            49    7             862.81   \n",
       "12680       16.60  2017     12            49    7             862.81   \n",
       "12680       10.20  2017     12            49    7             862.81   \n",
       "12680       12.60  2017     12            49    7             862.81   \n",
       "12680       14.85  2017     12            49    7             862.81   \n",
       "\n",
       "            RecencyDays  Frequency  AvarageTicket  NumberProducts  \\\n",
       "CustomerID                                                          \n",
       "17850             373.0       34.0      16.950737           297.0   \n",
       "17850             373.0       34.0      16.950737           297.0   \n",
       "17850             373.0       34.0      16.950737           297.0   \n",
       "17850             373.0       34.0      16.950737           297.0   \n",
       "17850             373.0       34.0      16.950737           297.0   \n",
       "...                 ...        ...            ...             ...   \n",
       "12680               1.0        4.0      16.592500            52.0   \n",
       "12680               1.0        4.0      16.592500            52.0   \n",
       "12680               1.0        4.0      16.592500            52.0   \n",
       "12680               1.0        4.0      16.592500            52.0   \n",
       "12680               1.0        4.0      16.592500            52.0   \n",
       "\n",
       "            NumberReturn  \n",
       "CustomerID                \n",
       "17850               40.0  \n",
       "17850               40.0  \n",
       "17850               40.0  \n",
       "17850               40.0  \n",
       "17850               40.0  \n",
       "...                  ...  \n",
       "12680                0.0  \n",
       "12680                0.0  \n",
       "12680                0.0  \n",
       "12680                0.0  \n",
       "12680                0.0  \n",
       "\n",
       "[244977 rows x 11 columns]"
      ]
     },
     "execution_count": 51,
     "metadata": {},
     "output_type": "execute_result"
    }
   ],
   "source": [
    "data_client_extended"
   ]
  },
  {
   "cell_type": "code",
   "execution_count": 52,
   "id": "77ac39f0",
   "metadata": {},
   "outputs": [],
   "source": [
    "data_client_resume = data_client_extended[['GrossRevenueTotal','RecencyDays','Frequency']]"
   ]
  },
  {
   "cell_type": "code",
   "execution_count": 54,
   "id": "96cac46e",
   "metadata": {},
   "outputs": [
    {
     "ename": "NameError",
     "evalue": "name 'temportal' is not defined",
     "output_type": "error",
     "traceback": [
      "\u001b[1;31m---------------------------------------------------------------------------\u001b[0m",
      "\u001b[1;31mNameError\u001b[0m                                 Traceback (most recent call last)",
      "\u001b[1;32m~\\AppData\\Local\\Temp/ipykernel_11568/2084673693.py\u001b[0m in \u001b[0;36m<module>\u001b[1;34m\u001b[0m\n\u001b[1;32m----> 1\u001b[1;33m \u001b[0mtemportal\u001b[0m\u001b[1;33m[\u001b[0m\u001b[1;34m'Total'\u001b[0m\u001b[1;33m]\u001b[0m\u001b[1;33m.\u001b[0m\u001b[0mgroupby\u001b[0m\u001b[1;33m(\u001b[0m\u001b[0mdados\u001b[0m\u001b[1;33m.\u001b[0m\u001b[0mindex\u001b[0m\u001b[1;33m.\u001b[0m\u001b[0mmonth\u001b[0m\u001b[1;33m)\u001b[0m\u001b[1;33m.\u001b[0m\u001b[0mmean\u001b[0m\u001b[1;33m(\u001b[0m\u001b[1;33m)\u001b[0m\u001b[1;33m.\u001b[0m\u001b[0mplot\u001b[0m\u001b[1;33m(\u001b[0m\u001b[0mkind\u001b[0m\u001b[1;33m=\u001b[0m\u001b[1;34m'bar'\u001b[0m\u001b[1;33m)\u001b[0m\u001b[1;33m\u001b[0m\u001b[1;33m\u001b[0m\u001b[0m\n\u001b[0m",
      "\u001b[1;31mNameError\u001b[0m: name 'temportal' is not defined"
     ]
    }
   ],
   "source": []
  },
  {
   "cell_type": "code",
   "execution_count": null,
   "id": "31ecc560",
   "metadata": {},
   "outputs": [],
   "source": []
  }
 ],
 "metadata": {
  "kernelspec": {
   "display_name": "Python 3 (ipykernel)",
   "language": "python",
   "name": "python3"
  },
  "language_info": {
   "codemirror_mode": {
    "name": "ipython",
    "version": 3
   },
   "file_extension": ".py",
   "mimetype": "text/x-python",
   "name": "python",
   "nbconvert_exporter": "python",
   "pygments_lexer": "ipython3",
   "version": "3.9.7"
  }
 },
 "nbformat": 4,
 "nbformat_minor": 5
}
