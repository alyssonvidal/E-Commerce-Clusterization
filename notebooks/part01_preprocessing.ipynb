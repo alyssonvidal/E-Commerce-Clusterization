{
 "cells": [
  {
   "cell_type": "markdown",
   "id": "08b72a48",
   "metadata": {},
   "source": [
    "# Content\n",
    "     \n",
    "**Data Preprocessing**  \n",
    "   - Settings\n",
    "   - Loading Data\n",
    "   - Glossary\n",
    "   - Dealing with missing Values\n",
    "   - Fixing Data Types\n",
    "   - Dealing Bad Values\n",
    "   - Feature Engieenier"
   ]
  },
  {
   "cell_type": "markdown",
   "id": "66f54a81",
   "metadata": {},
   "source": [
    "# Data Preprossesing"
   ]
  },
  {
   "cell_type": "code",
   "execution_count": 1,
   "id": "75eb0d8d",
   "metadata": {},
   "outputs": [],
   "source": [
    "import numpy as np\n",
    "import pandas as pd\n",
    "import datetime as dt\n",
    "from datetime import datetime, date, timedelta\n",
    "from tabulate import tabulate\n",
    "from IPython.display import HTML\n",
    "import dataframe_image as di\n",
    "import warnings\n",
    "warnings.simplefilter(action='ignore', category=FutureWarning)"
   ]
  },
  {
   "cell_type": "code",
   "execution_count": 2,
   "id": "2f7899ef",
   "metadata": {},
   "outputs": [],
   "source": [
    "def menu_settings():\n",
    "    \n",
    "    display(HTML(\"\"\"\n",
    "            <style>\n",
    "\n",
    "            h1 {\n",
    "            background-color: SteelBlue;\n",
    "            color: white;\n",
    "            padding: 15px 15px;\n",
    "            text-align: center;\n",
    "            font-family: Arial, Helvetica, sans-serif;\n",
    "            border-radius:10px 10px;\n",
    "            }\n",
    "\n",
    "            h2 {\n",
    "            background-color: CadetBlue;\n",
    "            color: white;\n",
    "            padding: 10px 10px;\n",
    "            text-align: center;\n",
    "            font-family: Arial, Helvetica, sans-serif\n",
    "            border-radius:10px 10px;\n",
    "            }\n",
    "\n",
    "            </style>            \n",
    "    \"\"\"))"
   ]
  },
  {
   "cell_type": "code",
   "execution_count": 3,
   "id": "ccd586f3",
   "metadata": {},
   "outputs": [
    {
     "data": {
      "text/html": [
       "\n",
       "            <style>\n",
       "\n",
       "            h1 {\n",
       "            background-color: SteelBlue;\n",
       "            color: white;\n",
       "            padding: 15px 15px;\n",
       "            text-align: center;\n",
       "            font-family: Arial, Helvetica, sans-serif;\n",
       "            border-radius:10px 10px;\n",
       "            }\n",
       "\n",
       "            h2 {\n",
       "            background-color: CadetBlue;\n",
       "            color: white;\n",
       "            padding: 10px 10px;\n",
       "            text-align: center;\n",
       "            font-family: Arial, Helvetica, sans-serif\n",
       "            border-radius:10px 10px;\n",
       "            }\n",
       "\n",
       "            </style>            \n",
       "    "
      ],
      "text/plain": [
       "<IPython.core.display.HTML object>"
      ]
     },
     "metadata": {},
     "output_type": "display_data"
    }
   ],
   "source": [
    "menu_settings()"
   ]
  },
  {
   "cell_type": "markdown",
   "id": "e8218e66",
   "metadata": {},
   "source": [
    "## Loading Data"
   ]
  },
  {
   "cell_type": "code",
   "execution_count": 4,
   "id": "c319f3e5",
   "metadata": {},
   "outputs": [],
   "source": [
    "data_raw = pd.read_csv('../data/ecommerce.csv', encoding='iso-8859-1')\n",
    "data = data_raw.copy()"
   ]
  },
  {
   "cell_type": "code",
   "execution_count": 5,
   "id": "466bcf33",
   "metadata": {},
   "outputs": [
    {
     "name": "stdout",
     "output_type": "stream",
     "text": [
      "<class 'pandas.core.frame.DataFrame'>\n",
      "RangeIndex: 541909 entries, 0 to 541908\n",
      "Data columns (total 9 columns):\n",
      " #   Column       Non-Null Count   Dtype  \n",
      "---  ------       --------------   -----  \n",
      " 0   InvoiceNo    541909 non-null  object \n",
      " 1   StockCode    541909 non-null  object \n",
      " 2   Description  540455 non-null  object \n",
      " 3   Quantity     541909 non-null  int64  \n",
      " 4   InvoiceDate  541909 non-null  object \n",
      " 5   UnitPrice    541909 non-null  float64\n",
      " 6   CustomerID   406829 non-null  float64\n",
      " 7   Country      541909 non-null  object \n",
      " 8   Unnamed: 8   0 non-null       float64\n",
      "dtypes: float64(3), int64(1), object(5)\n",
      "memory usage: 37.2+ MB\n"
     ]
    }
   ],
   "source": [
    "data.info()"
   ]
  },
  {
   "cell_type": "markdown",
   "id": "03203e45",
   "metadata": {},
   "source": [
    "## Glossary"
   ]
  },
  {
   "cell_type": "code",
   "execution_count": 6,
   "id": "02ff3180",
   "metadata": {},
   "outputs": [],
   "source": [
    "glossary = [['Columns', 'Meaning'],\n",
    "            ['InvoiceNo', 'Unique Identifier of each transaction'],\n",
    "            ['StockCode', 'Internal item code'],\n",
    "            ['Description', 'Item description/resume'],\n",
    "            ['Quantity', 'Quantity of each item per transaction'],\n",
    "            ['InvoiceDate', 'The day of transaction'],\n",
    "            ['UnitPrice', 'Product price per unit'],\n",
    "            ['CustomerID', 'Unique Identifier of Customer'],\n",
    "            ['Country', 'Customer\\'s country of residence']\n",
    "           ]\n",
    "#print(tabulate(glossary, headers='firstrow', stralign='left', tablefmt='simple'))"
   ]
  },
  {
   "cell_type": "markdown",
   "id": "0393cbc4",
   "metadata": {},
   "source": [
    "## Dealing with missing values"
   ]
  },
  {
   "cell_type": "code",
   "execution_count": 7,
   "id": "a86d3a3f",
   "metadata": {},
   "outputs": [
    {
     "data": {
      "text/plain": [
       "InvoiceNo           0\n",
       "StockCode           0\n",
       "Description      1454\n",
       "Quantity            0\n",
       "InvoiceDate         0\n",
       "UnitPrice           0\n",
       "CustomerID     135080\n",
       "Country             0\n",
       "Unnamed: 8     541909\n",
       "dtype: int64"
      ]
     },
     "execution_count": 7,
     "metadata": {},
     "output_type": "execute_result"
    }
   ],
   "source": [
    "data.isna().sum()"
   ]
  },
  {
   "cell_type": "code",
   "execution_count": 8,
   "id": "22a370db",
   "metadata": {},
   "outputs": [],
   "source": [
    "data = data.drop('Unnamed: 8', axis=1)\n",
    "data = data.dropna(subset=['CustomerID'])#'Description',"
   ]
  },
  {
   "cell_type": "markdown",
   "id": "a097610d",
   "metadata": {},
   "source": [
    "As the purpose of this project is to group customers, then it makes no sense to classify unidentified customers. To simplify the study, we will initially ignore unidentified customers, which are those who purchased but we do not know who they are because at the time of purchase, he or she was not a registered user or was not informed at the time of purchase."
   ]
  },
  {
   "cell_type": "markdown",
   "id": "86610775",
   "metadata": {},
   "source": [
    "## Fixing Data Types"
   ]
  },
  {
   "cell_type": "code",
   "execution_count": 9,
   "id": "77f27c6b",
   "metadata": {},
   "outputs": [],
   "source": [
    "data['InvoiceDate'] = pd.to_datetime(data['InvoiceDate'], format='%d-%b-%y') #format='%m/%d/%Y %H:%M'\n",
    "data['CustomerID'] = data['CustomerID'].astype(int)\n",
    "\n",
    "data['Total'] = data['Quantity'] * data['UnitPrice']"
   ]
  },
  {
   "cell_type": "code",
   "execution_count": 10,
   "id": "69b48734",
   "metadata": {},
   "outputs": [],
   "source": [
    "#data['date'] = pd.to_datetime(data['date'], format=\"%Y-%m-%d\")\n",
    "# data['year'] = pd.DatetimeIndex(data['InvoiceDate']).year\n",
    "# data['month'] = pd.DatetimeIndex(data['InvoiceDate']).month\n",
    "# data['week_of_year'] = data['InvoiceDate'].dt.isocalendar().week\n",
    "# data['day'] = pd.DatetimeIndex(data['InvoiceDate']).day"
   ]
  },
  {
   "cell_type": "code",
   "execution_count": 11,
   "id": "9baa167e",
   "metadata": {},
   "outputs": [
    {
     "data": {
      "text/plain": [
       "(Timestamp('2016-11-29 00:00:00'), Timestamp('2017-12-07 00:00:00'))"
      ]
     },
     "execution_count": 11,
     "metadata": {},
     "output_type": "execute_result"
    }
   ],
   "source": [
    "data.InvoiceDate.min(), data.InvoiceDate.max()"
   ]
  },
  {
   "cell_type": "markdown",
   "id": "d07fb41d",
   "metadata": {},
   "source": [
    "## Dealing Bad Values"
   ]
  },
  {
   "cell_type": "code",
   "execution_count": 12,
   "id": "116fd21e",
   "metadata": {},
   "outputs": [],
   "source": [
    "sum_transactions_per_client=data[['CustomerID','Total','Quantity']].groupby('CustomerID').agg({'Total':np.sum,\n",
    "                                                                 'Quantity':np.sum,                               \n",
    "                                                                 #'CustomerID':np.unique                                                                                    \n",
    "                                                                 }).reset_index()"
   ]
  },
  {
   "cell_type": "code",
   "execution_count": 13,
   "id": "6337a903",
   "metadata": {},
   "outputs": [],
   "source": [
    "#Customers who do not have a positive purchase balance or who owe the company (due to the temporal cut of the database) will be excluded\n",
    "\n",
    "bad_clients = sum_transactions_per_client.loc[(sum_transactions_per_client['Total'] <= 0.5) | (sum_transactions_per_client['Quantity'] <= 1)]"
   ]
  },
  {
   "cell_type": "code",
   "execution_count": 14,
   "id": "e71ec1a5",
   "metadata": {},
   "outputs": [],
   "source": [
    "list_bad_clients=bad_clients['CustomerID'].tolist()\n",
    "data = data[~data['CustomerID'].isin(list_bad_clients)]"
   ]
  },
  {
   "cell_type": "code",
   "execution_count": 15,
   "id": "6c9c7583",
   "metadata": {},
   "outputs": [],
   "source": [
    "data = data.loc[~(data['UnitPrice'] < 0.04)]"
   ]
  },
  {
   "cell_type": "code",
   "execution_count": 16,
   "id": "4b696e76",
   "metadata": {},
   "outputs": [
    {
     "data": {
      "text/plain": [
       "POST            1196\n",
       "M                434\n",
       "C2               134\n",
       "D                 75\n",
       "DOT               16\n",
       "CRUK              16\n",
       "BANK CHARGES      10\n",
       "Name: StockCode, dtype: int64"
      ]
     },
     "execution_count": 16,
     "metadata": {},
     "output_type": "execute_result"
    }
   ],
   "source": [
    "data[data.StockCode.str.contains(\"^[a-zA-Z]\")].StockCode.value_counts()"
   ]
  },
  {
   "cell_type": "code",
   "execution_count": 17,
   "id": "813ce4d5",
   "metadata": {},
   "outputs": [
    {
     "data": {
      "text/plain": [
       "POSTAGE            1196\n",
       "Manual              434\n",
       "CARRIAGE            134\n",
       "Discount             75\n",
       "DOTCOM POSTAGE       16\n",
       "CRUK Commission      16\n",
       "Bank Charges         10\n",
       "Name: Description, dtype: int64"
      ]
     },
     "execution_count": 17,
     "metadata": {},
     "output_type": "execute_result"
    }
   ],
   "source": [
    "data[data.StockCode.str.contains(\"^[a-zA-Z]\")].Description.value_counts()"
   ]
  },
  {
   "cell_type": "code",
   "execution_count": 18,
   "id": "c0de6ef9",
   "metadata": {},
   "outputs": [],
   "source": [
    "list_letter_stock=data[data.StockCode.str.contains(\"^[a-zA-Z]\")].StockCode.value_counts().index.tolist()"
   ]
  },
  {
   "cell_type": "code",
   "execution_count": 19,
   "id": "f7702b6c",
   "metadata": {},
   "outputs": [],
   "source": [
    "data = data.loc[~data['StockCode'].isin(list_letter_stock)]"
   ]
  },
  {
   "cell_type": "code",
   "execution_count": 20,
   "id": "dd876e6b",
   "metadata": {},
   "outputs": [
    {
     "data": {
      "text/plain": [
       "StockCode\n",
       "16156L    2\n",
       "17107D    3\n",
       "20622     2\n",
       "20725     2\n",
       "20914     2\n",
       "         ..\n",
       "85184C    2\n",
       "85185B    2\n",
       "90014A    2\n",
       "90014B    2\n",
       "90014C    2\n",
       "Name: Description, Length: 213, dtype: int64"
      ]
     },
     "execution_count": 20,
     "metadata": {},
     "output_type": "execute_result"
    }
   ],
   "source": [
    "data.groupby(\"StockCode\")[\"Description\"].nunique()[data.groupby(\"StockCode\")[\"Description\"].nunique() != 1]"
   ]
  },
  {
   "cell_type": "markdown",
   "id": "0ae711b6",
   "metadata": {},
   "source": [
    "Absurd purchases followed by cancellations, purchase values close to or below zero will be considered as bad input values and thus will be deleted. They can even be useful in the EDA stage to generate insights, but for the machine learning model they significantly interfere with performance.\n",
    "\n",
    "As this database is a temporal cut of the company's sales, we will find purchase cancellations but we will not find the purchase related to this cancellation, this is a big problem. One of the ways to solve this is to identify the cancellations one by one and delete this line, another way is to delete the customers that on average the company owes them. I preferred to choose the second way because it is simpler to perform, later in the code this will be done."
   ]
  },
  {
   "cell_type": "markdown",
   "id": "15853709",
   "metadata": {},
   "source": [
    "## Feature Engeenier"
   ]
  },
  {
   "cell_type": "code",
   "execution_count": 21,
   "id": "916deab0",
   "metadata": {},
   "outputs": [],
   "source": [
    "transactions = data.copy()"
   ]
  },
  {
   "cell_type": "code",
   "execution_count": 33,
   "id": "a792b46b",
   "metadata": {},
   "outputs": [],
   "source": [
    "#Group InvoiceNumber, it contains sales and cancelations\n",
    "\n",
    "transactions=data.groupby('InvoiceNo').agg( CustomerID = ('CustomerID', np.unique),\n",
    "                                            InvoiceDate = ('InvoiceDate', np.unique),\n",
    "                                            Total = ('Total', 'sum'),\n",
    "                                            UniqueProducts = ('StockCode', 'nunique'), \n",
    "                                            Items = ('Quantity', 'sum'),\n",
    "                                            Country = ('Country', np.unique),\n",
    "                                            ProductsCode = ('StockCode', np.unique)).reset_index()\n",
    "\n",
    "transactions['AvarageTicket']= round(transactions['Total']/transactions['UniqueProducts'],2) \n",
    "#len(transactions)"
   ]
  },
  {
   "cell_type": "code",
   "execution_count": 34,
   "id": "dca44a90",
   "metadata": {},
   "outputs": [],
   "source": [
    "#transactions.InvoiceNo.str.contains(\"C\").value_counts()"
   ]
  },
  {
   "cell_type": "code",
   "execution_count": 35,
   "id": "8c4b01f9",
   "metadata": {},
   "outputs": [
    {
     "data": {
      "text/html": [
       "<div>\n",
       "<style scoped>\n",
       "    .dataframe tbody tr th:only-of-type {\n",
       "        vertical-align: middle;\n",
       "    }\n",
       "\n",
       "    .dataframe tbody tr th {\n",
       "        vertical-align: top;\n",
       "    }\n",
       "\n",
       "    .dataframe thead th {\n",
       "        text-align: right;\n",
       "    }\n",
       "</style>\n",
       "<table border=\"1\" class=\"dataframe\">\n",
       "  <thead>\n",
       "    <tr style=\"text-align: right;\">\n",
       "      <th></th>\n",
       "      <th>InvoiceNo</th>\n",
       "      <th>CustomerID</th>\n",
       "      <th>InvoiceDate</th>\n",
       "      <th>Total</th>\n",
       "      <th>UniqueProducts</th>\n",
       "      <th>Items</th>\n",
       "      <th>Country</th>\n",
       "      <th>ProductsCode</th>\n",
       "      <th>AvarageTicket</th>\n",
       "    </tr>\n",
       "  </thead>\n",
       "  <tbody>\n",
       "    <tr>\n",
       "      <th>0</th>\n",
       "      <td>536365</td>\n",
       "      <td>17850</td>\n",
       "      <td>2016-11-29</td>\n",
       "      <td>139.12</td>\n",
       "      <td>7</td>\n",
       "      <td>40</td>\n",
       "      <td>United Kingdom</td>\n",
       "      <td>[21730, 22752, 71053, 84029E, 84029G, 84406B, ...</td>\n",
       "      <td>19.87</td>\n",
       "    </tr>\n",
       "    <tr>\n",
       "      <th>1</th>\n",
       "      <td>536366</td>\n",
       "      <td>17850</td>\n",
       "      <td>2016-11-29</td>\n",
       "      <td>22.20</td>\n",
       "      <td>2</td>\n",
       "      <td>12</td>\n",
       "      <td>United Kingdom</td>\n",
       "      <td>[22632, 22633]</td>\n",
       "      <td>11.10</td>\n",
       "    </tr>\n",
       "    <tr>\n",
       "      <th>2</th>\n",
       "      <td>536367</td>\n",
       "      <td>13047</td>\n",
       "      <td>2016-11-29</td>\n",
       "      <td>278.73</td>\n",
       "      <td>12</td>\n",
       "      <td>83</td>\n",
       "      <td>United Kingdom</td>\n",
       "      <td>[21754, 21755, 21777, 22310, 22622, 22623, 227...</td>\n",
       "      <td>23.23</td>\n",
       "    </tr>\n",
       "    <tr>\n",
       "      <th>3</th>\n",
       "      <td>536368</td>\n",
       "      <td>13047</td>\n",
       "      <td>2016-11-29</td>\n",
       "      <td>70.05</td>\n",
       "      <td>4</td>\n",
       "      <td>15</td>\n",
       "      <td>United Kingdom</td>\n",
       "      <td>[22912, 22913, 22914, 22960]</td>\n",
       "      <td>17.51</td>\n",
       "    </tr>\n",
       "    <tr>\n",
       "      <th>4</th>\n",
       "      <td>536369</td>\n",
       "      <td>13047</td>\n",
       "      <td>2016-11-29</td>\n",
       "      <td>17.85</td>\n",
       "      <td>1</td>\n",
       "      <td>3</td>\n",
       "      <td>United Kingdom</td>\n",
       "      <td>21756</td>\n",
       "      <td>17.85</td>\n",
       "    </tr>\n",
       "    <tr>\n",
       "      <th>...</th>\n",
       "      <td>...</td>\n",
       "      <td>...</td>\n",
       "      <td>...</td>\n",
       "      <td>...</td>\n",
       "      <td>...</td>\n",
       "      <td>...</td>\n",
       "      <td>...</td>\n",
       "      <td>...</td>\n",
       "      <td>...</td>\n",
       "    </tr>\n",
       "    <tr>\n",
       "      <th>21700</th>\n",
       "      <td>C581470</td>\n",
       "      <td>17924</td>\n",
       "      <td>2017-12-06</td>\n",
       "      <td>-8.32</td>\n",
       "      <td>1</td>\n",
       "      <td>-4</td>\n",
       "      <td>United Kingdom</td>\n",
       "      <td>23084</td>\n",
       "      <td>-8.32</td>\n",
       "    </tr>\n",
       "    <tr>\n",
       "      <th>21701</th>\n",
       "      <td>C581484</td>\n",
       "      <td>16446</td>\n",
       "      <td>2017-12-07</td>\n",
       "      <td>-168469.60</td>\n",
       "      <td>1</td>\n",
       "      <td>-80995</td>\n",
       "      <td>United Kingdom</td>\n",
       "      <td>23843</td>\n",
       "      <td>-168469.60</td>\n",
       "    </tr>\n",
       "    <tr>\n",
       "      <th>21702</th>\n",
       "      <td>C581490</td>\n",
       "      <td>14397</td>\n",
       "      <td>2017-12-07</td>\n",
       "      <td>-32.53</td>\n",
       "      <td>2</td>\n",
       "      <td>-23</td>\n",
       "      <td>United Kingdom</td>\n",
       "      <td>[22178, 23144]</td>\n",
       "      <td>-16.26</td>\n",
       "    </tr>\n",
       "    <tr>\n",
       "      <th>21703</th>\n",
       "      <td>C581568</td>\n",
       "      <td>15311</td>\n",
       "      <td>2017-12-07</td>\n",
       "      <td>-54.75</td>\n",
       "      <td>1</td>\n",
       "      <td>-5</td>\n",
       "      <td>United Kingdom</td>\n",
       "      <td>21258</td>\n",
       "      <td>-54.75</td>\n",
       "    </tr>\n",
       "    <tr>\n",
       "      <th>21704</th>\n",
       "      <td>C581569</td>\n",
       "      <td>17315</td>\n",
       "      <td>2017-12-07</td>\n",
       "      <td>-7.50</td>\n",
       "      <td>2</td>\n",
       "      <td>-6</td>\n",
       "      <td>United Kingdom</td>\n",
       "      <td>[20979, 84978]</td>\n",
       "      <td>-3.75</td>\n",
       "    </tr>\n",
       "  </tbody>\n",
       "</table>\n",
       "<p>21705 rows × 9 columns</p>\n",
       "</div>"
      ],
      "text/plain": [
       "      InvoiceNo  CustomerID InvoiceDate      Total  UniqueProducts  Items  \\\n",
       "0        536365       17850  2016-11-29     139.12               7     40   \n",
       "1        536366       17850  2016-11-29      22.20               2     12   \n",
       "2        536367       13047  2016-11-29     278.73              12     83   \n",
       "3        536368       13047  2016-11-29      70.05               4     15   \n",
       "4        536369       13047  2016-11-29      17.85               1      3   \n",
       "...         ...         ...         ...        ...             ...    ...   \n",
       "21700   C581470       17924  2017-12-06      -8.32               1     -4   \n",
       "21701   C581484       16446  2017-12-07 -168469.60               1 -80995   \n",
       "21702   C581490       14397  2017-12-07     -32.53               2    -23   \n",
       "21703   C581568       15311  2017-12-07     -54.75               1     -5   \n",
       "21704   C581569       17315  2017-12-07      -7.50               2     -6   \n",
       "\n",
       "              Country                                       ProductsCode  \\\n",
       "0      United Kingdom  [21730, 22752, 71053, 84029E, 84029G, 84406B, ...   \n",
       "1      United Kingdom                                     [22632, 22633]   \n",
       "2      United Kingdom  [21754, 21755, 21777, 22310, 22622, 22623, 227...   \n",
       "3      United Kingdom                       [22912, 22913, 22914, 22960]   \n",
       "4      United Kingdom                                              21756   \n",
       "...               ...                                                ...   \n",
       "21700  United Kingdom                                              23084   \n",
       "21701  United Kingdom                                              23843   \n",
       "21702  United Kingdom                                     [22178, 23144]   \n",
       "21703  United Kingdom                                              21258   \n",
       "21704  United Kingdom                                     [20979, 84978]   \n",
       "\n",
       "       AvarageTicket  \n",
       "0              19.87  \n",
       "1              11.10  \n",
       "2              23.23  \n",
       "3              17.51  \n",
       "4              17.85  \n",
       "...              ...  \n",
       "21700          -8.32  \n",
       "21701     -168469.60  \n",
       "21702         -16.26  \n",
       "21703         -54.75  \n",
       "21704          -3.75  \n",
       "\n",
       "[21705 rows x 9 columns]"
      ]
     },
     "execution_count": 35,
     "metadata": {},
     "output_type": "execute_result"
    }
   ],
   "source": [
    "transactions"
   ]
  },
  {
   "cell_type": "code",
   "execution_count": 36,
   "id": "f7a9ad13",
   "metadata": {},
   "outputs": [],
   "source": [
    "last_day = data.InvoiceDate.max() + dt.timedelta(days = 1)\n",
    "\n",
    "transactions_per_customer = transactions.groupby('CustomerID').agg(\n",
    "                                                      GrossRevenue = ('Total', np.sum),                                           \n",
    "                                                      Recency = ('InvoiceDate', lambda x: ((last_day - x.max()).days)),             \n",
    "                                                      Frequency = ('InvoiceNo', 'count'),             \n",
    "                                                      Products = ('UniqueProducts', 'sum'), \n",
    "                                                      Items = ('Items', 'sum'),  \n",
    "                                                      Country = ('Country', np.unique),\n",
    "                                                      AvarageTicket = ('AvarageTicket', 'sum'))            \n",
    "                                                      #Products = ('StockCode', np.unique),\n",
    "                                                                   \n",
    "#transactions_per_customer['AvarageTicket']= round(transactions_per_customer['GrossRevenue'] / transactions_per_customer['Products'],2)"
   ]
  },
  {
   "cell_type": "code",
   "execution_count": null,
   "id": "a0990b5e",
   "metadata": {},
   "outputs": [],
   "source": []
  },
  {
   "cell_type": "code",
   "execution_count": null,
   "id": "c8b5efb3",
   "metadata": {},
   "outputs": [],
   "source": []
  },
  {
   "cell_type": "code",
   "execution_count": null,
   "id": "1bb87ff2",
   "metadata": {},
   "outputs": [],
   "source": []
  }
 ],
 "metadata": {
  "hide_input": false,
  "kernelspec": {
   "display_name": "Python 3 (ipykernel)",
   "language": "python",
   "name": "python3"
  },
  "language_info": {
   "codemirror_mode": {
    "name": "ipython",
    "version": 3
   },
   "file_extension": ".py",
   "mimetype": "text/x-python",
   "name": "python",
   "nbconvert_exporter": "python",
   "pygments_lexer": "ipython3",
   "version": "3.9.7"
  },
  "latex_envs": {
   "LaTeX_envs_menu_present": true,
   "autoclose": false,
   "autocomplete": true,
   "bibliofile": "biblio.bib",
   "cite_by": "apalike",
   "current_citInitial": 1,
   "eqLabelWithNumbers": true,
   "eqNumInitial": 1,
   "hotkeys": {
    "equation": "Ctrl-E",
    "itemize": "Ctrl-I"
   },
   "labels_anchors": false,
   "latex_user_defs": false,
   "report_style_numbering": false,
   "user_envs_cfg": false
  }
 },
 "nbformat": 4,
 "nbformat_minor": 5
}
