{
 "cells": [
  {
   "cell_type": "markdown",
   "id": "08b72a48",
   "metadata": {},
   "source": [
    "# Content\n",
    "     \n",
    "**Data Preprocessing**  \n",
    "   - Loading Data\n",
    "   - Glossary\n",
    "   - Dealing with missing Values\n",
    "   - Fixing Data Types\n",
    "   - Dealing Bad Values\n",
    "   - Feature Engieenier"
   ]
  },
  {
   "cell_type": "markdown",
   "id": "66f54a81",
   "metadata": {},
   "source": [
    "# Data Preprossesing"
   ]
  },
  {
   "cell_type": "code",
   "execution_count": 21,
   "id": "75eb0d8d",
   "metadata": {},
   "outputs": [],
   "source": [
    "import numpy as np\n",
    "import pandas as pd\n",
    "import datetime as dt\n",
    "from datetime import datetime, date, timedelta\n",
    "from tabulate import tabulate\n",
    "from IPython.display import HTML\n",
    "import notebook_settings\n",
    "import warnings\n",
    "warnings.simplefilter(action='ignore', category=FutureWarning)"
   ]
  },
  {
   "cell_type": "code",
   "execution_count": 24,
   "id": "576d8218",
   "metadata": {},
   "outputs": [
    {
     "data": {
      "text/html": [
       "\n",
       "<style>\n",
       "\n",
       "h1 {\n",
       "    background-color: DarkSlateGray;\n",
       "    color: white;\n",
       "    padding: 15px 15px;\n",
       "    text-align: center;\n",
       "    font-family: Arial, Helvetica, sans-serif;\n",
       "    border-radius:10px 10px;\n",
       "}\n",
       "\n",
       "h2 {\n",
       "    background-color: CadetBlue;\n",
       "    color: white;\n",
       "    padding: 10px 10px;\n",
       "    text-align: center;\n",
       "    font-family: Arial, Helvetica, sans-serif\n",
       "    border-radius:10px 10px;\n",
       "}\n",
       "\n",
       "h3 {\n",
       "    background-color: LightSeaGreen;\n",
       "    color: white;\n",
       "    padding: 10px 10px;\n",
       "    text-align: center;\n",
       "    font-family: Arial, Helvetica, sans-serif\n",
       "    border-radius:10px 10px;\n",
       "}\n",
       "\n",
       "\n",
       "</style>\n"
      ],
      "text/plain": [
       "<IPython.core.display.HTML object>"
      ]
     },
     "execution_count": 24,
     "metadata": {},
     "output_type": "execute_result"
    }
   ],
   "source": [
    "HTML(\"\"\"\n",
    "<style>\n",
    "\n",
    "h1 {\n",
    "    background-color: DarkSlateGray;\n",
    "    color: white;\n",
    "    padding: 15px 15px;\n",
    "    text-align: center;\n",
    "    font-family: Arial, Helvetica, sans-serif;\n",
    "    border-radius:10px 10px;\n",
    "}\n",
    "\n",
    "h2 {\n",
    "    background-color: CadetBlue;\n",
    "    color: white;\n",
    "    padding: 10px 10px;\n",
    "    text-align: center;\n",
    "    font-family: Arial, Helvetica, sans-serif\n",
    "    border-radius:10px 10px;\n",
    "}\n",
    "\n",
    "h3 {\n",
    "    background-color: LightSeaGreen;\n",
    "    color: white;\n",
    "    padding: 10px 10px;\n",
    "    text-align: center;\n",
    "    font-family: Arial, Helvetica, sans-serif\n",
    "    border-radius:10px 10px;\n",
    "}\n",
    "\n",
    "\n",
    "</style>\n",
    "\"\"\")"
   ]
  },
  {
   "cell_type": "markdown",
   "id": "e8218e66",
   "metadata": {},
   "source": [
    "## Loading Data"
   ]
  },
  {
   "cell_type": "code",
   "execution_count": 10,
   "id": "c319f3e5",
   "metadata": {},
   "outputs": [],
   "source": [
    "data_raw = pd.read_csv('../data/ecommerce.csv', encoding='iso-8859-1')\n",
    "data = data_raw.copy()"
   ]
  },
  {
   "cell_type": "code",
   "execution_count": 11,
   "id": "466bcf33",
   "metadata": {},
   "outputs": [
    {
     "name": "stdout",
     "output_type": "stream",
     "text": [
      "<class 'pandas.core.frame.DataFrame'>\n",
      "RangeIndex: 541909 entries, 0 to 541908\n",
      "Data columns (total 9 columns):\n",
      " #   Column       Non-Null Count   Dtype  \n",
      "---  ------       --------------   -----  \n",
      " 0   InvoiceNo    541909 non-null  object \n",
      " 1   StockCode    541909 non-null  object \n",
      " 2   Description  540455 non-null  object \n",
      " 3   Quantity     541909 non-null  int64  \n",
      " 4   InvoiceDate  541909 non-null  object \n",
      " 5   UnitPrice    541909 non-null  float64\n",
      " 6   CustomerID   406829 non-null  float64\n",
      " 7   Country      541909 non-null  object \n",
      " 8   Unnamed: 8   0 non-null       float64\n",
      "dtypes: float64(3), int64(1), object(5)\n",
      "memory usage: 37.2+ MB\n"
     ]
    }
   ],
   "source": [
    "data.info()"
   ]
  },
  {
   "cell_type": "markdown",
   "id": "03203e45",
   "metadata": {},
   "source": [
    "## Glossary"
   ]
  },
  {
   "cell_type": "code",
   "execution_count": 12,
   "id": "02ff3180",
   "metadata": {},
   "outputs": [],
   "source": [
    "glossary = [['Columns', 'Meaning'],\n",
    "            ['InvoiceNo', 'Unique Identifier of each transaction'],\n",
    "            ['StockCode', 'Internal item code'],\n",
    "            ['Description', 'Item description/resume'],\n",
    "            ['Quantity', 'Quantity of each item per transaction'],\n",
    "            ['InvoiceDate', 'The day of transaction'],\n",
    "            ['UnitPrice', 'Product price per unit'],\n",
    "            ['CustomerID', 'Unique Identifier of Customer'],\n",
    "            ['Country', 'Customer\\'s country of residence']\n",
    "           ]\n",
    "#print(tabulate(glossary, headers='firstrow', stralign='left', tablefmt='simple'))"
   ]
  },
  {
   "cell_type": "markdown",
   "id": "0393cbc4",
   "metadata": {},
   "source": [
    "## Dealing with missing values"
   ]
  },
  {
   "cell_type": "code",
   "execution_count": 350,
   "id": "a86d3a3f",
   "metadata": {},
   "outputs": [
    {
     "data": {
      "text/plain": [
       "InvoiceNo           0\n",
       "StockCode           0\n",
       "Description      1454\n",
       "Quantity            0\n",
       "InvoiceDate         0\n",
       "UnitPrice           0\n",
       "CustomerID     135080\n",
       "Country             0\n",
       "Unnamed: 8     541909\n",
       "dtype: int64"
      ]
     },
     "execution_count": 350,
     "metadata": {},
     "output_type": "execute_result"
    }
   ],
   "source": [
    "data.isna().sum()"
   ]
  },
  {
   "cell_type": "code",
   "execution_count": 351,
   "id": "22a370db",
   "metadata": {},
   "outputs": [],
   "source": [
    "data = data.drop('Unnamed: 8', axis=1)\n",
    "data = data.dropna(subset=['Description','CustomerID'])"
   ]
  },
  {
   "cell_type": "code",
   "execution_count": 352,
   "id": "10acf1ba",
   "metadata": {},
   "outputs": [],
   "source": [
    "#data[\"IsCancelled\"]=np.where(data.InvoiceNo.apply(lambda l: l[0]==\"C\"), True, False)\n",
    "#data.IsCancelled.value_counts() / data.shape[0] * 100 , data.IsCancelled.value_counts()\n",
    "#data[data[\"InvoiceNo\"].str.startswith(\"C\")]"
   ]
  },
  {
   "cell_type": "markdown",
   "id": "a097610d",
   "metadata": {},
   "source": [
    "As the purpose of this project is to group customers, then it makes no sense to classify unidentified customers. To simplify the study, we will initially ignore unidentified customers, which are those who purchased but we do not know who they are because at the time of purchase, he or she was not a registered user or was not informed at the time of purchase."
   ]
  },
  {
   "cell_type": "markdown",
   "id": "86610775",
   "metadata": {},
   "source": [
    "## Fixing Data Types"
   ]
  },
  {
   "cell_type": "code",
   "execution_count": 353,
   "id": "77f27c6b",
   "metadata": {},
   "outputs": [],
   "source": [
    "data['InvoiceDate'] = pd.to_datetime(data['InvoiceDate'], format='%d-%b-%y') #format='%m/%d/%Y %H:%M'\n",
    "data['CustomerID'] = data['CustomerID'].astype(int)"
   ]
  },
  {
   "cell_type": "code",
   "execution_count": 354,
   "id": "9baa167e",
   "metadata": {},
   "outputs": [
    {
     "data": {
      "text/plain": [
       "(Timestamp('2016-11-29 00:00:00'), Timestamp('2017-12-07 00:00:00'))"
      ]
     },
     "execution_count": 354,
     "metadata": {},
     "output_type": "execute_result"
    }
   ],
   "source": [
    "data.InvoiceDate.min(), data.InvoiceDate.max()"
   ]
  },
  {
   "cell_type": "markdown",
   "id": "d07fb41d",
   "metadata": {},
   "source": [
    "## Dealing Bad Values"
   ]
  },
  {
   "cell_type": "code",
   "execution_count": 355,
   "id": "f5507e72",
   "metadata": {},
   "outputs": [],
   "source": [
    "# data.loc[data['CustomerID'] == 12346] \n",
    "# data.loc[data['CustomerID'] == 16446] \n",
    "\n",
    "data = data[~data['CustomerID'].isin([12346, 16446])]\n",
    "data = data.loc[~(data['UnitPrice'] < 0.04)]"
   ]
  },
  {
   "cell_type": "markdown",
   "id": "0ae711b6",
   "metadata": {},
   "source": [
    "Absurd purchases followed by cancellations, purchase values close to or below zero will be considered as bad input values and thus will be deleted. They can even be useful in the EDA stage to generate insights, but for the machine learning model they significantly interfere with performance.\n",
    "\n",
    "As this database is a temporal cut of the company's sales, we will find purchase cancellations but we will not find the purchase related to this cancellation, this is a big problem. One of the ways to solve this is to identify the cancellations one by one and delete this line, another way is to delete the customers that on average the company owes them. I preferred to choose the second way because it is simpler to perform, later in the code this will be done."
   ]
  },
  {
   "cell_type": "markdown",
   "id": "15853709",
   "metadata": {},
   "source": [
    "## Feature Engeenier"
   ]
  },
  {
   "cell_type": "code",
   "execution_count": 356,
   "id": "916deab0",
   "metadata": {},
   "outputs": [],
   "source": [
    "df2 = data.copy()"
   ]
  },
  {
   "cell_type": "code",
   "execution_count": 357,
   "id": "dc78e1ef",
   "metadata": {},
   "outputs": [],
   "source": [
    "df_purchase = data.loc[data['Quantity'] >= 0]\n",
    "df_returns = data.loc[data['Quantity'] < 0]"
   ]
  },
  {
   "cell_type": "code",
   "execution_count": 358,
   "id": "0dcc542e",
   "metadata": {},
   "outputs": [],
   "source": [
    "data_client_extended = df2.drop(['InvoiceNo','StockCode','Description', 'Quantity','InvoiceDate','UnitPrice','Country'],axis=1).drop_duplicates(ignore_index=True)"
   ]
  },
  {
   "cell_type": "code",
   "execution_count": 359,
   "id": "60e40f8c",
   "metadata": {},
   "outputs": [],
   "source": [
    "# GrossRevenue\n",
    "df2['GrossRevenuePartial'] = df2['Quantity'] * df2['UnitPrice']\n",
    "aux_revenue = df2[['CustomerID', 'GrossRevenuePartial']].groupby('CustomerID').sum().reset_index().rename(columns={'GrossRevenuePartial':'GrossRevenueTotal'})\n",
    "data_client_extended = pd.merge(data_client_extended,aux_revenue, how='left',on='CustomerID')"
   ]
  },
  {
   "cell_type": "code",
   "execution_count": 360,
   "id": "3879abf9",
   "metadata": {},
   "outputs": [],
   "source": [
    "# Recency - Last day purchase\n",
    "last_day = data.InvoiceDate.max() + dt.timedelta(days = 1)\n",
    "aux_recency = df_purchase[['CustomerID','InvoiceDate']].groupby('CustomerID').max().reset_index()\n",
    "aux_recency['RecencyDays'] = (last_day - aux_recency['InvoiceDate']).dt.days\n",
    "data_client_extended = pd.merge(data_client_extended, aux_recency[['CustomerID','RecencyDays']], on ='CustomerID', how='left')"
   ]
  },
  {
   "cell_type": "code",
   "execution_count": 361,
   "id": "15ce252a",
   "metadata": {},
   "outputs": [],
   "source": [
    "# Frequency\n",
    "aux_freq = df_purchase[['CustomerID','InvoiceNo']].drop_duplicates('InvoiceNo').groupby('CustomerID').count().reset_index().rename(columns={'InvoiceNo':'Frequency'})\n",
    "data_client_extended = pd.merge(data_client_extended, aux_freq, on='CustomerID',how='left')"
   ]
  },
  {
   "cell_type": "code",
   "execution_count": 362,
   "id": "b1560091",
   "metadata": {},
   "outputs": [],
   "source": [
    "# Avarage Ticket\n",
    "aux_ticket = df2[['CustomerID','GrossRevenuePartial']].groupby('CustomerID').mean().reset_index().rename(columns={'GrossRevenuePartial':'AvarageTicket'})\n",
    "data_client_extended = pd.merge(data_client_extended, aux_ticket,on='CustomerID',how='left')"
   ]
  },
  {
   "cell_type": "code",
   "execution_count": 363,
   "id": "f9d64195",
   "metadata": {},
   "outputs": [],
   "source": [
    "# Número of Purchases\n",
    "aux_prod = df_purchase.loc[:,['CustomerID', 'StockCode']].groupby('CustomerID').count().reset_index().rename(columns={'StockCode':'NumberProducts'})\n",
    "data_client_extended = pd.merge(data_client_extended, aux_prod, on='CustomerID', how='left')"
   ]
  },
  {
   "cell_type": "code",
   "execution_count": 364,
   "id": "1c41a9f7",
   "metadata": {},
   "outputs": [],
   "source": [
    "# Number Of Returns\n",
    "aux_return = df_returns[['CustomerID', 'Quantity']].groupby('CustomerID').sum().reset_index().rename(columns={'Quantity':'NumberReturn'})\n",
    "aux_return['NumberReturn'] = -1*aux_return['NumberReturn']\n",
    "aux_return['NumberReturn'] = aux_return['NumberReturn'].fillna(0)\n",
    "data_client_extended = pd.merge(data_client_extended, aux_return, on='CustomerID', how='left')"
   ]
  },
  {
   "cell_type": "code",
   "execution_count": 365,
   "id": "3923286b",
   "metadata": {},
   "outputs": [],
   "source": [
    "data_client_extended = data_client_extended.set_index('CustomerID')"
   ]
  },
  {
   "cell_type": "code",
   "execution_count": 366,
   "id": "f40c024c",
   "metadata": {},
   "outputs": [
    {
     "data": {
      "text/html": [
       "<div>\n",
       "<style scoped>\n",
       "    .dataframe tbody tr th:only-of-type {\n",
       "        vertical-align: middle;\n",
       "    }\n",
       "\n",
       "    .dataframe tbody tr th {\n",
       "        vertical-align: top;\n",
       "    }\n",
       "\n",
       "    .dataframe thead th {\n",
       "        text-align: right;\n",
       "    }\n",
       "</style>\n",
       "<table border=\"1\" class=\"dataframe\">\n",
       "  <thead>\n",
       "    <tr style=\"text-align: right;\">\n",
       "      <th></th>\n",
       "      <th>GrossRevenueTotal</th>\n",
       "      <th>RecencyDays</th>\n",
       "      <th>Frequency</th>\n",
       "      <th>AvarageTicket</th>\n",
       "      <th>NumberProducts</th>\n",
       "      <th>NumberReturn</th>\n",
       "    </tr>\n",
       "    <tr>\n",
       "      <th>CustomerID</th>\n",
       "      <th></th>\n",
       "      <th></th>\n",
       "      <th></th>\n",
       "      <th></th>\n",
       "      <th></th>\n",
       "      <th></th>\n",
       "    </tr>\n",
       "  </thead>\n",
       "  <tbody>\n",
       "    <tr>\n",
       "      <th>12915</th>\n",
       "      <td>363.65</td>\n",
       "      <td>149.0</td>\n",
       "      <td>2.0</td>\n",
       "      <td>16.529545</td>\n",
       "      <td>22.0</td>\n",
       "      <td>NaN</td>\n",
       "    </tr>\n",
       "    <tr>\n",
       "      <th>13821</th>\n",
       "      <td>385.64</td>\n",
       "      <td>145.0</td>\n",
       "      <td>2.0</td>\n",
       "      <td>6.536271</td>\n",
       "      <td>59.0</td>\n",
       "      <td>NaN</td>\n",
       "    </tr>\n",
       "    <tr>\n",
       "      <th>15157</th>\n",
       "      <td>1869.50</td>\n",
       "      <td>4.0</td>\n",
       "      <td>3.0</td>\n",
       "      <td>14.056391</td>\n",
       "      <td>125.0</td>\n",
       "      <td>150.0</td>\n",
       "    </tr>\n",
       "    <tr>\n",
       "      <th>13849</th>\n",
       "      <td>1537.95</td>\n",
       "      <td>52.0</td>\n",
       "      <td>2.0</td>\n",
       "      <td>15.227228</td>\n",
       "      <td>101.0</td>\n",
       "      <td>NaN</td>\n",
       "    </tr>\n",
       "    <tr>\n",
       "      <th>16591</th>\n",
       "      <td>213.50</td>\n",
       "      <td>69.0</td>\n",
       "      <td>1.0</td>\n",
       "      <td>21.350000</td>\n",
       "      <td>10.0</td>\n",
       "      <td>NaN</td>\n",
       "    </tr>\n",
       "    <tr>\n",
       "      <th>18001</th>\n",
       "      <td>417.23</td>\n",
       "      <td>13.0</td>\n",
       "      <td>2.0</td>\n",
       "      <td>7.193621</td>\n",
       "      <td>58.0</td>\n",
       "      <td>NaN</td>\n",
       "    </tr>\n",
       "    <tr>\n",
       "      <th>15993</th>\n",
       "      <td>2756.82</td>\n",
       "      <td>9.0</td>\n",
       "      <td>7.0</td>\n",
       "      <td>4.922893</td>\n",
       "      <td>552.0</td>\n",
       "      <td>9.0</td>\n",
       "    </tr>\n",
       "    <tr>\n",
       "      <th>14127</th>\n",
       "      <td>709.71</td>\n",
       "      <td>123.0</td>\n",
       "      <td>3.0</td>\n",
       "      <td>16.129773</td>\n",
       "      <td>44.0</td>\n",
       "      <td>NaN</td>\n",
       "    </tr>\n",
       "    <tr>\n",
       "      <th>15904</th>\n",
       "      <td>164.68</td>\n",
       "      <td>9.0</td>\n",
       "      <td>1.0</td>\n",
       "      <td>5.489333</td>\n",
       "      <td>30.0</td>\n",
       "      <td>NaN</td>\n",
       "    </tr>\n",
       "    <tr>\n",
       "      <th>15603</th>\n",
       "      <td>48.48</td>\n",
       "      <td>79.0</td>\n",
       "      <td>1.0</td>\n",
       "      <td>24.240000</td>\n",
       "      <td>2.0</td>\n",
       "      <td>NaN</td>\n",
       "    </tr>\n",
       "  </tbody>\n",
       "</table>\n",
       "</div>"
      ],
      "text/plain": [
       "            GrossRevenueTotal  RecencyDays  Frequency  AvarageTicket  \\\n",
       "CustomerID                                                             \n",
       "12915                  363.65        149.0        2.0      16.529545   \n",
       "13821                  385.64        145.0        2.0       6.536271   \n",
       "15157                 1869.50          4.0        3.0      14.056391   \n",
       "13849                 1537.95         52.0        2.0      15.227228   \n",
       "16591                  213.50         69.0        1.0      21.350000   \n",
       "18001                  417.23         13.0        2.0       7.193621   \n",
       "15993                 2756.82          9.0        7.0       4.922893   \n",
       "14127                  709.71        123.0        3.0      16.129773   \n",
       "15904                  164.68          9.0        1.0       5.489333   \n",
       "15603                   48.48         79.0        1.0      24.240000   \n",
       "\n",
       "            NumberProducts  NumberReturn  \n",
       "CustomerID                                \n",
       "12915                 22.0           NaN  \n",
       "13821                 59.0           NaN  \n",
       "15157                125.0         150.0  \n",
       "13849                101.0           NaN  \n",
       "16591                 10.0           NaN  \n",
       "18001                 58.0           NaN  \n",
       "15993                552.0           9.0  \n",
       "14127                 44.0           NaN  \n",
       "15904                 30.0           NaN  \n",
       "15603                  2.0           NaN  "
      ]
     },
     "execution_count": 366,
     "metadata": {},
     "output_type": "execute_result"
    }
   ],
   "source": [
    "data_client_extended.sample(10)"
   ]
  },
  {
   "cell_type": "code",
   "execution_count": 367,
   "id": "6d534f37",
   "metadata": {},
   "outputs": [],
   "source": [
    "#Some clients has more returns then purchases because of date\n",
    "data_client_extended.loc[data_client_extended['NumberReturn'].isna(), 'NumberReturn'] = 0\n",
    "data_client_extended=data_client_extended.dropna()\n",
    "data_client_extended=data_client_extended.loc[~(data_client_extended['GrossRevenueTotal'] < 0.01)]"
   ]
  },
  {
   "cell_type": "code",
   "execution_count": 368,
   "id": "ff24ea9a",
   "metadata": {},
   "outputs": [
    {
     "data": {
      "text/html": [
       "<div>\n",
       "<style scoped>\n",
       "    .dataframe tbody tr th:only-of-type {\n",
       "        vertical-align: middle;\n",
       "    }\n",
       "\n",
       "    .dataframe tbody tr th {\n",
       "        vertical-align: top;\n",
       "    }\n",
       "\n",
       "    .dataframe thead th {\n",
       "        text-align: right;\n",
       "    }\n",
       "</style>\n",
       "<table border=\"1\" class=\"dataframe\">\n",
       "  <thead>\n",
       "    <tr style=\"text-align: right;\">\n",
       "      <th></th>\n",
       "      <th>GrossRevenueTotal</th>\n",
       "      <th>RecencyDays</th>\n",
       "      <th>Frequency</th>\n",
       "      <th>AvarageTicket</th>\n",
       "      <th>NumberProducts</th>\n",
       "      <th>NumberReturn</th>\n",
       "    </tr>\n",
       "    <tr>\n",
       "      <th>CustomerID</th>\n",
       "      <th></th>\n",
       "      <th></th>\n",
       "      <th></th>\n",
       "      <th></th>\n",
       "      <th></th>\n",
       "      <th></th>\n",
       "    </tr>\n",
       "  </thead>\n",
       "  <tbody>\n",
       "    <tr>\n",
       "      <th>17850</th>\n",
       "      <td>5288.63</td>\n",
       "      <td>373.0</td>\n",
       "      <td>34.0</td>\n",
       "      <td>16.950737</td>\n",
       "      <td>297.0</td>\n",
       "      <td>40.0</td>\n",
       "    </tr>\n",
       "    <tr>\n",
       "      <th>13047</th>\n",
       "      <td>3079.10</td>\n",
       "      <td>32.0</td>\n",
       "      <td>10.0</td>\n",
       "      <td>15.709694</td>\n",
       "      <td>172.0</td>\n",
       "      <td>36.0</td>\n",
       "    </tr>\n",
       "    <tr>\n",
       "      <th>12583</th>\n",
       "      <td>7187.34</td>\n",
       "      <td>3.0</td>\n",
       "      <td>15.0</td>\n",
       "      <td>28.634821</td>\n",
       "      <td>247.0</td>\n",
       "      <td>51.0</td>\n",
       "    </tr>\n",
       "    <tr>\n",
       "      <th>13748</th>\n",
       "      <td>948.25</td>\n",
       "      <td>96.0</td>\n",
       "      <td>5.0</td>\n",
       "      <td>33.866071</td>\n",
       "      <td>28.0</td>\n",
       "      <td>0.0</td>\n",
       "    </tr>\n",
       "    <tr>\n",
       "      <th>15100</th>\n",
       "      <td>635.10</td>\n",
       "      <td>334.0</td>\n",
       "      <td>3.0</td>\n",
       "      <td>105.850000</td>\n",
       "      <td>3.0</td>\n",
       "      <td>22.0</td>\n",
       "    </tr>\n",
       "    <tr>\n",
       "      <th>...</th>\n",
       "      <td>...</td>\n",
       "      <td>...</td>\n",
       "      <td>...</td>\n",
       "      <td>...</td>\n",
       "      <td>...</td>\n",
       "      <td>...</td>\n",
       "    </tr>\n",
       "    <tr>\n",
       "      <th>13436</th>\n",
       "      <td>196.89</td>\n",
       "      <td>2.0</td>\n",
       "      <td>1.0</td>\n",
       "      <td>16.407500</td>\n",
       "      <td>12.0</td>\n",
       "      <td>0.0</td>\n",
       "    </tr>\n",
       "    <tr>\n",
       "      <th>15520</th>\n",
       "      <td>343.50</td>\n",
       "      <td>2.0</td>\n",
       "      <td>1.0</td>\n",
       "      <td>19.083333</td>\n",
       "      <td>18.0</td>\n",
       "      <td>0.0</td>\n",
       "    </tr>\n",
       "    <tr>\n",
       "      <th>13298</th>\n",
       "      <td>360.00</td>\n",
       "      <td>2.0</td>\n",
       "      <td>1.0</td>\n",
       "      <td>180.000000</td>\n",
       "      <td>2.0</td>\n",
       "      <td>0.0</td>\n",
       "    </tr>\n",
       "    <tr>\n",
       "      <th>14569</th>\n",
       "      <td>227.39</td>\n",
       "      <td>2.0</td>\n",
       "      <td>1.0</td>\n",
       "      <td>18.949167</td>\n",
       "      <td>12.0</td>\n",
       "      <td>0.0</td>\n",
       "    </tr>\n",
       "    <tr>\n",
       "      <th>12713</th>\n",
       "      <td>848.55</td>\n",
       "      <td>1.0</td>\n",
       "      <td>1.0</td>\n",
       "      <td>22.330263</td>\n",
       "      <td>38.0</td>\n",
       "      <td>0.0</td>\n",
       "    </tr>\n",
       "  </tbody>\n",
       "</table>\n",
       "<p>4316 rows × 6 columns</p>\n",
       "</div>"
      ],
      "text/plain": [
       "            GrossRevenueTotal  RecencyDays  Frequency  AvarageTicket  \\\n",
       "CustomerID                                                             \n",
       "17850                 5288.63        373.0       34.0      16.950737   \n",
       "13047                 3079.10         32.0       10.0      15.709694   \n",
       "12583                 7187.34          3.0       15.0      28.634821   \n",
       "13748                  948.25         96.0        5.0      33.866071   \n",
       "15100                  635.10        334.0        3.0     105.850000   \n",
       "...                       ...          ...        ...            ...   \n",
       "13436                  196.89          2.0        1.0      16.407500   \n",
       "15520                  343.50          2.0        1.0      19.083333   \n",
       "13298                  360.00          2.0        1.0     180.000000   \n",
       "14569                  227.39          2.0        1.0      18.949167   \n",
       "12713                  848.55          1.0        1.0      22.330263   \n",
       "\n",
       "            NumberProducts  NumberReturn  \n",
       "CustomerID                                \n",
       "17850                297.0          40.0  \n",
       "13047                172.0          36.0  \n",
       "12583                247.0          51.0  \n",
       "13748                 28.0           0.0  \n",
       "15100                  3.0          22.0  \n",
       "...                    ...           ...  \n",
       "13436                 12.0           0.0  \n",
       "15520                 18.0           0.0  \n",
       "13298                  2.0           0.0  \n",
       "14569                 12.0           0.0  \n",
       "12713                 38.0           0.0  \n",
       "\n",
       "[4316 rows x 6 columns]"
      ]
     },
     "execution_count": 368,
     "metadata": {},
     "output_type": "execute_result"
    }
   ],
   "source": [
    "data_client_extended"
   ]
  },
  {
   "cell_type": "code",
   "execution_count": 369,
   "id": "77ac39f0",
   "metadata": {},
   "outputs": [],
   "source": [
    "data_client_resume = data_client_extended[['GrossRevenueTotal','RecencyDays','Frequency']]"
   ]
  }
 ],
 "metadata": {
  "kernelspec": {
   "display_name": "Python 3 (ipykernel)",
   "language": "python",
   "name": "python3"
  },
  "language_info": {
   "codemirror_mode": {
    "name": "ipython",
    "version": 3
   },
   "file_extension": ".py",
   "mimetype": "text/x-python",
   "name": "python",
   "nbconvert_exporter": "python",
   "pygments_lexer": "ipython3",
   "version": "3.9.7"
  }
 },
 "nbformat": 4,
 "nbformat_minor": 5
}
