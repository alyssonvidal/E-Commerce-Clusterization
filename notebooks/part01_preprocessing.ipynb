{
 "cells": [
  {
   "cell_type": "markdown",
   "id": "08b72a48",
   "metadata": {},
   "source": [
    "# Content\n",
    "     \n",
    "**Data Preprocessing**  \n",
    "   - Loading Data\n",
    "   - Glossary\n",
    "   - Dealing with missing Values\n",
    "   - Fixing Data Types\n",
    "   - Dealing Bad Values\n",
    "   - Feature Engieenier"
   ]
  },
  {
   "cell_type": "markdown",
   "id": "66f54a81",
   "metadata": {},
   "source": [
    "# Data Preprossesing"
   ]
  },
  {
   "cell_type": "code",
   "execution_count": 1,
   "id": "75eb0d8d",
   "metadata": {},
   "outputs": [],
   "source": [
    "import numpy as np\n",
    "import pandas as pd\n",
    "import datetime as dt\n",
    "from datetime import datetime, date, timedelta\n",
    "from tabulate import tabulate\n",
    "from IPython.display import HTML\n",
    "import notebook_settings\n",
    "import warnings\n",
    "warnings.simplefilter(action='ignore', category=FutureWarning)"
   ]
  },
  {
   "cell_type": "markdown",
   "id": "e8218e66",
   "metadata": {},
   "source": [
    "## Loading Data"
   ]
  },
  {
   "cell_type": "code",
   "execution_count": 2,
   "id": "c319f3e5",
   "metadata": {},
   "outputs": [],
   "source": [
    "data_raw = pd.read_csv('../data/ecommerce.csv', encoding='iso-8859-1')\n",
    "data = data_raw.copy()"
   ]
  },
  {
   "cell_type": "code",
   "execution_count": 3,
   "id": "466bcf33",
   "metadata": {},
   "outputs": [
    {
     "name": "stdout",
     "output_type": "stream",
     "text": [
      "<class 'pandas.core.frame.DataFrame'>\n",
      "RangeIndex: 541909 entries, 0 to 541908\n",
      "Data columns (total 9 columns):\n",
      " #   Column       Non-Null Count   Dtype  \n",
      "---  ------       --------------   -----  \n",
      " 0   InvoiceNo    541909 non-null  object \n",
      " 1   StockCode    541909 non-null  object \n",
      " 2   Description  540455 non-null  object \n",
      " 3   Quantity     541909 non-null  int64  \n",
      " 4   InvoiceDate  541909 non-null  object \n",
      " 5   UnitPrice    541909 non-null  float64\n",
      " 6   CustomerID   406829 non-null  float64\n",
      " 7   Country      541909 non-null  object \n",
      " 8   Unnamed: 8   0 non-null       float64\n",
      "dtypes: float64(3), int64(1), object(5)\n",
      "memory usage: 37.2+ MB\n"
     ]
    }
   ],
   "source": [
    "data.info()"
   ]
  },
  {
   "cell_type": "markdown",
   "id": "03203e45",
   "metadata": {},
   "source": [
    "## Glossary"
   ]
  },
  {
   "cell_type": "code",
   "execution_count": 4,
   "id": "02ff3180",
   "metadata": {},
   "outputs": [],
   "source": [
    "glossary = [['Columns', 'Meaning'],\n",
    "            ['InvoiceNo', 'Unique Identifier of each transaction'],\n",
    "            ['StockCode', 'Internal item code'],\n",
    "            ['Description', 'Item description/resume'],\n",
    "            ['Quantity', 'Quantity of each item per transaction'],\n",
    "            ['InvoiceDate', 'The day of transaction'],\n",
    "            ['UnitPrice', 'Product price per unit'],\n",
    "            ['CustomerID', 'Unique Identifier of Customer'],\n",
    "            ['Country', 'Customer\\'s country of residence']\n",
    "           ]\n",
    "#print(tabulate(glossary, headers='firstrow', stralign='left', tablefmt='simple'))"
   ]
  },
  {
   "cell_type": "markdown",
   "id": "0393cbc4",
   "metadata": {},
   "source": [
    "## Dealing with missing values"
   ]
  },
  {
   "cell_type": "code",
   "execution_count": 5,
   "id": "a86d3a3f",
   "metadata": {},
   "outputs": [
    {
     "data": {
      "text/plain": [
       "InvoiceNo           0\n",
       "StockCode           0\n",
       "Description      1454\n",
       "Quantity            0\n",
       "InvoiceDate         0\n",
       "UnitPrice           0\n",
       "CustomerID     135080\n",
       "Country             0\n",
       "Unnamed: 8     541909\n",
       "dtype: int64"
      ]
     },
     "execution_count": 5,
     "metadata": {},
     "output_type": "execute_result"
    }
   ],
   "source": [
    "data.isna().sum()"
   ]
  },
  {
   "cell_type": "code",
   "execution_count": null,
   "id": "c9e8dc06",
   "metadata": {},
   "outputs": [],
   "source": []
  },
  {
   "cell_type": "code",
   "execution_count": 6,
   "id": "22a370db",
   "metadata": {},
   "outputs": [],
   "source": [
    "data = data.drop('Unnamed: 8', axis=1)\n",
    "data = data.dropna(subset=['Description','CustomerID'])"
   ]
  },
  {
   "cell_type": "code",
   "execution_count": 7,
   "id": "10acf1ba",
   "metadata": {},
   "outputs": [],
   "source": [
    "#data[\"IsCancelled\"]=np.where(data.InvoiceNo.apply(lambda l: l[0]==\"C\"), True, False)\n",
    "#data.IsCancelled.value_counts() / data.shape[0] * 100 , data.IsCancelled.value_counts()\n",
    "#data[data[\"InvoiceNo\"].str.startswith(\"C\")]"
   ]
  },
  {
   "cell_type": "markdown",
   "id": "a097610d",
   "metadata": {},
   "source": [
    "As the purpose of this project is to group customers, then it makes no sense to classify unidentified customers. To simplify the study, we will initially ignore unidentified customers, which are those who purchased but we do not know who they are because at the time of purchase, he or she was not a registered user or was not informed at the time of purchase."
   ]
  },
  {
   "cell_type": "markdown",
   "id": "86610775",
   "metadata": {},
   "source": [
    "## Fixing Data Types"
   ]
  },
  {
   "cell_type": "code",
   "execution_count": 8,
   "id": "77f27c6b",
   "metadata": {},
   "outputs": [],
   "source": [
    "data['InvoiceDate'] = pd.to_datetime(data['InvoiceDate'], format='%d-%b-%y') #format='%m/%d/%Y %H:%M'\n",
    "data['CustomerID'] = data['CustomerID'].astype(int)\n",
    "\n",
    "data['Total'] = data['Quantity'] * data['UnitPrice']"
   ]
  },
  {
   "cell_type": "code",
   "execution_count": 9,
   "id": "69b48734",
   "metadata": {},
   "outputs": [],
   "source": [
    "#data['date'] = pd.to_datetime(data['date'], format=\"%Y-%m-%d\")\n",
    "# data['year'] = pd.DatetimeIndex(data['InvoiceDate']).year\n",
    "# data['month'] = pd.DatetimeIndex(data['InvoiceDate']).month\n",
    "# data['week_of_year'] = data['InvoiceDate'].dt.isocalendar().week\n",
    "# data['day'] = pd.DatetimeIndex(data['InvoiceDate']).day"
   ]
  },
  {
   "cell_type": "code",
   "execution_count": 10,
   "id": "9baa167e",
   "metadata": {},
   "outputs": [
    {
     "data": {
      "text/plain": [
       "(Timestamp('2016-11-29 00:00:00'), Timestamp('2017-12-07 00:00:00'))"
      ]
     },
     "execution_count": 10,
     "metadata": {},
     "output_type": "execute_result"
    }
   ],
   "source": [
    "data.InvoiceDate.min(), data.InvoiceDate.max()"
   ]
  },
  {
   "cell_type": "markdown",
   "id": "d07fb41d",
   "metadata": {},
   "source": [
    "## Dealing Bad Values"
   ]
  },
  {
   "cell_type": "code",
   "execution_count": 11,
   "id": "f5507e72",
   "metadata": {},
   "outputs": [],
   "source": [
    "# data.loc[data['CustomerID'] == 12346] \n",
    "# data.loc[data['CustomerID'] == 16446] \n",
    "\n",
    "data = data[~data['CustomerID'].isin([12346, 16446])]\n",
    "data = data.loc[~(data['UnitPrice'] < 0.04)]"
   ]
  },
  {
   "cell_type": "code",
   "execution_count": 12,
   "id": "dd876e6b",
   "metadata": {},
   "outputs": [
    {
     "data": {
      "text/plain": [
       "StockCode\n",
       "16156L    2\n",
       "17107D    3\n",
       "20622     2\n",
       "20725     2\n",
       "20914     2\n",
       "         ..\n",
       "85184C    2\n",
       "85185B    2\n",
       "90014A    2\n",
       "90014B    2\n",
       "90014C    2\n",
       "Name: Description, Length: 213, dtype: int64"
      ]
     },
     "execution_count": 12,
     "metadata": {},
     "output_type": "execute_result"
    }
   ],
   "source": [
    "data.groupby(\"StockCode\")[\"Description\"].nunique()[data.groupby(\"StockCode\")[\"Description\"].nunique() != 1]"
   ]
  },
  {
   "cell_type": "markdown",
   "id": "0ae711b6",
   "metadata": {},
   "source": [
    "Absurd purchases followed by cancellations, purchase values close to or below zero will be considered as bad input values and thus will be deleted. They can even be useful in the EDA stage to generate insights, but for the machine learning model they significantly interfere with performance.\n",
    "\n",
    "As this database is a temporal cut of the company's sales, we will find purchase cancellations but we will not find the purchase related to this cancellation, this is a big problem. One of the ways to solve this is to identify the cancellations one by one and delete this line, another way is to delete the customers that on average the company owes them. I preferred to choose the second way because it is simpler to perform, later in the code this will be done."
   ]
  },
  {
   "cell_type": "markdown",
   "id": "15853709",
   "metadata": {},
   "source": [
    "## Feature Engeenier"
   ]
  },
  {
   "cell_type": "code",
   "execution_count": 13,
   "id": "916deab0",
   "metadata": {},
   "outputs": [],
   "source": [
    "df2 = data.copy()"
   ]
  },
  {
   "cell_type": "code",
   "execution_count": 14,
   "id": "dc78e1ef",
   "metadata": {},
   "outputs": [],
   "source": [
    "df_purchase = data.loc[data['Quantity'] >= 0]\n",
    "df_returns = data.loc[data['Quantity'] < 0]"
   ]
  },
  {
   "cell_type": "code",
   "execution_count": 15,
   "id": "0dcc542e",
   "metadata": {},
   "outputs": [],
   "source": [
    "data_client_extended = df2.drop(['InvoiceNo','StockCode','Description', 'Quantity','InvoiceDate','UnitPrice','Country'],axis=1).drop_duplicates(ignore_index=True)"
   ]
  },
  {
   "cell_type": "code",
   "execution_count": 16,
   "id": "60e40f8c",
   "metadata": {},
   "outputs": [],
   "source": [
    "# GrossRevenue\n",
    "df2['GrossRevenuePartial'] = df2['Quantity'] * df2['UnitPrice']\n",
    "aux_revenue = df2[['CustomerID', 'GrossRevenuePartial']].groupby('CustomerID').sum().reset_index().rename(columns={'GrossRevenuePartial':'GrossRevenueTotal'})\n",
    "data_client_extended = pd.merge(data_client_extended,aux_revenue, how='left',on='CustomerID')"
   ]
  },
  {
   "cell_type": "code",
   "execution_count": 17,
   "id": "3879abf9",
   "metadata": {},
   "outputs": [],
   "source": [
    "# Recency - Last day purchase\n",
    "last_day = data.InvoiceDate.max() + dt.timedelta(days = 1)\n",
    "aux_recency = df_purchase[['CustomerID','InvoiceDate']].groupby('CustomerID').max().reset_index()\n",
    "aux_recency['RecencyDays'] = (last_day - aux_recency['InvoiceDate']).dt.days\n",
    "data_client_extended = pd.merge(data_client_extended, aux_recency[['CustomerID','RecencyDays']], on ='CustomerID', how='left')"
   ]
  },
  {
   "cell_type": "code",
   "execution_count": 18,
   "id": "15ce252a",
   "metadata": {},
   "outputs": [],
   "source": [
    "# Frequency\n",
    "aux_freq = df_purchase[['CustomerID','InvoiceNo']].drop_duplicates('InvoiceNo').groupby('CustomerID').count().reset_index().rename(columns={'InvoiceNo':'Frequency'})\n",
    "data_client_extended = pd.merge(data_client_extended, aux_freq, on='CustomerID',how='left')"
   ]
  },
  {
   "cell_type": "code",
   "execution_count": 19,
   "id": "b1560091",
   "metadata": {},
   "outputs": [],
   "source": [
    "# Avarage Ticket\n",
    "aux_ticket = df2[['CustomerID','GrossRevenuePartial']].groupby('CustomerID').mean().reset_index().rename(columns={'GrossRevenuePartial':'AvarageTicket'})\n",
    "data_client_extended = pd.merge(data_client_extended, aux_ticket,on='CustomerID',how='left')"
   ]
  },
  {
   "cell_type": "code",
   "execution_count": 20,
   "id": "f9d64195",
   "metadata": {},
   "outputs": [],
   "source": [
    "# Número of Purchases\n",
    "aux_prod = df_purchase.loc[:,['CustomerID', 'StockCode']].groupby('CustomerID').count().reset_index().rename(columns={'StockCode':'NumberProducts'})\n",
    "data_client_extended = pd.merge(data_client_extended, aux_prod, on='CustomerID', how='left')"
   ]
  },
  {
   "cell_type": "code",
   "execution_count": 21,
   "id": "1c41a9f7",
   "metadata": {},
   "outputs": [],
   "source": [
    "# Number Of Returns\n",
    "aux_return = df_returns[['CustomerID', 'Quantity']].groupby('CustomerID').sum().reset_index().rename(columns={'Quantity':'NumberReturn'})\n",
    "aux_return['NumberReturn'] = -1*aux_return['NumberReturn']\n",
    "aux_return['NumberReturn'] = aux_return['NumberReturn'].fillna(0)\n",
    "data_client_extended = pd.merge(data_client_extended, aux_return, on='CustomerID', how='left')"
   ]
  },
  {
   "cell_type": "code",
   "execution_count": 22,
   "id": "3923286b",
   "metadata": {},
   "outputs": [],
   "source": [
    "data_client_extended = data_client_extended.set_index('CustomerID')"
   ]
  },
  {
   "cell_type": "code",
   "execution_count": 23,
   "id": "f40c024c",
   "metadata": {},
   "outputs": [
    {
     "data": {
      "text/html": [
       "<div>\n",
       "<style scoped>\n",
       "    .dataframe tbody tr th:only-of-type {\n",
       "        vertical-align: middle;\n",
       "    }\n",
       "\n",
       "    .dataframe tbody tr th {\n",
       "        vertical-align: top;\n",
       "    }\n",
       "\n",
       "    .dataframe thead th {\n",
       "        text-align: right;\n",
       "    }\n",
       "</style>\n",
       "<table border=\"1\" class=\"dataframe\">\n",
       "  <thead>\n",
       "    <tr style=\"text-align: right;\">\n",
       "      <th></th>\n",
       "      <th>Total</th>\n",
       "      <th>GrossRevenueTotal</th>\n",
       "      <th>RecencyDays</th>\n",
       "      <th>Frequency</th>\n",
       "      <th>AvarageTicket</th>\n",
       "      <th>NumberProducts</th>\n",
       "      <th>NumberReturn</th>\n",
       "    </tr>\n",
       "    <tr>\n",
       "      <th>CustomerID</th>\n",
       "      <th></th>\n",
       "      <th></th>\n",
       "      <th></th>\n",
       "      <th></th>\n",
       "      <th></th>\n",
       "      <th></th>\n",
       "      <th></th>\n",
       "    </tr>\n",
       "  </thead>\n",
       "  <tbody>\n",
       "    <tr>\n",
       "      <th>16361</th>\n",
       "      <td>10.40</td>\n",
       "      <td>896.66</td>\n",
       "      <td>10.0</td>\n",
       "      <td>4.0</td>\n",
       "      <td>8.459057</td>\n",
       "      <td>106.0</td>\n",
       "      <td>NaN</td>\n",
       "    </tr>\n",
       "    <tr>\n",
       "      <th>17949</th>\n",
       "      <td>432.00</td>\n",
       "      <td>52750.84</td>\n",
       "      <td>2.0</td>\n",
       "      <td>45.0</td>\n",
       "      <td>667.732152</td>\n",
       "      <td>70.0</td>\n",
       "      <td>2975.0</td>\n",
       "    </tr>\n",
       "    <tr>\n",
       "      <th>14953</th>\n",
       "      <td>19.80</td>\n",
       "      <td>289.82</td>\n",
       "      <td>26.0</td>\n",
       "      <td>1.0</td>\n",
       "      <td>5.269455</td>\n",
       "      <td>55.0</td>\n",
       "      <td>NaN</td>\n",
       "    </tr>\n",
       "    <tr>\n",
       "      <th>16133</th>\n",
       "      <td>-1.65</td>\n",
       "      <td>14305.66</td>\n",
       "      <td>4.0</td>\n",
       "      <td>33.0</td>\n",
       "      <td>39.301264</td>\n",
       "      <td>338.0</td>\n",
       "      <td>150.0</td>\n",
       "    </tr>\n",
       "    <tr>\n",
       "      <th>17086</th>\n",
       "      <td>25.50</td>\n",
       "      <td>2050.08</td>\n",
       "      <td>8.0</td>\n",
       "      <td>6.0</td>\n",
       "      <td>21.355000</td>\n",
       "      <td>96.0</td>\n",
       "      <td>NaN</td>\n",
       "    </tr>\n",
       "    <tr>\n",
       "      <th>14967</th>\n",
       "      <td>59.40</td>\n",
       "      <td>463.80</td>\n",
       "      <td>50.0</td>\n",
       "      <td>1.0</td>\n",
       "      <td>77.300000</td>\n",
       "      <td>6.0</td>\n",
       "      <td>NaN</td>\n",
       "    </tr>\n",
       "    <tr>\n",
       "      <th>16050</th>\n",
       "      <td>15.12</td>\n",
       "      <td>137.90</td>\n",
       "      <td>174.0</td>\n",
       "      <td>1.0</td>\n",
       "      <td>13.790000</td>\n",
       "      <td>10.0</td>\n",
       "      <td>NaN</td>\n",
       "    </tr>\n",
       "    <tr>\n",
       "      <th>15239</th>\n",
       "      <td>19.50</td>\n",
       "      <td>764.34</td>\n",
       "      <td>11.0</td>\n",
       "      <td>2.0</td>\n",
       "      <td>14.698846</td>\n",
       "      <td>49.0</td>\n",
       "      <td>3.0</td>\n",
       "    </tr>\n",
       "    <tr>\n",
       "      <th>15764</th>\n",
       "      <td>19.80</td>\n",
       "      <td>3245.47</td>\n",
       "      <td>89.0</td>\n",
       "      <td>6.0</td>\n",
       "      <td>17.263138</td>\n",
       "      <td>180.0</td>\n",
       "      <td>14.0</td>\n",
       "    </tr>\n",
       "    <tr>\n",
       "      <th>16303</th>\n",
       "      <td>99.00</td>\n",
       "      <td>5305.83</td>\n",
       "      <td>26.0</td>\n",
       "      <td>3.0</td>\n",
       "      <td>31.771437</td>\n",
       "      <td>162.0</td>\n",
       "      <td>38.0</td>\n",
       "    </tr>\n",
       "  </tbody>\n",
       "</table>\n",
       "</div>"
      ],
      "text/plain": [
       "             Total  GrossRevenueTotal  RecencyDays  Frequency  AvarageTicket  \\\n",
       "CustomerID                                                                     \n",
       "16361        10.40             896.66         10.0        4.0       8.459057   \n",
       "17949       432.00           52750.84          2.0       45.0     667.732152   \n",
       "14953        19.80             289.82         26.0        1.0       5.269455   \n",
       "16133        -1.65           14305.66          4.0       33.0      39.301264   \n",
       "17086        25.50            2050.08          8.0        6.0      21.355000   \n",
       "14967        59.40             463.80         50.0        1.0      77.300000   \n",
       "16050        15.12             137.90        174.0        1.0      13.790000   \n",
       "15239        19.50             764.34         11.0        2.0      14.698846   \n",
       "15764        19.80            3245.47         89.0        6.0      17.263138   \n",
       "16303        99.00            5305.83         26.0        3.0      31.771437   \n",
       "\n",
       "            NumberProducts  NumberReturn  \n",
       "CustomerID                                \n",
       "16361                106.0           NaN  \n",
       "17949                 70.0        2975.0  \n",
       "14953                 55.0           NaN  \n",
       "16133                338.0         150.0  \n",
       "17086                 96.0           NaN  \n",
       "14967                  6.0           NaN  \n",
       "16050                 10.0           NaN  \n",
       "15239                 49.0           3.0  \n",
       "15764                180.0          14.0  \n",
       "16303                162.0          38.0  "
      ]
     },
     "execution_count": 23,
     "metadata": {},
     "output_type": "execute_result"
    }
   ],
   "source": [
    "data_client_extended.sample(10)"
   ]
  },
  {
   "cell_type": "code",
   "execution_count": 24,
   "id": "6d534f37",
   "metadata": {},
   "outputs": [],
   "source": [
    "#Some clients has more returns then purchases because of date\n",
    "data_client_extended.loc[data_client_extended['NumberReturn'].isna(), 'NumberReturn'] = 0\n",
    "data_client_extended=data_client_extended.dropna()\n",
    "data_client_extended=data_client_extended.loc[~(data_client_extended['GrossRevenueTotal'] < 0.01)]"
   ]
  },
  {
   "cell_type": "code",
   "execution_count": 25,
   "id": "ff24ea9a",
   "metadata": {},
   "outputs": [
    {
     "data": {
      "text/html": [
       "<div>\n",
       "<style scoped>\n",
       "    .dataframe tbody tr th:only-of-type {\n",
       "        vertical-align: middle;\n",
       "    }\n",
       "\n",
       "    .dataframe tbody tr th {\n",
       "        vertical-align: top;\n",
       "    }\n",
       "\n",
       "    .dataframe thead th {\n",
       "        text-align: right;\n",
       "    }\n",
       "</style>\n",
       "<table border=\"1\" class=\"dataframe\">\n",
       "  <thead>\n",
       "    <tr style=\"text-align: right;\">\n",
       "      <th></th>\n",
       "      <th>Total</th>\n",
       "      <th>GrossRevenueTotal</th>\n",
       "      <th>RecencyDays</th>\n",
       "      <th>Frequency</th>\n",
       "      <th>AvarageTicket</th>\n",
       "      <th>NumberProducts</th>\n",
       "      <th>NumberReturn</th>\n",
       "    </tr>\n",
       "    <tr>\n",
       "      <th>CustomerID</th>\n",
       "      <th></th>\n",
       "      <th></th>\n",
       "      <th></th>\n",
       "      <th></th>\n",
       "      <th></th>\n",
       "      <th></th>\n",
       "      <th></th>\n",
       "    </tr>\n",
       "  </thead>\n",
       "  <tbody>\n",
       "    <tr>\n",
       "      <th>17850</th>\n",
       "      <td>15.30</td>\n",
       "      <td>5288.63</td>\n",
       "      <td>373.0</td>\n",
       "      <td>34.0</td>\n",
       "      <td>16.950737</td>\n",
       "      <td>297.0</td>\n",
       "      <td>40.0</td>\n",
       "    </tr>\n",
       "    <tr>\n",
       "      <th>17850</th>\n",
       "      <td>20.34</td>\n",
       "      <td>5288.63</td>\n",
       "      <td>373.0</td>\n",
       "      <td>34.0</td>\n",
       "      <td>16.950737</td>\n",
       "      <td>297.0</td>\n",
       "      <td>40.0</td>\n",
       "    </tr>\n",
       "    <tr>\n",
       "      <th>17850</th>\n",
       "      <td>22.00</td>\n",
       "      <td>5288.63</td>\n",
       "      <td>373.0</td>\n",
       "      <td>34.0</td>\n",
       "      <td>16.950737</td>\n",
       "      <td>297.0</td>\n",
       "      <td>40.0</td>\n",
       "    </tr>\n",
       "    <tr>\n",
       "      <th>17850</th>\n",
       "      <td>15.30</td>\n",
       "      <td>5288.63</td>\n",
       "      <td>373.0</td>\n",
       "      <td>34.0</td>\n",
       "      <td>16.950737</td>\n",
       "      <td>297.0</td>\n",
       "      <td>40.0</td>\n",
       "    </tr>\n",
       "    <tr>\n",
       "      <th>17850</th>\n",
       "      <td>25.50</td>\n",
       "      <td>5288.63</td>\n",
       "      <td>373.0</td>\n",
       "      <td>34.0</td>\n",
       "      <td>16.950737</td>\n",
       "      <td>297.0</td>\n",
       "      <td>40.0</td>\n",
       "    </tr>\n",
       "    <tr>\n",
       "      <th>...</th>\n",
       "      <td>...</td>\n",
       "      <td>...</td>\n",
       "      <td>...</td>\n",
       "      <td>...</td>\n",
       "      <td>...</td>\n",
       "      <td>...</td>\n",
       "      <td>...</td>\n",
       "    </tr>\n",
       "    <tr>\n",
       "      <th>13777</th>\n",
       "      <td>51.84</td>\n",
       "      <td>25748.35</td>\n",
       "      <td>1.0</td>\n",
       "      <td>33.0</td>\n",
       "      <td>117.572374</td>\n",
       "      <td>197.0</td>\n",
       "      <td>93.0</td>\n",
       "    </tr>\n",
       "    <tr>\n",
       "      <th>13777</th>\n",
       "      <td>88.80</td>\n",
       "      <td>25748.35</td>\n",
       "      <td>1.0</td>\n",
       "      <td>33.0</td>\n",
       "      <td>117.572374</td>\n",
       "      <td>197.0</td>\n",
       "      <td>93.0</td>\n",
       "    </tr>\n",
       "    <tr>\n",
       "      <th>15804</th>\n",
       "      <td>30.00</td>\n",
       "      <td>3848.55</td>\n",
       "      <td>1.0</td>\n",
       "      <td>13.0</td>\n",
       "      <td>14.097253</td>\n",
       "      <td>262.0</td>\n",
       "      <td>52.0</td>\n",
       "    </tr>\n",
       "    <tr>\n",
       "      <th>12680</th>\n",
       "      <td>10.20</td>\n",
       "      <td>862.81</td>\n",
       "      <td>1.0</td>\n",
       "      <td>4.0</td>\n",
       "      <td>16.592500</td>\n",
       "      <td>52.0</td>\n",
       "      <td>0.0</td>\n",
       "    </tr>\n",
       "    <tr>\n",
       "      <th>12680</th>\n",
       "      <td>14.85</td>\n",
       "      <td>862.81</td>\n",
       "      <td>1.0</td>\n",
       "      <td>4.0</td>\n",
       "      <td>16.592500</td>\n",
       "      <td>52.0</td>\n",
       "      <td>0.0</td>\n",
       "    </tr>\n",
       "  </tbody>\n",
       "</table>\n",
       "<p>149196 rows × 7 columns</p>\n",
       "</div>"
      ],
      "text/plain": [
       "            Total  GrossRevenueTotal  RecencyDays  Frequency  AvarageTicket  \\\n",
       "CustomerID                                                                    \n",
       "17850       15.30            5288.63        373.0       34.0      16.950737   \n",
       "17850       20.34            5288.63        373.0       34.0      16.950737   \n",
       "17850       22.00            5288.63        373.0       34.0      16.950737   \n",
       "17850       15.30            5288.63        373.0       34.0      16.950737   \n",
       "17850       25.50            5288.63        373.0       34.0      16.950737   \n",
       "...           ...                ...          ...        ...            ...   \n",
       "13777       51.84           25748.35          1.0       33.0     117.572374   \n",
       "13777       88.80           25748.35          1.0       33.0     117.572374   \n",
       "15804       30.00            3848.55          1.0       13.0      14.097253   \n",
       "12680       10.20             862.81          1.0        4.0      16.592500   \n",
       "12680       14.85             862.81          1.0        4.0      16.592500   \n",
       "\n",
       "            NumberProducts  NumberReturn  \n",
       "CustomerID                                \n",
       "17850                297.0          40.0  \n",
       "17850                297.0          40.0  \n",
       "17850                297.0          40.0  \n",
       "17850                297.0          40.0  \n",
       "17850                297.0          40.0  \n",
       "...                    ...           ...  \n",
       "13777                197.0          93.0  \n",
       "13777                197.0          93.0  \n",
       "15804                262.0          52.0  \n",
       "12680                 52.0           0.0  \n",
       "12680                 52.0           0.0  \n",
       "\n",
       "[149196 rows x 7 columns]"
      ]
     },
     "execution_count": 25,
     "metadata": {},
     "output_type": "execute_result"
    }
   ],
   "source": [
    "data_client_extended"
   ]
  },
  {
   "cell_type": "code",
   "execution_count": 26,
   "id": "77ac39f0",
   "metadata": {},
   "outputs": [],
   "source": [
    "data_client_resume = data_client_extended[['GrossRevenueTotal','RecencyDays','Frequency']]"
   ]
  }
 ],
 "metadata": {
  "kernelspec": {
   "display_name": "Python 3 (ipykernel)",
   "language": "python",
   "name": "python3"
  },
  "language_info": {
   "codemirror_mode": {
    "name": "ipython",
    "version": 3
   },
   "file_extension": ".py",
   "mimetype": "text/x-python",
   "name": "python",
   "nbconvert_exporter": "python",
   "pygments_lexer": "ipython3",
   "version": "3.9.7"
  }
 },
 "nbformat": 4,
 "nbformat_minor": 5
}
