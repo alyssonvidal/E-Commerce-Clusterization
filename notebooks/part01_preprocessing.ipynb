{
 "cells": [
  {
   "cell_type": "markdown",
   "id": "66f54a81",
   "metadata": {},
   "source": [
    "# Data Preprossesing"
   ]
  },
  {
   "cell_type": "code",
   "execution_count": 2,
   "id": "75eb0d8d",
   "metadata": {},
   "outputs": [],
   "source": [
    "import numpy as np\n",
    "import pandas as pd\n",
    "import datetime as dt\n",
    "from datetime import datetime, date, timedelta\n",
    "from tabulate import tabulate\n",
    "from IPython.display import HTML"
   ]
  },
  {
   "cell_type": "markdown",
   "id": "e8218e66",
   "metadata": {},
   "source": [
    "### Loading Data"
   ]
  },
  {
   "cell_type": "code",
   "execution_count": 3,
   "id": "c319f3e5",
   "metadata": {},
   "outputs": [],
   "source": [
    "data_raw = pd.read_csv('../data/ecommerce.csv', encoding='iso-8859-1')\n",
    "data = data_raw.copy()"
   ]
  },
  {
   "cell_type": "code",
   "execution_count": 4,
   "id": "466bcf33",
   "metadata": {},
   "outputs": [
    {
     "name": "stdout",
     "output_type": "stream",
     "text": [
      "<class 'pandas.core.frame.DataFrame'>\n",
      "RangeIndex: 541909 entries, 0 to 541908\n",
      "Data columns (total 9 columns):\n",
      " #   Column       Non-Null Count   Dtype  \n",
      "---  ------       --------------   -----  \n",
      " 0   InvoiceNo    541909 non-null  object \n",
      " 1   StockCode    541909 non-null  object \n",
      " 2   Description  540455 non-null  object \n",
      " 3   Quantity     541909 non-null  int64  \n",
      " 4   InvoiceDate  541909 non-null  object \n",
      " 5   UnitPrice    541909 non-null  float64\n",
      " 6   CustomerID   406829 non-null  float64\n",
      " 7   Country      541909 non-null  object \n",
      " 8   Unnamed: 8   0 non-null       float64\n",
      "dtypes: float64(3), int64(1), object(5)\n",
      "memory usage: 37.2+ MB\n"
     ]
    }
   ],
   "source": [
    "data.info()"
   ]
  },
  {
   "cell_type": "markdown",
   "id": "03203e45",
   "metadata": {},
   "source": [
    "### Glossary"
   ]
  },
  {
   "cell_type": "code",
   "execution_count": 5,
   "id": "02ff3180",
   "metadata": {},
   "outputs": [],
   "source": [
    "glossary = [['Columns', 'Meaning'],\n",
    "            ['InvoiceNo', 'Unique Identifier of each transaction'],\n",
    "            ['StockCode', 'Internal item code'],\n",
    "            ['Description', 'Item description/resume'],\n",
    "            ['Quantity', 'Quantity of each item per transaction'],\n",
    "            ['InvoiceDate', 'The day of transaction'],\n",
    "            ['UnitPrice', 'Product price per unit'],\n",
    "            ['CustomerID', 'Unique Identifier of Customer'],\n",
    "            ['Country', 'Customer\\'s country of residence']\n",
    "           ]\n",
    "#print(tabulate(glossary, headers='firstrow', stralign='left', tablefmt='simple'))"
   ]
  },
  {
   "cell_type": "markdown",
   "id": "0393cbc4",
   "metadata": {},
   "source": [
    "### Dealing with missing values"
   ]
  },
  {
   "cell_type": "code",
   "execution_count": 6,
   "id": "a86d3a3f",
   "metadata": {},
   "outputs": [
    {
     "data": {
      "text/plain": [
       "InvoiceNo           0\n",
       "StockCode           0\n",
       "Description      1454\n",
       "Quantity            0\n",
       "InvoiceDate         0\n",
       "UnitPrice           0\n",
       "CustomerID     135080\n",
       "Country             0\n",
       "Unnamed: 8     541909\n",
       "dtype: int64"
      ]
     },
     "execution_count": 6,
     "metadata": {},
     "output_type": "execute_result"
    }
   ],
   "source": [
    "data.isna().sum()"
   ]
  },
  {
   "cell_type": "code",
   "execution_count": 7,
   "id": "22a370db",
   "metadata": {},
   "outputs": [],
   "source": [
    "data = data.drop('Unnamed: 8', axis=1)\n",
    "data = data.dropna(subset=['Description','CustomerID'])"
   ]
  },
  {
   "cell_type": "code",
   "execution_count": 8,
   "id": "10acf1ba",
   "metadata": {},
   "outputs": [],
   "source": [
    "# data[\"IsCancelled\"]=np.where(data.InvoiceNo.apply(lambda l: l[0]==\"C\"), True, False)\n",
    "# data.IsCancelled.value_counts() / data.shape[0] * 100 , data.IsCancelled.value_counts()\n",
    "#data[data[\"InvoiceNo\"].str.startswith(\"C\")]"
   ]
  },
  {
   "cell_type": "markdown",
   "id": "86610775",
   "metadata": {},
   "source": [
    "### Fixing Data Types"
   ]
  },
  {
   "cell_type": "code",
   "execution_count": 9,
   "id": "77f27c6b",
   "metadata": {},
   "outputs": [],
   "source": [
    "data['InvoiceDate'] = pd.to_datetime(data['InvoiceDate'], format='%d-%b-%y') #format='%m/%d/%Y %H:%M'\n",
    "data['CustomerID'] = data['CustomerID'].astype(int)"
   ]
  },
  {
   "cell_type": "code",
   "execution_count": 10,
   "id": "9baa167e",
   "metadata": {},
   "outputs": [
    {
     "data": {
      "text/plain": [
       "(Timestamp('2016-11-29 00:00:00'), Timestamp('2017-12-07 00:00:00'))"
      ]
     },
     "execution_count": 10,
     "metadata": {},
     "output_type": "execute_result"
    }
   ],
   "source": [
    "data.InvoiceDate.min(), data.InvoiceDate.max()"
   ]
  },
  {
   "cell_type": "markdown",
   "id": "d07fb41d",
   "metadata": {},
   "source": [
    "### Dealing Bad Values"
   ]
  },
  {
   "cell_type": "code",
   "execution_count": 21,
   "id": "f5507e72",
   "metadata": {},
   "outputs": [],
   "source": [
    "# data.loc[data['CustomerID'] == 12346] \n",
    "# data.loc[data['CustomerID'] == 16446] \n",
    "\n",
    "data = data[~data['CustomerID'].isin([12346, 16446])]\n",
    "data = data.loc[~(data['UnitPrice'] < 0.04)]"
   ]
  },
  {
   "cell_type": "code",
   "execution_count": 22,
   "id": "6d33bf38",
   "metadata": {},
   "outputs": [],
   "source": [
    "#data[\"StockCode\"].nunique()\n",
    "#data.groupby(\"StockCode\")[\"Description\"].nunique().sort_values(ascending = False)"
   ]
  },
  {
   "cell_type": "code",
   "execution_count": 23,
   "id": "be18dccc",
   "metadata": {},
   "outputs": [],
   "source": [
    "# for stack_code in data[\"StockCode\"].unique():\n",
    "#     first_description = data[data[\"StockCode\"]==stack_code][\"Description\"].unique()[0]\n",
    "#     data.loc[data[\"StockCode\"]==stack_code, \"Description\"] = first_description"
   ]
  },
  {
   "cell_type": "markdown",
   "id": "15853709",
   "metadata": {},
   "source": [
    "### Feature Engeenier"
   ]
  },
  {
   "cell_type": "markdown",
   "id": "f174596d",
   "metadata": {},
   "source": [
    "**Gross Revenue**\n",
    "- Receita Bruta, calculado pela soma de todas as compras e devoluções referentes ao mesmo cliente\n",
    "\n",
    "**RecencyDays**\n",
    "- Receita Bruta, calculado pela diferença entre a ultima data registrada no dataset e a ultima compra realizada referente ao mesmo cliente\n",
    "\n",
    "**Frequency**\n",
    "- Frequencia que o cliente realiza compras, calculado pela soma de notas diferentes emitidas de notas emitidas, InvoiceNo, referente ao mesmo cliente"
   ]
  },
  {
   "cell_type": "code",
   "execution_count": 24,
   "id": "916deab0",
   "metadata": {},
   "outputs": [],
   "source": [
    "df2 = data.copy()"
   ]
  },
  {
   "cell_type": "code",
   "execution_count": 25,
   "id": "dc78e1ef",
   "metadata": {},
   "outputs": [],
   "source": [
    "df_purchase = data.loc[data['Quantity'] >= 0]\n",
    "df_returns = data.loc[data['Quantity'] < 0]"
   ]
  },
  {
   "cell_type": "code",
   "execution_count": 26,
   "id": "0dcc542e",
   "metadata": {},
   "outputs": [],
   "source": [
    "data_client = df2.drop(['InvoiceNo','StockCode','Description', 'Quantity','InvoiceDate','UnitPrice','Country'],axis=1).drop_duplicates(ignore_index=True)"
   ]
  },
  {
   "cell_type": "code",
   "execution_count": 27,
   "id": "f661afc6",
   "metadata": {},
   "outputs": [],
   "source": [
    "last_day = data.InvoiceDate.max() + dt.timedelta(days = 1)"
   ]
  },
  {
   "cell_type": "code",
   "execution_count": 28,
   "id": "60e40f8c",
   "metadata": {},
   "outputs": [
    {
     "data": {
      "text/plain": [
       "4369"
      ]
     },
     "execution_count": 28,
     "metadata": {},
     "output_type": "execute_result"
    }
   ],
   "source": [
    "# GrossRevenue\n",
    "df2['GrossRevenuePartial'] = df2['Quantity'] * df2['UnitPrice']\n",
    "aux_revenue = df2[['CustomerID', 'GrossRevenuePartial']].groupby('CustomerID').sum().reset_index().rename(columns={'GrossRevenuePartial':'GrossRevenueTotal'})\n",
    "data_client = pd.merge(data_client,aux_revenue, how='left',on='CustomerID')\n",
    "len(data_client)"
   ]
  },
  {
   "cell_type": "code",
   "execution_count": 29,
   "id": "5d2e95d4",
   "metadata": {},
   "outputs": [],
   "source": [
    "# aux_rece = df_purchase[['CustomerID','InvoiceDate','InvoiceNo']].groupby(\"CustomerID\").agg({\"InvoiceDate\": lambda x: (last_day - x.max()).days,\n",
    "#                                          \"InvoiceNo\": \"nunique\"}).rename(columns = {\"InvoiceDate\": \"RecencyDays\",\n",
    "#                             \"InvoiceNo\": \"Frequency\"})\n",
    "\n",
    "# #aux_rece\n",
    "# data_client = pd.merge(data_client, aux_rece[['RecencyDays','Frequency']], on ='CustomerID', how='left')\n",
    "# # len(data_client)\n",
    "# data_client.head()"
   ]
  },
  {
   "cell_type": "code",
   "execution_count": 30,
   "id": "3879abf9",
   "metadata": {},
   "outputs": [
    {
     "data": {
      "text/plain": [
       "4369"
      ]
     },
     "execution_count": 30,
     "metadata": {},
     "output_type": "execute_result"
    }
   ],
   "source": [
    "# Recency - Last day purchase\n",
    "aux_recency = df_purchase[['CustomerID','InvoiceDate']].groupby('CustomerID').max().reset_index()\n",
    "#aux_recency['RecencyDays'] = (last_day - aux_recency['InvoiceDate']).dt.days\n",
    "aux_recency['RecencyDays'] = (last_day - aux_recency['InvoiceDate']).dt.days\n",
    "\n",
    "\n",
    "\n",
    "data_client = pd.merge(data_client, aux_recency[['CustomerID','RecencyDays']], on ='CustomerID', how='left')\n",
    "len(data_client)"
   ]
  },
  {
   "cell_type": "code",
   "execution_count": 31,
   "id": "15ce252a",
   "metadata": {},
   "outputs": [
    {
     "data": {
      "text/plain": [
       "4369"
      ]
     },
     "execution_count": 31,
     "metadata": {},
     "output_type": "execute_result"
    }
   ],
   "source": [
    "# Frequency\n",
    "aux_freq = df_purchase[['CustomerID','InvoiceNo']].drop_duplicates('InvoiceNo').groupby('CustomerID').count().reset_index().rename(columns={'InvoiceNo':'Frequency'})\n",
    "data_client = pd.merge(data_client, aux_freq, on='CustomerID',how='left')\n",
    "len(data_client)"
   ]
  },
  {
   "cell_type": "code",
   "execution_count": 32,
   "id": "b1560091",
   "metadata": {},
   "outputs": [],
   "source": [
    "# # Avarage Ticket\n",
    "# aux_ticket = df2[['CustomerID','GrossRevenuePartial']].groupby('CustomerID').mean().reset_index().rename(columns={'GrossRevenuePartial':'AvarageTicket'})\n",
    "# data_client = pd.merge(data_client, aux_ticket,on='CustomerID',how='left')"
   ]
  },
  {
   "cell_type": "code",
   "execution_count": 33,
   "id": "f9d64195",
   "metadata": {},
   "outputs": [],
   "source": [
    "# # Número de compras\n",
    "# aux_prod = df_purchase.loc[:,['CustomerID', 'StockCode']].groupby('CustomerID').count().reset_index().rename(columns={'StockCode':'NumberProducts'})\n",
    "# data_client = pd.merge(data_client, aux_prod, on='CustomerID', how='left')\n",
    "# len(data_client)"
   ]
  },
  {
   "cell_type": "code",
   "execution_count": 34,
   "id": "1c41a9f7",
   "metadata": {},
   "outputs": [],
   "source": [
    "# # Number Of Returns\n",
    "# aux_return = df_returns[['CustomerID', 'Quantity']].groupby('CustomerID').sum().reset_index().rename(columns={'Quantity':'NumberReturn'})\n",
    "# aux_return['NumberReturn'] = -1*aux_return['NumberReturn']\n",
    "# aux_return['NumberReturn'] = aux_return['NumberReturn'].fillna(0)\n",
    "# data_client = pd.merge(data_client, aux_return, on='CustomerID', how='left')"
   ]
  },
  {
   "cell_type": "code",
   "execution_count": 35,
   "id": "3923286b",
   "metadata": {},
   "outputs": [],
   "source": [
    "data_client = data_client.set_index('CustomerID')"
   ]
  },
  {
   "cell_type": "code",
   "execution_count": 38,
   "id": "4ad11bc8",
   "metadata": {},
   "outputs": [],
   "source": [
    "#data_client.loc[data_client['NumberReturn'].isna(), 'NumberReturn'] = 0"
   ]
  },
  {
   "cell_type": "code",
   "execution_count": 39,
   "id": "f40c024c",
   "metadata": {},
   "outputs": [
    {
     "data": {
      "text/html": [
       "<div>\n",
       "<style scoped>\n",
       "    .dataframe tbody tr th:only-of-type {\n",
       "        vertical-align: middle;\n",
       "    }\n",
       "\n",
       "    .dataframe tbody tr th {\n",
       "        vertical-align: top;\n",
       "    }\n",
       "\n",
       "    .dataframe thead th {\n",
       "        text-align: right;\n",
       "    }\n",
       "</style>\n",
       "<table border=\"1\" class=\"dataframe\">\n",
       "  <thead>\n",
       "    <tr style=\"text-align: right;\">\n",
       "      <th></th>\n",
       "      <th>GrossRevenueTotal</th>\n",
       "      <th>RecencyDays</th>\n",
       "      <th>Frequency</th>\n",
       "    </tr>\n",
       "    <tr>\n",
       "      <th>CustomerID</th>\n",
       "      <th></th>\n",
       "      <th></th>\n",
       "      <th></th>\n",
       "    </tr>\n",
       "  </thead>\n",
       "  <tbody>\n",
       "    <tr>\n",
       "      <th>17566</th>\n",
       "      <td>901.21</td>\n",
       "      <td>9.0</td>\n",
       "      <td>2.0</td>\n",
       "    </tr>\n",
       "    <tr>\n",
       "      <th>14029</th>\n",
       "      <td>467.66</td>\n",
       "      <td>64.0</td>\n",
       "      <td>2.0</td>\n",
       "    </tr>\n",
       "    <tr>\n",
       "      <th>13630</th>\n",
       "      <td>1995.68</td>\n",
       "      <td>6.0</td>\n",
       "      <td>7.0</td>\n",
       "    </tr>\n",
       "    <tr>\n",
       "      <th>14139</th>\n",
       "      <td>415.82</td>\n",
       "      <td>47.0</td>\n",
       "      <td>1.0</td>\n",
       "    </tr>\n",
       "    <tr>\n",
       "      <th>18268</th>\n",
       "      <td>0.00</td>\n",
       "      <td>135.0</td>\n",
       "      <td>1.0</td>\n",
       "    </tr>\n",
       "    <tr>\n",
       "      <th>17912</th>\n",
       "      <td>295.61</td>\n",
       "      <td>311.0</td>\n",
       "      <td>5.0</td>\n",
       "    </tr>\n",
       "    <tr>\n",
       "      <th>14597</th>\n",
       "      <td>883.15</td>\n",
       "      <td>12.0</td>\n",
       "      <td>2.0</td>\n",
       "    </tr>\n",
       "    <tr>\n",
       "      <th>17802</th>\n",
       "      <td>1251.84</td>\n",
       "      <td>83.0</td>\n",
       "      <td>3.0</td>\n",
       "    </tr>\n",
       "    <tr>\n",
       "      <th>15854</th>\n",
       "      <td>2974.65</td>\n",
       "      <td>5.0</td>\n",
       "      <td>12.0</td>\n",
       "    </tr>\n",
       "    <tr>\n",
       "      <th>16318</th>\n",
       "      <td>328.15</td>\n",
       "      <td>36.0</td>\n",
       "      <td>1.0</td>\n",
       "    </tr>\n",
       "  </tbody>\n",
       "</table>\n",
       "</div>"
      ],
      "text/plain": [
       "            GrossRevenueTotal  RecencyDays  Frequency\n",
       "CustomerID                                           \n",
       "17566                  901.21          9.0        2.0\n",
       "14029                  467.66         64.0        2.0\n",
       "13630                 1995.68          6.0        7.0\n",
       "14139                  415.82         47.0        1.0\n",
       "18268                    0.00        135.0        1.0\n",
       "17912                  295.61        311.0        5.0\n",
       "14597                  883.15         12.0        2.0\n",
       "17802                 1251.84         83.0        3.0\n",
       "15854                 2974.65          5.0       12.0\n",
       "16318                  328.15         36.0        1.0"
      ]
     },
     "execution_count": 39,
     "metadata": {},
     "output_type": "execute_result"
    }
   ],
   "source": [
    "data_client.sample(10)"
   ]
  },
  {
   "cell_type": "code",
   "execution_count": 40,
   "id": "bb2c3ac3",
   "metadata": {},
   "outputs": [],
   "source": [
    "data_client=data_client.dropna()"
   ]
  },
  {
   "cell_type": "code",
   "execution_count": 44,
   "id": "b7cfdfde",
   "metadata": {},
   "outputs": [],
   "source": [
    "#Some clients has more returns then purchases because of date\n",
    "data_client = data_client.loc[~(data_client['GrossRevenueTotal'] < 0.01)]"
   ]
  },
  {
   "cell_type": "code",
   "execution_count": 45,
   "id": "078f6fd1",
   "metadata": {},
   "outputs": [
    {
     "data": {
      "text/html": [
       "<div>\n",
       "<style scoped>\n",
       "    .dataframe tbody tr th:only-of-type {\n",
       "        vertical-align: middle;\n",
       "    }\n",
       "\n",
       "    .dataframe tbody tr th {\n",
       "        vertical-align: top;\n",
       "    }\n",
       "\n",
       "    .dataframe thead th {\n",
       "        text-align: right;\n",
       "    }\n",
       "</style>\n",
       "<table border=\"1\" class=\"dataframe\">\n",
       "  <thead>\n",
       "    <tr style=\"text-align: right;\">\n",
       "      <th></th>\n",
       "      <th>GrossRevenueTotal</th>\n",
       "      <th>RecencyDays</th>\n",
       "      <th>Frequency</th>\n",
       "    </tr>\n",
       "    <tr>\n",
       "      <th>CustomerID</th>\n",
       "      <th></th>\n",
       "      <th></th>\n",
       "      <th></th>\n",
       "    </tr>\n",
       "  </thead>\n",
       "  <tbody>\n",
       "    <tr>\n",
       "      <th>17850</th>\n",
       "      <td>5288.63</td>\n",
       "      <td>373.0</td>\n",
       "      <td>34.0</td>\n",
       "    </tr>\n",
       "    <tr>\n",
       "      <th>13047</th>\n",
       "      <td>3079.10</td>\n",
       "      <td>32.0</td>\n",
       "      <td>10.0</td>\n",
       "    </tr>\n",
       "    <tr>\n",
       "      <th>12583</th>\n",
       "      <td>7187.34</td>\n",
       "      <td>3.0</td>\n",
       "      <td>15.0</td>\n",
       "    </tr>\n",
       "    <tr>\n",
       "      <th>13748</th>\n",
       "      <td>948.25</td>\n",
       "      <td>96.0</td>\n",
       "      <td>5.0</td>\n",
       "    </tr>\n",
       "    <tr>\n",
       "      <th>15100</th>\n",
       "      <td>635.10</td>\n",
       "      <td>334.0</td>\n",
       "      <td>3.0</td>\n",
       "    </tr>\n",
       "    <tr>\n",
       "      <th>...</th>\n",
       "      <td>...</td>\n",
       "      <td>...</td>\n",
       "      <td>...</td>\n",
       "    </tr>\n",
       "    <tr>\n",
       "      <th>13436</th>\n",
       "      <td>196.89</td>\n",
       "      <td>2.0</td>\n",
       "      <td>1.0</td>\n",
       "    </tr>\n",
       "    <tr>\n",
       "      <th>15520</th>\n",
       "      <td>343.50</td>\n",
       "      <td>2.0</td>\n",
       "      <td>1.0</td>\n",
       "    </tr>\n",
       "    <tr>\n",
       "      <th>13298</th>\n",
       "      <td>360.00</td>\n",
       "      <td>2.0</td>\n",
       "      <td>1.0</td>\n",
       "    </tr>\n",
       "    <tr>\n",
       "      <th>14569</th>\n",
       "      <td>227.39</td>\n",
       "      <td>2.0</td>\n",
       "      <td>1.0</td>\n",
       "    </tr>\n",
       "    <tr>\n",
       "      <th>12713</th>\n",
       "      <td>848.55</td>\n",
       "      <td>1.0</td>\n",
       "      <td>1.0</td>\n",
       "    </tr>\n",
       "  </tbody>\n",
       "</table>\n",
       "<p>4316 rows × 3 columns</p>\n",
       "</div>"
      ],
      "text/plain": [
       "            GrossRevenueTotal  RecencyDays  Frequency\n",
       "CustomerID                                           \n",
       "17850                 5288.63        373.0       34.0\n",
       "13047                 3079.10         32.0       10.0\n",
       "12583                 7187.34          3.0       15.0\n",
       "13748                  948.25         96.0        5.0\n",
       "15100                  635.10        334.0        3.0\n",
       "...                       ...          ...        ...\n",
       "13436                  196.89          2.0        1.0\n",
       "15520                  343.50          2.0        1.0\n",
       "13298                  360.00          2.0        1.0\n",
       "14569                  227.39          2.0        1.0\n",
       "12713                  848.55          1.0        1.0\n",
       "\n",
       "[4316 rows x 3 columns]"
      ]
     },
     "execution_count": 45,
     "metadata": {},
     "output_type": "execute_result"
    }
   ],
   "source": [
    "data_client"
   ]
  }
 ],
 "metadata": {
  "kernelspec": {
   "display_name": "Python 3 (ipykernel)",
   "language": "python",
   "name": "python3"
  },
  "language_info": {
   "codemirror_mode": {
    "name": "ipython",
    "version": 3
   },
   "file_extension": ".py",
   "mimetype": "text/x-python",
   "name": "python",
   "nbconvert_exporter": "python",
   "pygments_lexer": "ipython3",
   "version": "3.9.7"
  }
 },
 "nbformat": 4,
 "nbformat_minor": 5
}
