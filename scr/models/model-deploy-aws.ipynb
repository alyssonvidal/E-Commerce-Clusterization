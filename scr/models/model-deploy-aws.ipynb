{
 "cells": [
  {
   "cell_type": "markdown",
   "id": "bc4e1561",
   "metadata": {},
   "source": [
    "# Deploy Model - AWS"
   ]
  },
  {
   "cell_type": "markdown",
   "id": "d76afe1b",
   "metadata": {},
   "source": [
    "## Data Preprocessing"
   ]
  },
  {
   "cell_type": "code",
   "execution_count": 11,
   "id": "2079ee34",
   "metadata": {},
   "outputs": [],
   "source": [
    "import os\n",
    "import io\n",
    "import numpy as np\n",
    "import pandas as pd\n",
    "import datetime as dt\n",
    "from datetime import datetime, date, timedelta\n",
    "import psycopg2\n",
    "\n",
    "import s3fs\n",
    "import boto3\n",
    "from sklearn.preprocessing import StandardScaler, MinMaxScaler\n",
    "from scipy.cluster import hierarchy\n",
    "import dotenv\n",
    "\n",
    "#import sqlite3\n",
    "from sqlalchemy               import create_engine\n",
    "from sqlalchemy.pool          import NullPool\n",
    "\n",
    "import warnings\n",
    "\n",
    "warnings.simplefilter(action='ignore', category=FutureWarning)"
   ]
  },
  {
   "cell_type": "code",
   "execution_count": 12,
   "id": "cbca0b93",
   "metadata": {},
   "outputs": [],
   "source": [
    "#pip install python-dotenv"
   ]
  },
  {
   "cell_type": "code",
   "execution_count": 13,
   "id": "8e293a7a",
   "metadata": {},
   "outputs": [
    {
     "data": {
      "text/plain": [
       "True"
      ]
     },
     "execution_count": 13,
     "metadata": {},
     "output_type": "execute_result"
    }
   ],
   "source": [
    "dotenv.load_dotenv(dotenv.find_dotenv())"
   ]
  },
  {
   "cell_type": "code",
   "execution_count": 14,
   "id": "efc28641",
   "metadata": {},
   "outputs": [],
   "source": [
    "AWS_ACCESS_KEY_ID = os.environ.get('AWS_ACCESS_KEY_ID')\n",
    "AWS_SECRET_ACCESS_KEY = os.environ.get('AWS_SECRET_ACCESS_KEY')\n",
    "AWS_DEFAULT_REGION = os.environ.get('AWS_DEFAULT_REGION')"
   ]
  },
  {
   "cell_type": "code",
   "execution_count": 15,
   "id": "9ac98ad6",
   "metadata": {},
   "outputs": [],
   "source": [
    "s3 = boto3.resource(service_name='s3',\n",
    "                             region_name=AWS_DEFAULT_REGION,\n",
    "                             aws_access_key_id=AWS_ACCESS_KEY_ID,\n",
    "                             aws_secret_access_key=AWS_SECRET_ACCESS_KEY)   "
   ]
  },
  {
   "cell_type": "code",
   "execution_count": 16,
   "id": "0b1c767a",
   "metadata": {},
   "outputs": [
    {
     "name": "stdout",
     "output_type": "stream",
     "text": [
      "insidersdataset\n"
     ]
    }
   ],
   "source": [
    "for bucket in s3.buckets.all():\n",
    "    print(bucket.name)"
   ]
  },
  {
   "cell_type": "code",
   "execution_count": 17,
   "id": "46720f11",
   "metadata": {},
   "outputs": [
    {
     "name": "stdout",
     "output_type": "stream",
     "text": [
      "s3.ObjectSummary(bucket_name='insidersdataset', key='ecommerce.csv')\n"
     ]
    }
   ],
   "source": [
    "for obj in s3.Bucket('insidersdataset').objects.all():\n",
    "    print(obj)"
   ]
  },
  {
   "cell_type": "code",
   "execution_count": 18,
   "id": "9e8b9909",
   "metadata": {},
   "outputs": [
    {
     "data": {
      "text/plain": [
       "{'ResponseMetadata': {'RequestId': '77AE5DHPSJ56APC5',\n",
       "  'HostId': 'UmJJL3Bmae69Up5VdE24Zg22+w0oOPrAWhU0k8W9+DVtluiWZPTFew+v7bvYe+KQ5fD11qrDzew=',\n",
       "  'HTTPStatusCode': 200,\n",
       "  'HTTPHeaders': {'x-amz-id-2': 'UmJJL3Bmae69Up5VdE24Zg22+w0oOPrAWhU0k8W9+DVtluiWZPTFew+v7bvYe+KQ5fD11qrDzew=',\n",
       "   'x-amz-request-id': '77AE5DHPSJ56APC5',\n",
       "   'date': 'Tue, 24 Jan 2023 17:13:33 GMT',\n",
       "   'last-modified': 'Mon, 23 Jan 2023 13:06:11 GMT',\n",
       "   'etag': '\"84ab4db6c8b002df9053c0ccaea4096b-3\"',\n",
       "   'x-amz-server-side-encryption': 'AES256',\n",
       "   'accept-ranges': 'bytes',\n",
       "   'content-type': 'text/csv',\n",
       "   'server': 'AmazonS3',\n",
       "   'content-length': '42697197'},\n",
       "  'RetryAttempts': 0},\n",
       " 'AcceptRanges': 'bytes',\n",
       " 'LastModified': datetime.datetime(2023, 1, 23, 13, 6, 11, tzinfo=tzutc()),\n",
       " 'ContentLength': 42697197,\n",
       " 'ETag': '\"84ab4db6c8b002df9053c0ccaea4096b-3\"',\n",
       " 'ContentType': 'text/csv',\n",
       " 'ServerSideEncryption': 'AES256',\n",
       " 'Metadata': {},\n",
       " 'Body': <botocore.response.StreamingBody at 0x270163dd6a0>}"
      ]
     },
     "execution_count": 18,
     "metadata": {},
     "output_type": "execute_result"
    }
   ],
   "source": [
    "s3.Bucket('insidersdataset').Object('ecommerce.csv').get()"
   ]
  },
  {
   "cell_type": "code",
   "execution_count": 19,
   "id": "63d98e83",
   "metadata": {},
   "outputs": [],
   "source": [
    "obj = s3.Bucket('insidersdataset').Object('ecommerce.csv').get()\n",
    "data_raw = pd.read_csv(io.BytesIO(obj['Body'].read()), encoding='iso-8859-1') "
   ]
  },
  {
   "cell_type": "code",
   "execution_count": 20,
   "id": "06f47ea9",
   "metadata": {},
   "outputs": [],
   "source": [
    "data = data_raw.copy()"
   ]
  },
  {
   "cell_type": "code",
   "execution_count": 21,
   "id": "a49466e5",
   "metadata": {},
   "outputs": [],
   "source": [
    "data = data.drop('Unnamed: 8', axis=1)\n",
    "data = data.dropna(subset=['CustomerID'])"
   ]
  },
  {
   "cell_type": "code",
   "execution_count": 22,
   "id": "16530d23",
   "metadata": {},
   "outputs": [],
   "source": [
    "data['InvoiceDate'] = pd.to_datetime(data['InvoiceDate'], format='%d-%b-%y')\n",
    "data['CustomerID'] = data['CustomerID'].astype(int)\n",
    "data['Total'] = data['Quantity'] * data['UnitPrice']"
   ]
  },
  {
   "cell_type": "code",
   "execution_count": 25,
   "id": "b109eb5e",
   "metadata": {},
   "outputs": [],
   "source": [
    "#Customers who do not have a positive purchase balance or who owe the company (due to the temporal cut of the database) will be excluded\n",
    "\n",
    "sum_transactions_per_client=data[['CustomerID','Total','Quantity']].groupby('CustomerID').agg({'Total':np.sum,'Quantity':np.sum}).reset_index()\n",
    "\n",
    "bad_clients = sum_transactions_per_client.loc[(sum_transactions_per_client['Total'] <= 0.5) | (sum_transactions_per_client['Quantity'] <= 1)]"
   ]
  },
  {
   "cell_type": "code",
   "execution_count": 28,
   "id": "c4ccee4b",
   "metadata": {},
   "outputs": [],
   "source": [
    "list_bad_clients=bad_clients['CustomerID'].tolist()\n",
    "data = data[~data['CustomerID'].isin(list_bad_clients)]"
   ]
  },
  {
   "cell_type": "code",
   "execution_count": 29,
   "id": "b1f13f45",
   "metadata": {},
   "outputs": [],
   "source": [
    "data = data.loc[~(data['UnitPrice'] < 0.04)]"
   ]
  },
  {
   "cell_type": "code",
   "execution_count": 30,
   "id": "b1ca04ff",
   "metadata": {},
   "outputs": [],
   "source": [
    "transactions = data.copy()"
   ]
  },
  {
   "cell_type": "code",
   "execution_count": 31,
   "id": "84bcac77",
   "metadata": {},
   "outputs": [],
   "source": [
    "#Group InvoiceNumber, it contains sales and cancelations\n",
    "\n",
    "transactions=data.groupby('InvoiceNo').agg( CustomerID = ('CustomerID', np.unique),\n",
    "                                            InvoiceDate = ('InvoiceDate', np.unique),\n",
    "                                            Total = ('Total', 'sum'),\n",
    "                                            UniqueProducts = ('StockCode', 'nunique'), \n",
    "                                            Items = ('Quantity', 'sum'),\n",
    "                                            Country = ('Country', np.unique),\n",
    "                                            ProductsCode = ('StockCode', np.unique)).reset_index()\n",
    "\n",
    "transactions['AvarageTicket']= round(transactions['Total']/transactions['UniqueProducts'],2) \n",
    "#len(transactions)"
   ]
  },
  {
   "cell_type": "code",
   "execution_count": 32,
   "id": "bce68312",
   "metadata": {},
   "outputs": [],
   "source": [
    "last_day = data.InvoiceDate.max() + dt.timedelta(days = 1)\n",
    "\n",
    "transactions_per_customer = transactions.groupby('CustomerID').agg(\n",
    "                                                      GrossRevenue = ('Total', np.sum),                                           \n",
    "                                                      Recency = ('InvoiceDate', lambda x: ((last_day - x.max()).days)),             \n",
    "                                                      Frequency = ('InvoiceNo', 'count'),             \n",
    "                                                      Products = ('UniqueProducts', 'sum'), \n",
    "                                                      Items = ('Items', 'sum'),  \n",
    "                                                      Country = ('Country', np.unique),\n",
    "                                                      AvarageTicket = ('AvarageTicket', 'sum'))            \n",
    "                                                      #Products = ('StockCode', np.unique),\n",
    "                                                                   \n",
    "#transactions_per_customer['AvarageTicket']= round(transactions_per_customer['GrossRevenue'] / transactions_per_customer['Products'],2)"
   ]
  },
  {
   "cell_type": "markdown",
   "id": "67739368",
   "metadata": {},
   "source": [
    "## Data Preparation"
   ]
  },
  {
   "cell_type": "code",
   "execution_count": 46,
   "id": "0fcd2842",
   "metadata": {},
   "outputs": [],
   "source": [
    "data_prep = transactions_per_customer.copy()"
   ]
  },
  {
   "cell_type": "code",
   "execution_count": 47,
   "id": "2009cee1",
   "metadata": {},
   "outputs": [],
   "source": [
    "data_prep=data_prep.dropna()"
   ]
  },
  {
   "cell_type": "code",
   "execution_count": 48,
   "id": "1a7e6338",
   "metadata": {},
   "outputs": [],
   "source": [
    "categorical_features = ['Country']\n",
    "numerical_features = ['GrossRevenue', 'Items', 'AvarageTicket', \"Products\", 'Frequency', \"Recency\"]\n",
    "\n",
    "#data_prep[\"Country\"] = [0 if i == 'Norway' else 1 for i in data_prep[\"Country\"]]\n",
    "\n",
    "default_features = data_prep.columns\n",
    "selected_features = ['GrossRevenue','Recency','Frequency']\n",
    "\n",
    "data_prep=data_prep[selected_features].copy() "
   ]
  },
  {
   "cell_type": "code",
   "execution_count": 49,
   "id": "902a9902",
   "metadata": {},
   "outputs": [
    {
     "data": {
      "text/plain": [
       "GrossRevenue    21.575876\n",
       "Frequency       11.342906\n",
       "Recency          1.268542\n",
       "dtype: float64"
      ]
     },
     "execution_count": 49,
     "metadata": {},
     "output_type": "execute_result"
    }
   ],
   "source": [
    "log_columns = data_prep[selected_features].skew().sort_values(ascending=False)\n",
    "log_columns = log_columns.loc[log_columns > 0.75]\n",
    "log_columns"
   ]
  },
  {
   "cell_type": "code",
   "execution_count": 50,
   "id": "c83aaba4",
   "metadata": {},
   "outputs": [],
   "source": [
    "# The log transformations\n",
    "for col in log_columns.index:\n",
    "    data_prep[col] = np.log1p(data_prep[col])"
   ]
  },
  {
   "cell_type": "code",
   "execution_count": 51,
   "id": "34f9706c",
   "metadata": {},
   "outputs": [],
   "source": [
    "# MinmmaxScaler provides better resutls mainly because is robbust to outliers\n",
    "mms = MinMaxScaler()\n",
    "\n",
    "for col in data_prep[selected_features]:\n",
    "    data_prep[col] = mms.fit_transform(data_prep[[col]]).squeeze()\n",
    "    \n",
    "X = data_prep[selected_features].copy() "
   ]
  },
  {
   "cell_type": "code",
   "execution_count": 52,
   "id": "d8de2d68",
   "metadata": {},
   "outputs": [],
   "source": [
    "clusters = X.copy()"
   ]
  },
  {
   "cell_type": "markdown",
   "id": "94d9517e",
   "metadata": {},
   "source": [
    "## Model - Hierachical Cluster"
   ]
  },
  {
   "cell_type": "code",
   "execution_count": 53,
   "id": "4632fdd2",
   "metadata": {},
   "outputs": [],
   "source": [
    "k=10\n",
    "hc = hierarchy.linkage(X, 'ward', metric='euclidean')\n",
    "hc_labels = hierarchy.fcluster(hc, k, criterion='maxclust')\n",
    "clusters[\"HierarchicalCluster\"]=hc_labels"
   ]
  },
  {
   "cell_type": "code",
   "execution_count": 54,
   "id": "e8e3bb7a",
   "metadata": {},
   "outputs": [],
   "source": [
    "transactions_per_customer=transactions_per_customer.reset_index()"
   ]
  },
  {
   "cell_type": "code",
   "execution_count": 55,
   "id": "e37a2a8c",
   "metadata": {},
   "outputs": [],
   "source": [
    "transactions_per_customer['Cluster'] = hc_labels"
   ]
  },
  {
   "cell_type": "code",
   "execution_count": 56,
   "id": "e332ef12",
   "metadata": {},
   "outputs": [],
   "source": [
    "transactions = transactions.merge(transactions_per_customer[['CustomerID','Cluster']], on='CustomerID')"
   ]
  },
  {
   "cell_type": "code",
   "execution_count": 57,
   "id": "e1876e81",
   "metadata": {},
   "outputs": [],
   "source": [
    "cluster_dict = {1:\"Potential Loyalist\",\n",
    "                2:\"About to Sleep\",\n",
    "                3:\"Champion\",\n",
    "                4:\"Loyal Costumer\",\n",
    "                5:\"Promising\",\n",
    "                6:\"Hinernating\",\n",
    "                7:\"Cannot Lose Them\",\n",
    "                8:\"At Risk\",\n",
    "                9:\"New Customers\",\n",
    "                10:\"Need Atention\"}  "
   ]
  },
  {
   "cell_type": "code",
   "execution_count": 58,
   "id": "2eb73fac",
   "metadata": {},
   "outputs": [],
   "source": [
    "transactions_per_customer['Cluster']=transactions_per_customer.Cluster.map(cluster_dict)\n",
    "transactions['Cluster']=transactions.Cluster.map(cluster_dict)"
   ]
  },
  {
   "cell_type": "code",
   "execution_count": 59,
   "id": "c33228af",
   "metadata": {},
   "outputs": [
    {
     "data": {
      "text/plain": [
       "CustomerID       0\n",
       "GrossRevenue     0\n",
       "Recency          0\n",
       "Frequency        0\n",
       "Products         0\n",
       "Items            0\n",
       "Country          0\n",
       "AvarageTicket    0\n",
       "Cluster          0\n",
       "dtype: int64"
      ]
     },
     "execution_count": 59,
     "metadata": {},
     "output_type": "execute_result"
    }
   ],
   "source": [
    "transactions_per_customer.isna().sum()"
   ]
  },
  {
   "cell_type": "markdown",
   "id": "40b6472e",
   "metadata": {},
   "source": [
    "## Accessing Postgres Database on AWS"
   ]
  },
  {
   "cell_type": "code",
   "execution_count": 60,
   "id": "2a58966c",
   "metadata": {},
   "outputs": [],
   "source": [
    "insiders = transactions_per_customer.copy()"
   ]
  },
  {
   "cell_type": "code",
   "execution_count": 61,
   "id": "af20c2fc",
   "metadata": {},
   "outputs": [],
   "source": [
    "insiders=insiders.drop(columns='Country', axis=1)"
   ]
  },
  {
   "cell_type": "code",
   "execution_count": 72,
   "id": "7e6f1929",
   "metadata": {},
   "outputs": [],
   "source": [
    "host = os.environ.get('POSTGRES_HOST')\n",
    "port = os.environ.get('POSTGRES_PORT')\n",
    "database = os.environ.get('POSTGRES_DATABASE')\n",
    "user = os.environ.get('POSTGRES_USER')\n",
    "pwd = os.environ.get('POSTGRES_PWD')"
   ]
  },
  {
   "cell_type": "code",
   "execution_count": 87,
   "id": "a136e7a2",
   "metadata": {},
   "outputs": [],
   "source": [
    "endpoint= f'postgresql://{user}:{pwd}@{host}:{port}/{database}'\n",
    "        \n",
    "db = create_engine(endpoint, poolclass=NullPool)\n",
    "conn = db.connect()"
   ]
  },
  {
   "cell_type": "markdown",
   "id": "9c4a94a0",
   "metadata": {},
   "source": [
    "### Using SQL Alchemy"
   ]
  },
  {
   "cell_type": "code",
   "execution_count": 75,
   "id": "38ae0796",
   "metadata": {},
   "outputs": [
    {
     "data": {
      "text/plain": [
       "<sqlalchemy.engine.cursor.LegacyCursorResult at 0x27015e78970>"
      ]
     },
     "execution_count": 75,
     "metadata": {},
     "output_type": "execute_result"
    }
   ],
   "source": [
    "query_drop_insiders = \"\"\" DROP TABLE insiders \"\"\"\n",
    "conn.execute( query_drop_insiders )"
   ]
  },
  {
   "cell_type": "code",
   "execution_count": 77,
   "id": "8c1ceb18",
   "metadata": {},
   "outputs": [
    {
     "name": "stdout",
     "output_type": "stream",
     "text": [
      "Table insiders was created!\n"
     ]
    }
   ],
   "source": [
    "query_create_table_insiders = \"\"\"\n",
    "        CREATE TABLE insiders (\n",
    "            CustomerID               INTEGER,\n",
    "            GrossRevenue             REAL,\n",
    "            Recency                  INTEGER,\n",
    "            Frequency                INTEGER,\n",
    "            Products                 INTEGER,\n",
    "            Items                    INTEGER,\n",
    "            AvarageTicket            REAL,\n",
    "            Cluster                  TEXT\n",
    "           ) \"\"\"\n",
    "\n",
    "    conn.execute( query_create_table_insiders )\n",
    "    print('Table insiders was created!')"
   ]
  },
  {
   "cell_type": "code",
   "execution_count": 88,
   "id": "ea65e105",
   "metadata": {},
   "outputs": [
    {
     "data": {
      "text/html": [
       "<div>\n",
       "<style scoped>\n",
       "    .dataframe tbody tr th:only-of-type {\n",
       "        vertical-align: middle;\n",
       "    }\n",
       "\n",
       "    .dataframe tbody tr th {\n",
       "        vertical-align: top;\n",
       "    }\n",
       "\n",
       "    .dataframe thead th {\n",
       "        text-align: right;\n",
       "    }\n",
       "</style>\n",
       "<table border=\"1\" class=\"dataframe\">\n",
       "  <thead>\n",
       "    <tr style=\"text-align: right;\">\n",
       "      <th></th>\n",
       "      <th>table_catalog</th>\n",
       "      <th>table_schema</th>\n",
       "      <th>table_name</th>\n",
       "      <th>table_type</th>\n",
       "      <th>self_referencing_column_name</th>\n",
       "      <th>reference_generation</th>\n",
       "      <th>user_defined_type_catalog</th>\n",
       "      <th>user_defined_type_schema</th>\n",
       "      <th>user_defined_type_name</th>\n",
       "      <th>is_insertable_into</th>\n",
       "      <th>is_typed</th>\n",
       "      <th>commit_action</th>\n",
       "    </tr>\n",
       "  </thead>\n",
       "  <tbody>\n",
       "    <tr>\n",
       "      <th>0</th>\n",
       "      <td>frist_test_db</td>\n",
       "      <td>public</td>\n",
       "      <td>insiders</td>\n",
       "      <td>BASE TABLE</td>\n",
       "      <td>None</td>\n",
       "      <td>None</td>\n",
       "      <td>None</td>\n",
       "      <td>None</td>\n",
       "      <td>None</td>\n",
       "      <td>YES</td>\n",
       "      <td>NO</td>\n",
       "      <td>None</td>\n",
       "    </tr>\n",
       "  </tbody>\n",
       "</table>\n",
       "</div>"
      ],
      "text/plain": [
       "   table_catalog table_schema table_name  table_type  \\\n",
       "0  frist_test_db       public   insiders  BASE TABLE   \n",
       "\n",
       "  self_referencing_column_name reference_generation user_defined_type_catalog  \\\n",
       "0                         None                 None                      None   \n",
       "\n",
       "  user_defined_type_schema user_defined_type_name is_insertable_into is_typed  \\\n",
       "0                     None                   None                YES       NO   \n",
       "\n",
       "  commit_action  \n",
       "0          None  "
      ]
     },
     "execution_count": 88,
     "metadata": {},
     "output_type": "execute_result"
    }
   ],
   "source": [
    "#check if table exists on Postgress\n",
    "check_table = \"\"\" SELECT * FROM information_schema.tables WHERE table_name = 'insiders';\"\"\"\n",
    "df_check = pd.read_sql_query(check_table, conn)\n",
    "df_check"
   ]
  },
  {
   "cell_type": "code",
   "execution_count": 78,
   "id": "65c309ea",
   "metadata": {},
   "outputs": [],
   "source": [
    "insiders.to_sql('insiders', con=conn, if_exists='replace',index=False)"
   ]
  },
  {
   "cell_type": "code",
   "execution_count": 79,
   "id": "de51ee27",
   "metadata": {},
   "outputs": [
    {
     "data": {
      "text/html": [
       "<div>\n",
       "<style scoped>\n",
       "    .dataframe tbody tr th:only-of-type {\n",
       "        vertical-align: middle;\n",
       "    }\n",
       "\n",
       "    .dataframe tbody tr th {\n",
       "        vertical-align: top;\n",
       "    }\n",
       "\n",
       "    .dataframe thead th {\n",
       "        text-align: right;\n",
       "    }\n",
       "</style>\n",
       "<table border=\"1\" class=\"dataframe\">\n",
       "  <thead>\n",
       "    <tr style=\"text-align: right;\">\n",
       "      <th></th>\n",
       "      <th>CustomerID</th>\n",
       "      <th>GrossRevenue</th>\n",
       "      <th>Recency</th>\n",
       "      <th>Frequency</th>\n",
       "      <th>Products</th>\n",
       "      <th>Items</th>\n",
       "      <th>AvarageTicket</th>\n",
       "      <th>Cluster</th>\n",
       "    </tr>\n",
       "  </thead>\n",
       "  <tbody>\n",
       "    <tr>\n",
       "      <th>0</th>\n",
       "      <td>12347</td>\n",
       "      <td>4310.00</td>\n",
       "      <td>3</td>\n",
       "      <td>7</td>\n",
       "      <td>182</td>\n",
       "      <td>2458</td>\n",
       "      <td>161.68</td>\n",
       "      <td>About to Sleep</td>\n",
       "    </tr>\n",
       "    <tr>\n",
       "      <th>1</th>\n",
       "      <td>12348</td>\n",
       "      <td>1797.24</td>\n",
       "      <td>76</td>\n",
       "      <td>4</td>\n",
       "      <td>27</td>\n",
       "      <td>2341</td>\n",
       "      <td>283.32</td>\n",
       "      <td>At Risk</td>\n",
       "    </tr>\n",
       "    <tr>\n",
       "      <th>2</th>\n",
       "      <td>12349</td>\n",
       "      <td>1757.55</td>\n",
       "      <td>19</td>\n",
       "      <td>1</td>\n",
       "      <td>73</td>\n",
       "      <td>631</td>\n",
       "      <td>24.08</td>\n",
       "      <td>Need Atention</td>\n",
       "    </tr>\n",
       "    <tr>\n",
       "      <th>3</th>\n",
       "      <td>12350</td>\n",
       "      <td>334.40</td>\n",
       "      <td>311</td>\n",
       "      <td>1</td>\n",
       "      <td>17</td>\n",
       "      <td>197</td>\n",
       "      <td>19.67</td>\n",
       "      <td>Hinernating</td>\n",
       "    </tr>\n",
       "    <tr>\n",
       "      <th>4</th>\n",
       "      <td>12352</td>\n",
       "      <td>1545.41</td>\n",
       "      <td>37</td>\n",
       "      <td>11</td>\n",
       "      <td>92</td>\n",
       "      <td>470</td>\n",
       "      <td>128.83</td>\n",
       "      <td>At Risk</td>\n",
       "    </tr>\n",
       "    <tr>\n",
       "      <th>...</th>\n",
       "      <td>...</td>\n",
       "      <td>...</td>\n",
       "      <td>...</td>\n",
       "      <td>...</td>\n",
       "      <td>...</td>\n",
       "      <td>...</td>\n",
       "      <td>...</td>\n",
       "      <td>...</td>\n",
       "    </tr>\n",
       "    <tr>\n",
       "      <th>4307</th>\n",
       "      <td>18280</td>\n",
       "      <td>180.60</td>\n",
       "      <td>278</td>\n",
       "      <td>1</td>\n",
       "      <td>10</td>\n",
       "      <td>45</td>\n",
       "      <td>18.06</td>\n",
       "      <td>Hinernating</td>\n",
       "    </tr>\n",
       "    <tr>\n",
       "      <th>4308</th>\n",
       "      <td>18281</td>\n",
       "      <td>80.82</td>\n",
       "      <td>181</td>\n",
       "      <td>1</td>\n",
       "      <td>7</td>\n",
       "      <td>54</td>\n",
       "      <td>11.55</td>\n",
       "      <td>Hinernating</td>\n",
       "    </tr>\n",
       "    <tr>\n",
       "      <th>4309</th>\n",
       "      <td>18282</td>\n",
       "      <td>176.60</td>\n",
       "      <td>8</td>\n",
       "      <td>3</td>\n",
       "      <td>13</td>\n",
       "      <td>98</td>\n",
       "      <td>28.44</td>\n",
       "      <td>Champion</td>\n",
       "    </tr>\n",
       "    <tr>\n",
       "      <th>4310</th>\n",
       "      <td>18283</td>\n",
       "      <td>2094.88</td>\n",
       "      <td>4</td>\n",
       "      <td>16</td>\n",
       "      <td>689</td>\n",
       "      <td>1397</td>\n",
       "      <td>48.63</td>\n",
       "      <td>About to Sleep</td>\n",
       "    </tr>\n",
       "    <tr>\n",
       "      <th>4311</th>\n",
       "      <td>18287</td>\n",
       "      <td>1837.28</td>\n",
       "      <td>43</td>\n",
       "      <td>3</td>\n",
       "      <td>68</td>\n",
       "      <td>1586</td>\n",
       "      <td>78.25</td>\n",
       "      <td>At Risk</td>\n",
       "    </tr>\n",
       "  </tbody>\n",
       "</table>\n",
       "<p>4312 rows × 8 columns</p>\n",
       "</div>"
      ],
      "text/plain": [
       "      CustomerID  GrossRevenue  Recency  Frequency  Products  Items  \\\n",
       "0          12347       4310.00        3          7       182   2458   \n",
       "1          12348       1797.24       76          4        27   2341   \n",
       "2          12349       1757.55       19          1        73    631   \n",
       "3          12350        334.40      311          1        17    197   \n",
       "4          12352       1545.41       37         11        92    470   \n",
       "...          ...           ...      ...        ...       ...    ...   \n",
       "4307       18280        180.60      278          1        10     45   \n",
       "4308       18281         80.82      181          1         7     54   \n",
       "4309       18282        176.60        8          3        13     98   \n",
       "4310       18283       2094.88        4         16       689   1397   \n",
       "4311       18287       1837.28       43          3        68   1586   \n",
       "\n",
       "      AvarageTicket         Cluster  \n",
       "0            161.68  About to Sleep  \n",
       "1            283.32         At Risk  \n",
       "2             24.08   Need Atention  \n",
       "3             19.67     Hinernating  \n",
       "4            128.83         At Risk  \n",
       "...             ...             ...  \n",
       "4307          18.06     Hinernating  \n",
       "4308          11.55     Hinernating  \n",
       "4309          28.44        Champion  \n",
       "4310          48.63  About to Sleep  \n",
       "4311          78.25         At Risk  \n",
       "\n",
       "[4312 rows x 8 columns]"
      ]
     },
     "execution_count": 79,
     "metadata": {},
     "output_type": "execute_result"
    }
   ],
   "source": [
    "#consult database\n",
    "query = \"\"\" SELECT * FROM insiders \"\"\"\n",
    "df = pd.read_sql_query(query, conn)\n",
    "df"
   ]
  },
  {
   "cell_type": "code",
   "execution_count": 90,
   "id": "71f2b902",
   "metadata": {},
   "outputs": [],
   "source": [
    "conn.close()"
   ]
  },
  {
   "cell_type": "code",
   "execution_count": null,
   "id": "5c43de7e",
   "metadata": {},
   "outputs": [],
   "source": []
  }
 ],
 "metadata": {
  "hide_input": false,
  "kernelspec": {
   "display_name": "Python 3 (ipykernel)",
   "language": "python",
   "name": "python3"
  },
  "language_info": {
   "codemirror_mode": {
    "name": "ipython",
    "version": 3
   },
   "file_extension": ".py",
   "mimetype": "text/x-python",
   "name": "python",
   "nbconvert_exporter": "python",
   "pygments_lexer": "ipython3",
   "version": "3.9.7"
  },
  "latex_envs": {
   "LaTeX_envs_menu_present": true,
   "autoclose": false,
   "autocomplete": true,
   "bibliofile": "biblio.bib",
   "cite_by": "apalike",
   "current_citInitial": 1,
   "eqLabelWithNumbers": true,
   "eqNumInitial": 1,
   "hotkeys": {
    "equation": "Ctrl-E",
    "itemize": "Ctrl-I"
   },
   "labels_anchors": false,
   "latex_user_defs": false,
   "report_style_numbering": false,
   "user_envs_cfg": false
  }
 },
 "nbformat": 4,
 "nbformat_minor": 5
}
