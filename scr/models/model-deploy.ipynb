{
 "cells": [
  {
   "cell_type": "code",
   "execution_count": 1,
   "id": "2079ee34",
   "metadata": {},
   "outputs": [],
   "source": [
    "import numpy as np\n",
    "import pandas as pd\n",
    "import datetime as dt\n",
    "from datetime import datetime, date, timedelta\n",
    "\n",
    "from sklearn.preprocessing import StandardScaler, MinMaxScaler, RobustScaler, PowerTransformer\n",
    "from scipy.cluster import hierarchy\n",
    "\n",
    "import sqlite3\n",
    "from sqlalchemy               import create_engine\n",
    "from sqlalchemy.pool          import NullPool\n",
    "\n",
    "# from sklearn.decomposition import PCA\n",
    "# from umap.umap_ import UMAP\n",
    "# from sklearn.manifold import TSNE\n",
    "\n",
    "import warnings\n",
    "\n",
    "warnings.simplefilter(action='ignore', category=FutureWarning)"
   ]
  },
  {
   "cell_type": "code",
   "execution_count": 2,
   "id": "e4951617",
   "metadata": {},
   "outputs": [],
   "source": [
    "# Pappermill Checkings\n",
    "\n",
    "papermill_record = 6\n",
    "papermill_hostname = 'machine_name'"
   ]
  },
  {
   "cell_type": "code",
   "execution_count": 3,
   "id": "a4b3ba99",
   "metadata": {},
   "outputs": [],
   "source": [
    "PATH = '/Users/Alysson/Documents/Projects/E-Commerce-Clusterization/data/ecommerce.csv'\n",
    "data_raw = pd.read_csv(PATH, encoding='iso-8859-1')\n",
    "data = data_raw.copy()"
   ]
  },
  {
   "cell_type": "code",
   "execution_count": 4,
   "id": "a49466e5",
   "metadata": {},
   "outputs": [],
   "source": [
    "data = data.drop('Unnamed: 8', axis=1)\n",
    "data = data.dropna(subset=['CustomerID'])"
   ]
  },
  {
   "cell_type": "code",
   "execution_count": 5,
   "id": "16530d23",
   "metadata": {},
   "outputs": [],
   "source": [
    "data['InvoiceDate'] = pd.to_datetime(data['InvoiceDate'], format='%d-%b-%y')\n",
    "data['CustomerID'] = data['CustomerID'].astype(int)\n",
    "\n",
    "data['Total'] = data['Quantity'] * data['UnitPrice']"
   ]
  },
  {
   "cell_type": "code",
   "execution_count": 6,
   "id": "e8944ff1",
   "metadata": {},
   "outputs": [],
   "source": [
    "sum_transactions_per_client=data[['CustomerID','Total','Quantity']].groupby('CustomerID').agg({'Total':np.sum,\n",
    "                                                                 'Quantity':np.sum,                               \n",
    "                                                                 #'CustomerID':np.unique                                                                                    \n",
    "                                                                 }).reset_index()"
   ]
  },
  {
   "cell_type": "code",
   "execution_count": 7,
   "id": "5af3aad5",
   "metadata": {},
   "outputs": [],
   "source": [
    "#Customers who do not have a positive purchase balance or who owe the company (due to the temporal cut of the database) will be excluded\n",
    "\n",
    "bad_clients = sum_transactions_per_client.loc[(sum_transactions_per_client['Total'] <= 0.5) | (sum_transactions_per_client['Quantity'] <= 1)]"
   ]
  },
  {
   "cell_type": "code",
   "execution_count": 8,
   "id": "c4ccee4b",
   "metadata": {},
   "outputs": [],
   "source": [
    "list_bad_clients=bad_clients['CustomerID'].tolist()\n",
    "data = data[~data['CustomerID'].isin(list_bad_clients)]"
   ]
  },
  {
   "cell_type": "code",
   "execution_count": 9,
   "id": "b1f13f45",
   "metadata": {},
   "outputs": [],
   "source": [
    "data = data.loc[~(data['UnitPrice'] < 0.04)]"
   ]
  },
  {
   "cell_type": "code",
   "execution_count": 10,
   "id": "1f654576",
   "metadata": {},
   "outputs": [],
   "source": [
    "list_letter_stock=data[data.StockCode.str.contains(\"^[a-zA-Z]\")].StockCode.value_counts().index.tolist()"
   ]
  },
  {
   "cell_type": "code",
   "execution_count": 11,
   "id": "0b22cc4e",
   "metadata": {},
   "outputs": [],
   "source": [
    "data = data.loc[~data['StockCode'].isin(list_letter_stock)]"
   ]
  },
  {
   "cell_type": "code",
   "execution_count": 12,
   "id": "b1ca04ff",
   "metadata": {},
   "outputs": [],
   "source": [
    "transactions = data.copy()"
   ]
  },
  {
   "cell_type": "code",
   "execution_count": 13,
   "id": "84bcac77",
   "metadata": {},
   "outputs": [],
   "source": [
    "#Group InvoiceNumber, it contains sales and cancelations\n",
    "\n",
    "transactions=data.groupby('InvoiceNo').agg( CustomerID = ('CustomerID', np.unique),\n",
    "                                            InvoiceDate = ('InvoiceDate', np.unique),\n",
    "                                            Total = ('Total', 'sum'),\n",
    "                                            UniqueProducts = ('StockCode', 'nunique'), \n",
    "                                            Items = ('Quantity', 'sum'),\n",
    "                                            Country = ('Country', np.unique),\n",
    "                                            ProductsCode = ('StockCode', np.unique)).reset_index()\n",
    "\n",
    "transactions['AvarageTicket']= round(transactions['Total']/transactions['UniqueProducts'],2) \n",
    "#len(transactions)"
   ]
  },
  {
   "cell_type": "code",
   "execution_count": 14,
   "id": "bce68312",
   "metadata": {},
   "outputs": [],
   "source": [
    "last_day = data.InvoiceDate.max() + dt.timedelta(days = 1)\n",
    "\n",
    "transactions_per_customer = transactions.groupby('CustomerID').agg(\n",
    "                                                      GrossRevenue = ('Total', np.sum),                                           \n",
    "                                                      Recency = ('InvoiceDate', lambda x: ((last_day - x.max()).days)),             \n",
    "                                                      Frequency = ('InvoiceNo', 'count'),             \n",
    "                                                      Products = ('UniqueProducts', 'sum'), \n",
    "                                                      Items = ('Items', 'sum'),  \n",
    "                                                      Country = ('Country', np.unique),\n",
    "                                                      AvarageTicket = ('AvarageTicket', 'sum'))            \n",
    "                                                      #Products = ('StockCode', np.unique),\n",
    "                                                                   \n",
    "#transactions_per_customer['AvarageTicket']= round(transactions_per_customer['GrossRevenue'] / transactions_per_customer['Products'],2)"
   ]
  },
  {
   "cell_type": "markdown",
   "id": "67739368",
   "metadata": {},
   "source": [
    "## Data Preparation"
   ]
  },
  {
   "cell_type": "code",
   "execution_count": 15,
   "id": "0fcd2842",
   "metadata": {},
   "outputs": [],
   "source": [
    "data_prep = transactions_per_customer.copy()"
   ]
  },
  {
   "cell_type": "code",
   "execution_count": 16,
   "id": "2009cee1",
   "metadata": {},
   "outputs": [],
   "source": [
    "data_prep=data_prep.dropna()"
   ]
  },
  {
   "cell_type": "code",
   "execution_count": 17,
   "id": "1a7e6338",
   "metadata": {},
   "outputs": [],
   "source": [
    "categorical_features = ['Country']\n",
    "numerical_features = ['GrossRevenue', 'Items', 'AvarageTicket', \"Products\", 'Frequency', \"Recency\"]\n",
    "\n",
    "#data_prep[\"Country\"] = [0 if i == 'Norway' else 1 for i in data_prep[\"Country\"]]\n",
    "\n",
    "default_features = data_prep.columns\n",
    "selected_features = ['GrossRevenue','Recency','Frequency']\n",
    "\n",
    "data_prep=data_prep[selected_features].copy() "
   ]
  },
  {
   "cell_type": "code",
   "execution_count": 18,
   "id": "902a9902",
   "metadata": {},
   "outputs": [
    {
     "data": {
      "text/plain": [
       "GrossRevenue    21.526419\n",
       "Frequency       11.401617\n",
       "Recency          1.265656\n",
       "dtype: float64"
      ]
     },
     "execution_count": 18,
     "metadata": {},
     "output_type": "execute_result"
    }
   ],
   "source": [
    "log_columns = data_prep[selected_features].skew().sort_values(ascending=False)\n",
    "log_columns = log_columns.loc[log_columns > 0.75]\n",
    "log_columns"
   ]
  },
  {
   "cell_type": "code",
   "execution_count": 19,
   "id": "c83aaba4",
   "metadata": {},
   "outputs": [],
   "source": [
    "# The log transformations\n",
    "for col in log_columns.index:\n",
    "    data_prep[col] = np.log1p(data_prep[col])"
   ]
  },
  {
   "cell_type": "code",
   "execution_count": 20,
   "id": "34f9706c",
   "metadata": {},
   "outputs": [],
   "source": [
    "#ss = StandardScaler()\n",
    "#rs = RobustScaler()\n",
    "#pt = PowerTransformer()\n",
    "\n",
    "# MinmmaxScaler provides better resutls mainly because is robbust to outliers\n",
    "mms = MinMaxScaler()\n",
    "\n",
    "for col in data_prep[selected_features]:\n",
    "    data_prep[col] = mms.fit_transform(data_prep[[col]]).squeeze()\n",
    "    \n",
    "X = data_prep[selected_features].copy() "
   ]
  },
  {
   "cell_type": "code",
   "execution_count": 21,
   "id": "d8de2d68",
   "metadata": {},
   "outputs": [],
   "source": [
    "clusters_results = X.copy()"
   ]
  },
  {
   "cell_type": "code",
   "execution_count": 22,
   "id": "4c8664bc",
   "metadata": {},
   "outputs": [],
   "source": [
    "# # Dimensionality Reduction(to 2D) using technique UMAP \n",
    "# umap = UMAP(random_state=3456)\n",
    "# umap_embedding = umap.fit_transform(X)\n",
    "\n",
    "# # X,y axis representation for UMAP\n",
    "# clusters_results['umap_x'] = umap_embedding[:,0]\n",
    "# clusters_results['umap_y'] = umap_embedding[:,1]"
   ]
  },
  {
   "cell_type": "code",
   "execution_count": 23,
   "id": "51d8137b",
   "metadata": {},
   "outputs": [],
   "source": [
    "# # Dimensionality Reduction(to 2D) using technique TSNE\n",
    "# tsne = TSNE(n_components=2, init='pca', learning_rate='auto', n_jobs=-1, random_state=3456)\n",
    "# tsne_embedding = tsne.fit_transform(X)\n",
    "\n",
    "# # X,y axis representation using TSNE\n",
    "# clusters_results['tsne_x'] = tsne_embedding[:,0]\n",
    "# clusters_results['tsne_y'] = tsne_embedding[:,1]"
   ]
  },
  {
   "cell_type": "markdown",
   "id": "94d9517e",
   "metadata": {},
   "source": [
    "## Model - Hierachical Cluster"
   ]
  },
  {
   "cell_type": "code",
   "execution_count": 24,
   "id": "4632fdd2",
   "metadata": {},
   "outputs": [],
   "source": [
    "k=10\n",
    "#hc = AgglomerativeClustering(k, affinity='euclidean', linkage='complete', compute_full_tree=False)\n",
    "hc = hierarchy.linkage(X, 'ward', metric='euclidean')\n",
    "hc_labels = hierarchy.fcluster(hc, k, criterion='maxclust')\n",
    "clusters_results[\"HierarchicalCluster\"]=hc_labels"
   ]
  },
  {
   "cell_type": "code",
   "execution_count": 25,
   "id": "9376cda6",
   "metadata": {},
   "outputs": [],
   "source": [
    "all_clusters=transactions_per_customer.copy()"
   ]
  },
  {
   "cell_type": "code",
   "execution_count": 26,
   "id": "e37a2a8c",
   "metadata": {},
   "outputs": [],
   "source": [
    "all_clusters['HC'] = hc_labels"
   ]
  },
  {
   "cell_type": "code",
   "execution_count": 27,
   "id": "d1d4fc4a",
   "metadata": {},
   "outputs": [
    {
     "data": {
      "text/html": [
       "<div>\n",
       "<style scoped>\n",
       "    .dataframe tbody tr th:only-of-type {\n",
       "        vertical-align: middle;\n",
       "    }\n",
       "\n",
       "    .dataframe tbody tr th {\n",
       "        vertical-align: top;\n",
       "    }\n",
       "\n",
       "    .dataframe thead th {\n",
       "        text-align: right;\n",
       "    }\n",
       "</style>\n",
       "<table border=\"1\" class=\"dataframe\">\n",
       "  <thead>\n",
       "    <tr style=\"text-align: right;\">\n",
       "      <th></th>\n",
       "      <th>GrossRevenue</th>\n",
       "      <th>Recency</th>\n",
       "      <th>Frequency</th>\n",
       "    </tr>\n",
       "    <tr>\n",
       "      <th>HC</th>\n",
       "      <th></th>\n",
       "      <th></th>\n",
       "      <th></th>\n",
       "    </tr>\n",
       "  </thead>\n",
       "  <tbody>\n",
       "    <tr>\n",
       "      <th>3</th>\n",
       "      <td>13793.701210</td>\n",
       "      <td>6.370107</td>\n",
       "      <td>25.982206</td>\n",
       "    </tr>\n",
       "    <tr>\n",
       "      <th>1</th>\n",
       "      <td>3713.345916</td>\n",
       "      <td>42.475884</td>\n",
       "      <td>10.581994</td>\n",
       "    </tr>\n",
       "    <tr>\n",
       "      <th>2</th>\n",
       "      <td>1678.157504</td>\n",
       "      <td>18.075829</td>\n",
       "      <td>5.451817</td>\n",
       "    </tr>\n",
       "    <tr>\n",
       "      <th>8</th>\n",
       "      <td>1529.239724</td>\n",
       "      <td>113.877880</td>\n",
       "      <td>4.467742</td>\n",
       "    </tr>\n",
       "    <tr>\n",
       "      <th>4</th>\n",
       "      <td>1522.371525</td>\n",
       "      <td>3.662757</td>\n",
       "      <td>5.351906</td>\n",
       "    </tr>\n",
       "    <tr>\n",
       "      <th>6</th>\n",
       "      <td>802.785489</td>\n",
       "      <td>39.525862</td>\n",
       "      <td>2.974138</td>\n",
       "    </tr>\n",
       "    <tr>\n",
       "      <th>9</th>\n",
       "      <td>641.665171</td>\n",
       "      <td>196.627376</td>\n",
       "      <td>2.110266</td>\n",
       "    </tr>\n",
       "    <tr>\n",
       "      <th>7</th>\n",
       "      <td>363.514452</td>\n",
       "      <td>60.165501</td>\n",
       "      <td>1.289044</td>\n",
       "    </tr>\n",
       "    <tr>\n",
       "      <th>5</th>\n",
       "      <td>298.804777</td>\n",
       "      <td>19.449045</td>\n",
       "      <td>1.512739</td>\n",
       "    </tr>\n",
       "    <tr>\n",
       "      <th>10</th>\n",
       "      <td>211.053914</td>\n",
       "      <td>239.513669</td>\n",
       "      <td>1.043165</td>\n",
       "    </tr>\n",
       "  </tbody>\n",
       "</table>\n",
       "</div>"
      ],
      "text/plain": [
       "    GrossRevenue     Recency  Frequency\n",
       "HC                                     \n",
       "3   13793.701210    6.370107  25.982206\n",
       "1    3713.345916   42.475884  10.581994\n",
       "2    1678.157504   18.075829   5.451817\n",
       "8    1529.239724  113.877880   4.467742\n",
       "4    1522.371525    3.662757   5.351906\n",
       "6     802.785489   39.525862   2.974138\n",
       "9     641.665171  196.627376   2.110266\n",
       "7     363.514452   60.165501   1.289044\n",
       "5     298.804777   19.449045   1.512739\n",
       "10    211.053914  239.513669   1.043165"
      ]
     },
     "execution_count": 27,
     "metadata": {},
     "output_type": "execute_result"
    }
   ],
   "source": [
    "all_clusters[['GrossRevenue','Recency','Frequency','HC']].groupby('HC').mean().sort_values(by='GrossRevenue', ascending=False).head(20)"
   ]
  },
  {
   "cell_type": "code",
   "execution_count": 28,
   "id": "8c3f8c82",
   "metadata": {},
   "outputs": [],
   "source": [
    "report = all_clusters[['GrossRevenue','Recency','Frequency','HC']].groupby('HC').agg( MonetarySum = ('GrossRevenue', 'sum'),\n",
    "                                             MonetaryMean = ('GrossRevenue', 'mean'),\n",
    "                                             Recency = ('Recency', 'mean'),\n",
    "                                             Frequency = ('Frequency', 'mean'),\n",
    "                                             Count = ('GrossRevenue', 'count')).reset_index()\n",
    "\n",
    "report['Percentage'] = round((report['Count'] / report['Count'].sum()*100),2)\n",
    "report=report.sort_values(by='MonetaryMean', ascending=False)"
   ]
  },
  {
   "cell_type": "code",
   "execution_count": 29,
   "id": "7238c0f0",
   "metadata": {},
   "outputs": [],
   "source": [
    "report['Cluster'] = ['Champion', #3\n",
    "                     'Loyal Costumer', #4\n",
    "                     'Potential Loyalist',#1\n",
    "                     'Cannot Lose Them', #7 \n",
    "                     'New Customers', #9\n",
    "                     'Promising', #5\n",
    "                     'About to Sleep',    #2               \n",
    "                     'Need Atention', #10\n",
    "                     'At Risk',   #8\n",
    "                     'Hinernating']   #6"
   ]
  },
  {
   "cell_type": "code",
   "execution_count": 30,
   "id": "30d10c9f",
   "metadata": {},
   "outputs": [],
   "source": [
    "report.set_index('Cluster', inplace=True)\n",
    "report.drop('HC', axis=1,inplace=True)"
   ]
  },
  {
   "cell_type": "code",
   "execution_count": 31,
   "id": "f3a3904e",
   "metadata": {},
   "outputs": [
    {
     "data": {
      "text/html": [
       "<div>\n",
       "<style scoped>\n",
       "    .dataframe tbody tr th:only-of-type {\n",
       "        vertical-align: middle;\n",
       "    }\n",
       "\n",
       "    .dataframe tbody tr th {\n",
       "        vertical-align: top;\n",
       "    }\n",
       "\n",
       "    .dataframe thead th {\n",
       "        text-align: right;\n",
       "    }\n",
       "</style>\n",
       "<table border=\"1\" class=\"dataframe\">\n",
       "  <thead>\n",
       "    <tr style=\"text-align: right;\">\n",
       "      <th></th>\n",
       "      <th>MonetarySum</th>\n",
       "      <th>MonetaryMean</th>\n",
       "      <th>Recency</th>\n",
       "      <th>Frequency</th>\n",
       "      <th>Count</th>\n",
       "      <th>Percentage</th>\n",
       "    </tr>\n",
       "    <tr>\n",
       "      <th>Cluster</th>\n",
       "      <th></th>\n",
       "      <th></th>\n",
       "      <th></th>\n",
       "      <th></th>\n",
       "      <th></th>\n",
       "      <th></th>\n",
       "    </tr>\n",
       "  </thead>\n",
       "  <tbody>\n",
       "    <tr>\n",
       "      <th>Champion</th>\n",
       "      <td>3876030.04</td>\n",
       "      <td>13793.701210</td>\n",
       "      <td>6.370107</td>\n",
       "      <td>25.982206</td>\n",
       "      <td>281</td>\n",
       "      <td>6.52</td>\n",
       "    </tr>\n",
       "    <tr>\n",
       "      <th>Loyal Costumer</th>\n",
       "      <td>1154850.58</td>\n",
       "      <td>3713.345916</td>\n",
       "      <td>42.475884</td>\n",
       "      <td>10.581994</td>\n",
       "      <td>311</td>\n",
       "      <td>7.21</td>\n",
       "    </tr>\n",
       "    <tr>\n",
       "      <th>Potential Loyalist</th>\n",
       "      <td>1062273.70</td>\n",
       "      <td>1678.157504</td>\n",
       "      <td>18.075829</td>\n",
       "      <td>5.451817</td>\n",
       "      <td>633</td>\n",
       "      <td>14.68</td>\n",
       "    </tr>\n",
       "    <tr>\n",
       "      <th>Cannot Lose Them</th>\n",
       "      <td>663690.04</td>\n",
       "      <td>1529.239724</td>\n",
       "      <td>113.877880</td>\n",
       "      <td>4.467742</td>\n",
       "      <td>434</td>\n",
       "      <td>10.06</td>\n",
       "    </tr>\n",
       "    <tr>\n",
       "      <th>New Customers</th>\n",
       "      <td>519128.69</td>\n",
       "      <td>1522.371525</td>\n",
       "      <td>3.662757</td>\n",
       "      <td>5.351906</td>\n",
       "      <td>341</td>\n",
       "      <td>7.91</td>\n",
       "    </tr>\n",
       "    <tr>\n",
       "      <th>Promising</th>\n",
       "      <td>279369.35</td>\n",
       "      <td>802.785489</td>\n",
       "      <td>39.525862</td>\n",
       "      <td>2.974138</td>\n",
       "      <td>348</td>\n",
       "      <td>8.07</td>\n",
       "    </tr>\n",
       "    <tr>\n",
       "      <th>About to Sleep</th>\n",
       "      <td>337515.88</td>\n",
       "      <td>641.665171</td>\n",
       "      <td>196.627376</td>\n",
       "      <td>2.110266</td>\n",
       "      <td>526</td>\n",
       "      <td>12.20</td>\n",
       "    </tr>\n",
       "    <tr>\n",
       "      <th>Need Atention</th>\n",
       "      <td>155947.70</td>\n",
       "      <td>363.514452</td>\n",
       "      <td>60.165501</td>\n",
       "      <td>1.289044</td>\n",
       "      <td>429</td>\n",
       "      <td>9.95</td>\n",
       "    </tr>\n",
       "    <tr>\n",
       "      <th>At Risk</th>\n",
       "      <td>93824.70</td>\n",
       "      <td>298.804777</td>\n",
       "      <td>19.449045</td>\n",
       "      <td>1.512739</td>\n",
       "      <td>314</td>\n",
       "      <td>7.28</td>\n",
       "    </tr>\n",
       "    <tr>\n",
       "      <th>Hinernating</th>\n",
       "      <td>146682.47</td>\n",
       "      <td>211.053914</td>\n",
       "      <td>239.513669</td>\n",
       "      <td>1.043165</td>\n",
       "      <td>695</td>\n",
       "      <td>16.12</td>\n",
       "    </tr>\n",
       "  </tbody>\n",
       "</table>\n",
       "</div>"
      ],
      "text/plain": [
       "                    MonetarySum  MonetaryMean     Recency  Frequency  Count  \\\n",
       "Cluster                                                                       \n",
       "Champion             3876030.04  13793.701210    6.370107  25.982206    281   \n",
       "Loyal Costumer       1154850.58   3713.345916   42.475884  10.581994    311   \n",
       "Potential Loyalist   1062273.70   1678.157504   18.075829   5.451817    633   \n",
       "Cannot Lose Them      663690.04   1529.239724  113.877880   4.467742    434   \n",
       "New Customers         519128.69   1522.371525    3.662757   5.351906    341   \n",
       "Promising             279369.35    802.785489   39.525862   2.974138    348   \n",
       "About to Sleep        337515.88    641.665171  196.627376   2.110266    526   \n",
       "Need Atention         155947.70    363.514452   60.165501   1.289044    429   \n",
       "At Risk                93824.70    298.804777   19.449045   1.512739    314   \n",
       "Hinernating           146682.47    211.053914  239.513669   1.043165    695   \n",
       "\n",
       "                    Percentage  \n",
       "Cluster                         \n",
       "Champion                  6.52  \n",
       "Loyal Costumer            7.21  \n",
       "Potential Loyalist       14.68  \n",
       "Cannot Lose Them         10.06  \n",
       "New Customers             7.91  \n",
       "Promising                 8.07  \n",
       "About to Sleep           12.20  \n",
       "Need Atention             9.95  \n",
       "At Risk                   7.28  \n",
       "Hinernating              16.12  "
      ]
     },
     "execution_count": 31,
     "metadata": {},
     "output_type": "execute_result"
    }
   ],
   "source": [
    "report"
   ]
  },
  {
   "cell_type": "markdown",
   "id": "40b6472e",
   "metadata": {},
   "source": [
    "## SQL Lite"
   ]
  },
  {
   "cell_type": "code",
   "execution_count": 32,
   "id": "76e3946b",
   "metadata": {},
   "outputs": [
    {
     "name": "stdout",
     "output_type": "stream",
     "text": [
      "<class 'pandas.core.frame.DataFrame'>\n",
      "Int64Index: 4312 entries, 12347 to 18287\n",
      "Data columns (total 7 columns):\n",
      " #   Column         Non-Null Count  Dtype  \n",
      "---  ------         --------------  -----  \n",
      " 0   GrossRevenue   4312 non-null   float64\n",
      " 1   Recency        4312 non-null   int64  \n",
      " 2   Frequency      4312 non-null   int64  \n",
      " 3   Products       4312 non-null   int64  \n",
      " 4   Items          4312 non-null   int64  \n",
      " 5   Country        4312 non-null   object \n",
      " 6   AvarageTicket  4312 non-null   float64\n",
      "dtypes: float64(2), int64(4), object(1)\n",
      "memory usage: 269.5+ KB\n"
     ]
    }
   ],
   "source": [
    "dp = transactions_per_customer.copy()\n",
    "dp.info()"
   ]
  },
  {
   "cell_type": "code",
   "execution_count": 33,
   "id": "7f299a0c",
   "metadata": {},
   "outputs": [],
   "source": [
    "#endpoint = 'sqlite:///insiders_db.sqlite' #local\n",
    "endpoint = 'sqlite:////Users/Alysson/Documents/Projects/E-Commerce-Clusterization/scr/sqlite/insiders_db.sqlite' #local\n",
    "\n",
    "\n",
    "#C:\\Users\\Alysson\\Documents\\Projects\\E-Commerce-Clusterization\\scr\\models\n",
    "#postgre\n",
    "#endpoint = f'postgresql://{pg_user}:{pg_passwd}@{pg_host}:{pg_port}'\n",
    "#C:\\Users\\Alysson\\Documents\\Projects\\E-Commerce-Clusterization\\notebooks]\n",
    "\n",
    "db = create_engine(endpoint, poolclass=NullPool)\n",
    "conn = db.connect()"
   ]
  },
  {
   "cell_type": "code",
   "execution_count": 34,
   "id": "7d4493f2",
   "metadata": {},
   "outputs": [
    {
     "name": "stdout",
     "output_type": "stream",
     "text": [
      "Table loyals exists!\n"
     ]
    }
   ],
   "source": [
    "#check if table exists on sqlite\n",
    "check_table = \"\"\"\n",
    "     SELECT name FROM sqlite_master WHERE type='table' AND name='insiders';\n",
    " \"\"\"\n",
    "df_check = pd.read_sql_query(check_table, conn)\n",
    "\n",
    "#0 = table does not exist, 1 = table exists\n",
    "if len(df_check) == 0:  \n",
    "    query_create_table_insiders = \"\"\"\n",
    "        CREATE TABLE insiders (\n",
    "            CustomerID               INTEGER,\n",
    "            GrossRevenue             REAL,\n",
    "            Recency                  INTEGER,\n",
    "            Products                 INTEGER,\n",
    "            Cluster                  INTEGER,\n",
    "            LastTraining             TEXT        \n",
    "           ) \"\"\"\n",
    "\n",
    "\n",
    "    conn = sqlite3.connect('insiders_db_sqlite')\n",
    "    conn.execute( query_create_table_insiders )\n",
    "    print('Table loyals was created!')\n",
    "else:\n",
    "    print('Table loyals exists!')"
   ]
  },
  {
   "cell_type": "code",
   "execution_count": 35,
   "id": "52061da1",
   "metadata": {},
   "outputs": [],
   "source": [
    "db = create_engine(endpoint, poolclass=NullPool)\n",
    "dp.to_sql('insiders', con=db, if_exists='append', index=False )#index=False to ignore dataframe index"
   ]
  },
  {
   "cell_type": "code",
   "execution_count": 36,
   "id": "e232d3cd",
   "metadata": {},
   "outputs": [
    {
     "data": {
      "text/html": [
       "<div>\n",
       "<style scoped>\n",
       "    .dataframe tbody tr th:only-of-type {\n",
       "        vertical-align: middle;\n",
       "    }\n",
       "\n",
       "    .dataframe tbody tr th {\n",
       "        vertical-align: top;\n",
       "    }\n",
       "\n",
       "    .dataframe thead th {\n",
       "        text-align: right;\n",
       "    }\n",
       "</style>\n",
       "<table border=\"1\" class=\"dataframe\">\n",
       "  <thead>\n",
       "    <tr style=\"text-align: right;\">\n",
       "      <th></th>\n",
       "      <th>GrossRevenue</th>\n",
       "      <th>Recency</th>\n",
       "      <th>Frequency</th>\n",
       "      <th>Products</th>\n",
       "      <th>Items</th>\n",
       "      <th>Country</th>\n",
       "      <th>AvarageTicket</th>\n",
       "    </tr>\n",
       "  </thead>\n",
       "  <tbody>\n",
       "    <tr>\n",
       "      <th>0</th>\n",
       "      <td>4310.00</td>\n",
       "      <td>3</td>\n",
       "      <td>7</td>\n",
       "      <td>182</td>\n",
       "      <td>2458</td>\n",
       "      <td>Iceland</td>\n",
       "      <td>161.68</td>\n",
       "    </tr>\n",
       "    <tr>\n",
       "      <th>1</th>\n",
       "      <td>1437.24</td>\n",
       "      <td>76</td>\n",
       "      <td>4</td>\n",
       "      <td>23</td>\n",
       "      <td>2332</td>\n",
       "      <td>Finland</td>\n",
       "      <td>308.64</td>\n",
       "    </tr>\n",
       "    <tr>\n",
       "      <th>2</th>\n",
       "      <td>1457.55</td>\n",
       "      <td>19</td>\n",
       "      <td>1</td>\n",
       "      <td>72</td>\n",
       "      <td>630</td>\n",
       "      <td>Italy</td>\n",
       "      <td>20.24</td>\n",
       "    </tr>\n",
       "    <tr>\n",
       "      <th>3</th>\n",
       "      <td>294.40</td>\n",
       "      <td>311</td>\n",
       "      <td>1</td>\n",
       "      <td>16</td>\n",
       "      <td>196</td>\n",
       "      <td>Norway</td>\n",
       "      <td>18.40</td>\n",
       "    </tr>\n",
       "    <tr>\n",
       "      <th>4</th>\n",
       "      <td>1265.41</td>\n",
       "      <td>37</td>\n",
       "      <td>8</td>\n",
       "      <td>84</td>\n",
       "      <td>463</td>\n",
       "      <td>Norway</td>\n",
       "      <td>113.84</td>\n",
       "    </tr>\n",
       "    <tr>\n",
       "      <th>...</th>\n",
       "      <td>...</td>\n",
       "      <td>...</td>\n",
       "      <td>...</td>\n",
       "      <td>...</td>\n",
       "      <td>...</td>\n",
       "      <td>...</td>\n",
       "      <td>...</td>\n",
       "    </tr>\n",
       "    <tr>\n",
       "      <th>12931</th>\n",
       "      <td>180.60</td>\n",
       "      <td>278</td>\n",
       "      <td>1</td>\n",
       "      <td>10</td>\n",
       "      <td>45</td>\n",
       "      <td>United Kingdom</td>\n",
       "      <td>18.06</td>\n",
       "    </tr>\n",
       "    <tr>\n",
       "      <th>12932</th>\n",
       "      <td>80.82</td>\n",
       "      <td>181</td>\n",
       "      <td>1</td>\n",
       "      <td>7</td>\n",
       "      <td>54</td>\n",
       "      <td>United Kingdom</td>\n",
       "      <td>11.55</td>\n",
       "    </tr>\n",
       "    <tr>\n",
       "      <th>12933</th>\n",
       "      <td>176.60</td>\n",
       "      <td>8</td>\n",
       "      <td>3</td>\n",
       "      <td>13</td>\n",
       "      <td>98</td>\n",
       "      <td>United Kingdom</td>\n",
       "      <td>28.44</td>\n",
       "    </tr>\n",
       "    <tr>\n",
       "      <th>12934</th>\n",
       "      <td>2088.93</td>\n",
       "      <td>4</td>\n",
       "      <td>16</td>\n",
       "      <td>687</td>\n",
       "      <td>1395</td>\n",
       "      <td>United Kingdom</td>\n",
       "      <td>48.61</td>\n",
       "    </tr>\n",
       "    <tr>\n",
       "      <th>12935</th>\n",
       "      <td>1837.28</td>\n",
       "      <td>43</td>\n",
       "      <td>3</td>\n",
       "      <td>68</td>\n",
       "      <td>1586</td>\n",
       "      <td>United Kingdom</td>\n",
       "      <td>78.25</td>\n",
       "    </tr>\n",
       "  </tbody>\n",
       "</table>\n",
       "<p>12936 rows × 7 columns</p>\n",
       "</div>"
      ],
      "text/plain": [
       "       GrossRevenue  Recency  Frequency  Products  Items         Country  \\\n",
       "0           4310.00        3          7       182   2458         Iceland   \n",
       "1           1437.24       76          4        23   2332         Finland   \n",
       "2           1457.55       19          1        72    630           Italy   \n",
       "3            294.40      311          1        16    196          Norway   \n",
       "4           1265.41       37          8        84    463          Norway   \n",
       "...             ...      ...        ...       ...    ...             ...   \n",
       "12931        180.60      278          1        10     45  United Kingdom   \n",
       "12932         80.82      181          1         7     54  United Kingdom   \n",
       "12933        176.60        8          3        13     98  United Kingdom   \n",
       "12934       2088.93        4         16       687   1395  United Kingdom   \n",
       "12935       1837.28       43          3        68   1586  United Kingdom   \n",
       "\n",
       "       AvarageTicket  \n",
       "0             161.68  \n",
       "1             308.64  \n",
       "2              20.24  \n",
       "3              18.40  \n",
       "4             113.84  \n",
       "...              ...  \n",
       "12931          18.06  \n",
       "12932          11.55  \n",
       "12933          28.44  \n",
       "12934          48.61  \n",
       "12935          78.25  \n",
       "\n",
       "[12936 rows x 7 columns]"
      ]
     },
     "execution_count": 36,
     "metadata": {},
     "output_type": "execute_result"
    }
   ],
   "source": [
    "#consult database\n",
    "query = \"\"\"\n",
    "    SELECT * FROM insiders\n",
    "\"\"\"\n",
    "df = pd.read_sql_query(query, db)\n",
    "df"
   ]
  },
  {
   "cell_type": "code",
   "execution_count": 37,
   "id": "71f2b902",
   "metadata": {},
   "outputs": [],
   "source": [
    "conn.close()"
   ]
  },
  {
   "cell_type": "code",
   "execution_count": null,
   "id": "abd7c654",
   "metadata": {},
   "outputs": [],
   "source": []
  }
 ],
 "metadata": {
  "hide_input": false,
  "kernelspec": {
   "display_name": "Python 3 (ipykernel)",
   "language": "python",
   "name": "python3"
  },
  "language_info": {
   "codemirror_mode": {
    "name": "ipython",
    "version": 3
   },
   "file_extension": ".py",
   "mimetype": "text/x-python",
   "name": "python",
   "nbconvert_exporter": "python",
   "pygments_lexer": "ipython3",
   "version": "3.9.7"
  },
  "latex_envs": {
   "LaTeX_envs_menu_present": true,
   "autoclose": false,
   "autocomplete": true,
   "bibliofile": "biblio.bib",
   "cite_by": "apalike",
   "current_citInitial": 1,
   "eqLabelWithNumbers": true,
   "eqNumInitial": 1,
   "hotkeys": {
    "equation": "Ctrl-E",
    "itemize": "Ctrl-I"
   },
   "labels_anchors": false,
   "latex_user_defs": false,
   "report_style_numbering": false,
   "user_envs_cfg": false
  }
 },
 "nbformat": 4,
 "nbformat_minor": 5
}
