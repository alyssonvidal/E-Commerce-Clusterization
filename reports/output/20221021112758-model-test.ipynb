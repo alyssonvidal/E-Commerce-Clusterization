{
 "cells": [
  {
   "cell_type": "code",
   "execution_count": null,
   "id": "9720fdf3",
   "metadata": {
    "papermill": {
     "duration": null,
     "end_time": null,
     "exception": null,
     "start_time": null,
     "status": "completed"
    },
    "tags": [
     "injected-parameters"
    ]
   },
   "outputs": [],
   "source": [
    "# Parameters\n",
    "path_model_report_initial = \"2022/10/21/11:27:58\"\n"
   ]
  },
  {
   "cell_type": "code",
   "execution_count": null,
   "id": "2079ee34",
   "metadata": {
    "papermill": {
     "duration": null,
     "end_time": null,
     "exception": null,
     "start_time": null,
     "status": "completed"
    },
    "tags": []
   },
   "outputs": [],
   "source": [
    "import numpy as np\n",
    "import pandas as pd\n",
    "import datetime as dt\n",
    "from datetime import datetime, date, timedelta\n",
    "\n",
    "from sklearn.preprocessing import StandardScaler, MinMaxScaler, RobustScaler, PowerTransformer\n",
    "from scipy.cluster import hierarchy\n",
    "\n",
    "import sqlite3\n",
    "from sqlalchemy               import create_engine\n",
    "from sqlalchemy.pool          import NullPool\n",
    "\n",
    "# from sklearn.decomposition import PCA\n",
    "# from umap.umap_ import UMAP\n",
    "# from sklearn.manifold import TSNE\n",
    "\n",
    "import warnings\n",
    "\n",
    "warnings.simplefilter(action='ignore', category=FutureWarning)"
   ]
  },
  {
   "cell_type": "code",
   "execution_count": null,
   "id": "e4951617",
   "metadata": {
    "papermill": {
     "duration": null,
     "end_time": null,
     "exception": null,
     "start_time": null,
     "status": "completed"
    },
    "tags": []
   },
   "outputs": [],
   "source": [
    "# import papermill as pm\n",
    "\n",
    "# nb = pm.execute_notebook(\"model-deploy.ipynb\", \"model-deploy_2.ipynb\", {\"mill\":\"mill2\"})"
   ]
  },
  {
   "cell_type": "code",
   "execution_count": null,
   "id": "a4b3ba99",
   "metadata": {
    "papermill": {
     "duration": null,
     "end_time": null,
     "exception": null,
     "start_time": null,
     "status": "completed"
    },
    "tags": []
   },
   "outputs": [],
   "source": [
    "PATH = '/Users/Alysson/Documents/Projects/E-Commerce-Clusterization/data/ecommerce.csv'\n",
    "data_raw = pd.read_csv(PATH, encoding='iso-8859-1')\n",
    "data = data_raw.copy()"
   ]
  },
  {
   "cell_type": "code",
   "execution_count": null,
   "id": "a49466e5",
   "metadata": {
    "papermill": {
     "duration": null,
     "end_time": null,
     "exception": null,
     "start_time": null,
     "status": "completed"
    },
    "tags": []
   },
   "outputs": [],
   "source": [
    "data = data.drop('Unnamed: 8', axis=1)\n",
    "data = data.dropna(subset=['CustomerID'])"
   ]
  },
  {
   "cell_type": "code",
   "execution_count": null,
   "id": "16530d23",
   "metadata": {
    "papermill": {
     "duration": null,
     "end_time": null,
     "exception": null,
     "start_time": null,
     "status": "completed"
    },
    "tags": []
   },
   "outputs": [],
   "source": [
    "data['InvoiceDate'] = pd.to_datetime(data['InvoiceDate'], format='%d-%b-%y')\n",
    "data['CustomerID'] = data['CustomerID'].astype(int)\n",
    "\n",
    "data['Total'] = data['Quantity'] * data['UnitPrice']"
   ]
  },
  {
   "cell_type": "code",
   "execution_count": null,
   "id": "e8944ff1",
   "metadata": {
    "papermill": {
     "duration": null,
     "end_time": null,
     "exception": null,
     "start_time": null,
     "status": "completed"
    },
    "tags": []
   },
   "outputs": [],
   "source": [
    "sum_transactions_per_client=data[['CustomerID','Total','Quantity']].groupby('CustomerID').agg({'Total':np.sum,\n",
    "                                                                 'Quantity':np.sum,                               \n",
    "                                                                 #'CustomerID':np.unique                                                                                    \n",
    "                                                                 }).reset_index()"
   ]
  },
  {
   "cell_type": "code",
   "execution_count": null,
   "id": "5af3aad5",
   "metadata": {
    "papermill": {
     "duration": null,
     "end_time": null,
     "exception": null,
     "start_time": null,
     "status": "completed"
    },
    "tags": []
   },
   "outputs": [],
   "source": [
    "#Customers who do not have a positive purchase balance or who owe the company (due to the temporal cut of the database) will be excluded\n",
    "\n",
    "bad_clients = sum_transactions_per_client.loc[(sum_transactions_per_client['Total'] <= 0.5) | (sum_transactions_per_client['Quantity'] <= 1)]"
   ]
  },
  {
   "cell_type": "code",
   "execution_count": null,
   "id": "c4ccee4b",
   "metadata": {
    "papermill": {
     "duration": null,
     "end_time": null,
     "exception": null,
     "start_time": null,
     "status": "completed"
    },
    "tags": []
   },
   "outputs": [],
   "source": [
    "list_bad_clients=bad_clients['CustomerID'].tolist()\n",
    "data = data[~data['CustomerID'].isin(list_bad_clients)]"
   ]
  },
  {
   "cell_type": "code",
   "execution_count": null,
   "id": "b1f13f45",
   "metadata": {
    "papermill": {
     "duration": null,
     "end_time": null,
     "exception": null,
     "start_time": null,
     "status": "completed"
    },
    "tags": []
   },
   "outputs": [],
   "source": [
    "data = data.loc[~(data['UnitPrice'] < 0.04)]"
   ]
  },
  {
   "cell_type": "code",
   "execution_count": null,
   "id": "1f654576",
   "metadata": {
    "papermill": {
     "duration": null,
     "end_time": null,
     "exception": null,
     "start_time": null,
     "status": "completed"
    },
    "tags": []
   },
   "outputs": [],
   "source": [
    "list_letter_stock=data[data.StockCode.str.contains(\"^[a-zA-Z]\")].StockCode.value_counts().index.tolist()"
   ]
  },
  {
   "cell_type": "code",
   "execution_count": null,
   "id": "0b22cc4e",
   "metadata": {
    "papermill": {
     "duration": null,
     "end_time": null,
     "exception": null,
     "start_time": null,
     "status": "completed"
    },
    "tags": []
   },
   "outputs": [],
   "source": [
    "data = data.loc[~data['StockCode'].isin(list_letter_stock)]"
   ]
  },
  {
   "cell_type": "code",
   "execution_count": null,
   "id": "b1ca04ff",
   "metadata": {
    "papermill": {
     "duration": null,
     "end_time": null,
     "exception": null,
     "start_time": null,
     "status": "completed"
    },
    "tags": []
   },
   "outputs": [],
   "source": [
    "transactions = data.copy()"
   ]
  },
  {
   "cell_type": "code",
   "execution_count": null,
   "id": "84bcac77",
   "metadata": {
    "papermill": {
     "duration": null,
     "end_time": null,
     "exception": null,
     "start_time": null,
     "status": "completed"
    },
    "tags": []
   },
   "outputs": [],
   "source": [
    "#Group InvoiceNumber, it contains sales and cancelations\n",
    "\n",
    "transactions=data.groupby('InvoiceNo').agg( CustomerID = ('CustomerID', np.unique),\n",
    "                                            InvoiceDate = ('InvoiceDate', np.unique),\n",
    "                                            Total = ('Total', 'sum'),\n",
    "                                            UniqueProducts = ('StockCode', 'nunique'), \n",
    "                                            Items = ('Quantity', 'sum'),\n",
    "                                            Country = ('Country', np.unique),\n",
    "                                            ProductsCode = ('StockCode', np.unique)).reset_index()\n",
    "\n",
    "transactions['AvarageTicket']= round(transactions['Total']/transactions['UniqueProducts'],2) \n",
    "#len(transactions)"
   ]
  },
  {
   "cell_type": "code",
   "execution_count": null,
   "id": "bce68312",
   "metadata": {
    "papermill": {
     "duration": null,
     "end_time": null,
     "exception": null,
     "start_time": null,
     "status": "completed"
    },
    "tags": []
   },
   "outputs": [],
   "source": [
    "last_day = data.InvoiceDate.max() + dt.timedelta(days = 1)\n",
    "\n",
    "transactions_per_customer = transactions.groupby('CustomerID').agg(\n",
    "                                                      GrossRevenue = ('Total', np.sum),                                           \n",
    "                                                      Recency = ('InvoiceDate', lambda x: ((last_day - x.max()).days)),             \n",
    "                                                      Frequency = ('InvoiceNo', 'count'),             \n",
    "                                                      Products = ('UniqueProducts', 'sum'), \n",
    "                                                      Items = ('Items', 'sum'),  \n",
    "                                                      Country = ('Country', np.unique),\n",
    "                                                      AvarageTicket = ('AvarageTicket', 'sum'))            \n",
    "                                                      #Products = ('StockCode', np.unique),\n",
    "                                                                   \n",
    "#transactions_per_customer['AvarageTicket']= round(transactions_per_customer['GrossRevenue'] / transactions_per_customer['Products'],2)"
   ]
  },
  {
   "cell_type": "markdown",
   "id": "67739368",
   "metadata": {
    "papermill": {
     "duration": null,
     "end_time": null,
     "exception": null,
     "start_time": null,
     "status": "completed"
    },
    "tags": []
   },
   "source": [
    "## Data Preparation"
   ]
  },
  {
   "cell_type": "code",
   "execution_count": null,
   "id": "0fcd2842",
   "metadata": {
    "papermill": {
     "duration": null,
     "end_time": null,
     "exception": null,
     "start_time": null,
     "status": "completed"
    },
    "tags": []
   },
   "outputs": [],
   "source": [
    "data_prep = transactions_per_customer.copy()"
   ]
  },
  {
   "cell_type": "code",
   "execution_count": null,
   "id": "2009cee1",
   "metadata": {
    "papermill": {
     "duration": null,
     "end_time": null,
     "exception": null,
     "start_time": null,
     "status": "completed"
    },
    "tags": []
   },
   "outputs": [],
   "source": [
    "data_prep=data_prep.dropna()"
   ]
  },
  {
   "cell_type": "code",
   "execution_count": null,
   "id": "1a7e6338",
   "metadata": {
    "papermill": {
     "duration": null,
     "end_time": null,
     "exception": null,
     "start_time": null,
     "status": "completed"
    },
    "tags": []
   },
   "outputs": [],
   "source": [
    "categorical_features = ['Country']\n",
    "numerical_features = ['GrossRevenue', 'Items', 'AvarageTicket', \"Products\", 'Frequency', \"Recency\"]\n",
    "\n",
    "#data_prep[\"Country\"] = [0 if i == 'Norway' else 1 for i in data_prep[\"Country\"]]\n",
    "\n",
    "default_features = data_prep.columns\n",
    "selected_features = ['GrossRevenue','Recency','Frequency']\n",
    "\n",
    "data_prep=data_prep[selected_features].copy() "
   ]
  },
  {
   "cell_type": "code",
   "execution_count": null,
   "id": "902a9902",
   "metadata": {
    "papermill": {
     "duration": null,
     "end_time": null,
     "exception": null,
     "start_time": null,
     "status": "completed"
    },
    "tags": []
   },
   "outputs": [],
   "source": [
    "log_columns = data_prep[selected_features].skew().sort_values(ascending=False)\n",
    "log_columns = log_columns.loc[log_columns > 0.75]\n",
    "log_columns"
   ]
  },
  {
   "cell_type": "code",
   "execution_count": null,
   "id": "c83aaba4",
   "metadata": {
    "papermill": {
     "duration": null,
     "end_time": null,
     "exception": null,
     "start_time": null,
     "status": "completed"
    },
    "tags": []
   },
   "outputs": [],
   "source": [
    "# The log transformations\n",
    "for col in log_columns.index:\n",
    "    data_prep[col] = np.log1p(data_prep[col])"
   ]
  },
  {
   "cell_type": "code",
   "execution_count": null,
   "id": "34f9706c",
   "metadata": {
    "papermill": {
     "duration": null,
     "end_time": null,
     "exception": null,
     "start_time": null,
     "status": "completed"
    },
    "tags": []
   },
   "outputs": [],
   "source": [
    "#ss = StandardScaler()\n",
    "#rs = RobustScaler()\n",
    "#pt = PowerTransformer()\n",
    "\n",
    "# MinmmaxScaler provides better resutls mainly because is robbust to outliers\n",
    "mms = MinMaxScaler()\n",
    "\n",
    "for col in data_prep[selected_features]:\n",
    "    data_prep[col] = mms.fit_transform(data_prep[[col]]).squeeze()\n",
    "    \n",
    "X = data_prep[selected_features].copy() "
   ]
  },
  {
   "cell_type": "code",
   "execution_count": null,
   "id": "d8de2d68",
   "metadata": {
    "papermill": {
     "duration": null,
     "end_time": null,
     "exception": null,
     "start_time": null,
     "status": "completed"
    },
    "tags": []
   },
   "outputs": [],
   "source": [
    "clusters_results = X.copy()"
   ]
  },
  {
   "cell_type": "code",
   "execution_count": null,
   "id": "4c8664bc",
   "metadata": {
    "papermill": {
     "duration": null,
     "end_time": null,
     "exception": null,
     "start_time": null,
     "status": "completed"
    },
    "tags": []
   },
   "outputs": [],
   "source": [
    "# # Dimensionality Reduction(to 2D) using technique UMAP \n",
    "# umap = UMAP(random_state=3456)\n",
    "# umap_embedding = umap.fit_transform(X)\n",
    "\n",
    "# # X,y axis representation for UMAP\n",
    "# clusters_results['umap_x'] = umap_embedding[:,0]\n",
    "# clusters_results['umap_y'] = umap_embedding[:,1]"
   ]
  },
  {
   "cell_type": "code",
   "execution_count": null,
   "id": "51d8137b",
   "metadata": {
    "papermill": {
     "duration": null,
     "end_time": null,
     "exception": null,
     "start_time": null,
     "status": "completed"
    },
    "tags": []
   },
   "outputs": [],
   "source": [
    "# # Dimensionality Reduction(to 2D) using technique TSNE\n",
    "# tsne = TSNE(n_components=2, init='pca', learning_rate='auto', n_jobs=-1, random_state=3456)\n",
    "# tsne_embedding = tsne.fit_transform(X)\n",
    "\n",
    "# # X,y axis representation using TSNE\n",
    "# clusters_results['tsne_x'] = tsne_embedding[:,0]\n",
    "# clusters_results['tsne_y'] = tsne_embedding[:,1]"
   ]
  },
  {
   "cell_type": "markdown",
   "id": "94d9517e",
   "metadata": {
    "papermill": {
     "duration": null,
     "end_time": null,
     "exception": null,
     "start_time": null,
     "status": "completed"
    },
    "tags": []
   },
   "source": [
    "## Model - Hierachical Cluster"
   ]
  },
  {
   "cell_type": "code",
   "execution_count": null,
   "id": "4632fdd2",
   "metadata": {
    "papermill": {
     "duration": null,
     "end_time": null,
     "exception": null,
     "start_time": null,
     "status": "completed"
    },
    "tags": []
   },
   "outputs": [],
   "source": [
    "k=10\n",
    "#hc = AgglomerativeClustering(k, affinity='euclidean', linkage='complete', compute_full_tree=False)\n",
    "hc = hierarchy.linkage(X, 'ward', metric='euclidean')\n",
    "hc_labels = hierarchy.fcluster(hc, k, criterion='maxclust')\n",
    "clusters_results[\"HierarchicalCluster\"]=hc_labels"
   ]
  },
  {
   "cell_type": "code",
   "execution_count": null,
   "id": "9376cda6",
   "metadata": {
    "papermill": {
     "duration": null,
     "end_time": null,
     "exception": null,
     "start_time": null,
     "status": "completed"
    },
    "tags": []
   },
   "outputs": [],
   "source": [
    "all_clusters=transactions_per_customer.copy()"
   ]
  },
  {
   "cell_type": "code",
   "execution_count": null,
   "id": "e37a2a8c",
   "metadata": {
    "papermill": {
     "duration": null,
     "end_time": null,
     "exception": null,
     "start_time": null,
     "status": "completed"
    },
    "tags": []
   },
   "outputs": [],
   "source": [
    "all_clusters['HC'] = hc_labels"
   ]
  },
  {
   "cell_type": "code",
   "execution_count": null,
   "id": "d1d4fc4a",
   "metadata": {
    "papermill": {
     "duration": null,
     "end_time": null,
     "exception": null,
     "start_time": null,
     "status": "completed"
    },
    "tags": []
   },
   "outputs": [],
   "source": [
    "all_clusters[['GrossRevenue','Recency','Frequency','HC']].groupby('HC').mean().sort_values(by='GrossRevenue', ascending=False).head(20)"
   ]
  },
  {
   "cell_type": "code",
   "execution_count": null,
   "id": "8c3f8c82",
   "metadata": {
    "papermill": {
     "duration": null,
     "end_time": null,
     "exception": null,
     "start_time": null,
     "status": "completed"
    },
    "tags": []
   },
   "outputs": [],
   "source": [
    "report = all_clusters[['GrossRevenue','Recency','Frequency','HC']].groupby('HC').agg( MonetarySum = ('GrossRevenue', 'sum'),\n",
    "                                             MonetaryMean = ('GrossRevenue', 'mean'),\n",
    "                                             Recency = ('Recency', 'mean'),\n",
    "                                             Frequency = ('Frequency', 'mean'),\n",
    "                                             Count = ('GrossRevenue', 'count')).reset_index()\n",
    "\n",
    "report['Percentage'] = round((report['Count'] / report['Count'].sum()*100),2)\n",
    "report=report.sort_values(by='MonetaryMean', ascending=False)"
   ]
  },
  {
   "cell_type": "code",
   "execution_count": null,
   "id": "7238c0f0",
   "metadata": {
    "papermill": {
     "duration": null,
     "end_time": null,
     "exception": null,
     "start_time": null,
     "status": "completed"
    },
    "tags": []
   },
   "outputs": [],
   "source": [
    "report['Cluster'] = ['Champion', #3\n",
    "                     'Loyal Costumer', #4\n",
    "                     'Potential Loyalist',#1\n",
    "                     'Cannot Lose Them', #7 \n",
    "                     'New Customers', #9\n",
    "                     'Promising', #5\n",
    "                     'About to Sleep',    #2               \n",
    "                     'Need Atention', #10\n",
    "                     'At Risk',   #8\n",
    "                     'Hinernating']   #6"
   ]
  },
  {
   "cell_type": "code",
   "execution_count": null,
   "id": "30d10c9f",
   "metadata": {
    "papermill": {
     "duration": null,
     "end_time": null,
     "exception": null,
     "start_time": null,
     "status": "completed"
    },
    "tags": []
   },
   "outputs": [],
   "source": [
    "report.set_index('Cluster', inplace=True)\n",
    "report.drop('HC', axis=1,inplace=True)"
   ]
  },
  {
   "cell_type": "code",
   "execution_count": null,
   "id": "f3a3904e",
   "metadata": {
    "papermill": {
     "duration": null,
     "end_time": null,
     "exception": null,
     "start_time": null,
     "status": "completed"
    },
    "tags": []
   },
   "outputs": [],
   "source": [
    "report"
   ]
  },
  {
   "cell_type": "markdown",
   "id": "40b6472e",
   "metadata": {
    "papermill": {
     "duration": null,
     "end_time": null,
     "exception": null,
     "start_time": null,
     "status": "completed"
    },
    "tags": []
   },
   "source": [
    "## SQL Lite"
   ]
  },
  {
   "cell_type": "code",
   "execution_count": null,
   "id": "76e3946b",
   "metadata": {
    "papermill": {
     "duration": null,
     "end_time": null,
     "exception": null,
     "start_time": null,
     "status": "completed"
    },
    "tags": []
   },
   "outputs": [],
   "source": [
    "dp = transactions_per_customer.copy()\n",
    "dp.info()"
   ]
  },
  {
   "cell_type": "code",
   "execution_count": null,
   "id": "7f299a0c",
   "metadata": {
    "papermill": {
     "duration": null,
     "end_time": null,
     "exception": null,
     "start_time": null,
     "status": "completed"
    },
    "tags": []
   },
   "outputs": [],
   "source": [
    "#endpoint = 'sqlite:///insiders_db.sqlite' #local\n",
    "endpoint = 'sqlite:////Users/Alysson/Documents/Projects/E-Commerce-Clusterization/scr/sqlite/insiders_db.sqlite' #local\n",
    "\n",
    "\n",
    "#C:\\Users\\Alysson\\Documents\\Projects\\E-Commerce-Clusterization\\scr\\models\n",
    "#postgre\n",
    "#endpoint = f'postgresql://{pg_user}:{pg_passwd}@{pg_host}:{pg_port}'\n",
    "#C:\\Users\\Alysson\\Documents\\Projects\\E-Commerce-Clusterization\\notebooks]\n",
    "\n",
    "db = create_engine(endpoint, poolclass=NullPool)\n",
    "conn = db.connect()"
   ]
  },
  {
   "cell_type": "code",
   "execution_count": null,
   "id": "7d4493f2",
   "metadata": {
    "papermill": {
     "duration": null,
     "end_time": null,
     "exception": null,
     "start_time": null,
     "status": "completed"
    },
    "tags": []
   },
   "outputs": [],
   "source": [
    "#check if table exists on sqlite\n",
    "check_table = \"\"\"\n",
    "     SELECT name FROM sqlite_master WHERE type='table' AND name='insiders';\n",
    " \"\"\"\n",
    "df_check = pd.read_sql_query(check_table, conn)\n",
    "\n",
    "#0 = table does not exist, 1 = table exists\n",
    "if len(df_check) == 0:  \n",
    "    query_create_table_insiders = \"\"\"\n",
    "        CREATE TABLE insiders (\n",
    "            CustomerID               INTEGER,\n",
    "            GrossRevenue             REAL,\n",
    "            Recency                  INTEGER,\n",
    "            Products                 INTEGER,\n",
    "            Cluster                  INTEGER,\n",
    "            LastTraining             TEXT        \n",
    "           ) \"\"\"\n",
    "\n",
    "\n",
    "    conn = sqlite3.connect('insiders_db_sqlite')\n",
    "    conn.execute( query_create_table_insiders )\n",
    "    print('Table loyals was created!')\n",
    "else:\n",
    "    print('Table loyals exists!')"
   ]
  },
  {
   "cell_type": "code",
   "execution_count": null,
   "id": "52061da1",
   "metadata": {
    "papermill": {
     "duration": null,
     "end_time": null,
     "exception": null,
     "start_time": null,
     "status": "completed"
    },
    "tags": []
   },
   "outputs": [],
   "source": [
    "db = create_engine(endpoint, poolclass=NullPool)\n",
    "dp.to_sql('insiders', con=db, if_exists='append', index=False )#index=False to ignore dataframe index"
   ]
  },
  {
   "cell_type": "code",
   "execution_count": null,
   "id": "e232d3cd",
   "metadata": {
    "papermill": {
     "duration": null,
     "end_time": null,
     "exception": null,
     "start_time": null,
     "status": "completed"
    },
    "tags": []
   },
   "outputs": [],
   "source": [
    "#consult database\n",
    "query = \"\"\"\n",
    "    SELECT * FROM insiders\n",
    "\"\"\"\n",
    "df = pd.read_sql_query(query, db)\n",
    "df"
   ]
  },
  {
   "cell_type": "code",
   "execution_count": null,
   "id": "71f2b902",
   "metadata": {
    "papermill": {
     "duration": null,
     "end_time": null,
     "exception": null,
     "start_time": null,
     "status": "completed"
    },
    "tags": []
   },
   "outputs": [],
   "source": [
    "conn.close()"
   ]
  },
  {
   "cell_type": "code",
   "execution_count": null,
   "id": "abd7c654",
   "metadata": {
    "papermill": {
     "duration": null,
     "end_time": null,
     "exception": null,
     "start_time": null,
     "status": "completed"
    },
    "tags": []
   },
   "outputs": [],
   "source": []
  }
 ],
 "metadata": {
  "hide_input": false,
  "kernelspec": {
   "display_name": "Python 3 (ipykernel)",
   "language": "python",
   "name": "python3"
  },
  "language_info": {
   "codemirror_mode": {
    "name": "ipython",
    "version": 3
   },
   "file_extension": ".py",
   "mimetype": "text/x-python",
   "name": "python",
   "nbconvert_exporter": "python",
   "pygments_lexer": "ipython3",
   "version": "3.9.7"
  },
  "latex_envs": {
   "LaTeX_envs_menu_present": true,
   "autoclose": false,
   "autocomplete": true,
   "bibliofile": "biblio.bib",
   "cite_by": "apalike",
   "current_citInitial": 1,
   "eqLabelWithNumbers": true,
   "eqNumInitial": 1,
   "hotkeys": {
    "equation": "Ctrl-E",
    "itemize": "Ctrl-I"
   },
   "labels_anchors": false,
   "latex_user_defs": false,
   "report_style_numbering": false,
   "user_envs_cfg": false
  },
  "papermill": {
   "default_parameters": {},
   "duration": 0.014999,
   "end_time": "2022-10-21T14:28:10.645267",
   "environment_variables": {},
   "exception": null,
   "input_path": "/Users/Alysson/Documents/Projects/E-Commerce-Clusterization/scr/models/model-deploy.ipynb",
   "output_path": "/Users/Alysson/Documents/Projects/E-Commerce-Clusterization/reports/output/20221021112758-model-test.ipynb",
   "parameters": {
    "path_model_report_initial": "2022/10/21/11:27:58"
   },
   "start_time": "2022-10-21T14:28:10.630268",
   "version": "2.4.0"
  }
 },
 "nbformat": 4,
 "nbformat_minor": 5
}